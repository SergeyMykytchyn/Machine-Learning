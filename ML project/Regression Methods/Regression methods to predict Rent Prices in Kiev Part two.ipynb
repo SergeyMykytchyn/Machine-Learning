{
 "cells": [
  {
   "cell_type": "markdown",
   "metadata": {},
   "source": [
    "# This notebook is the hand implementation of the regression methods such as Lasso, Elastic Net and Polynomial Ridge Regression"
   ]
  },
  {
   "cell_type": "code",
   "execution_count": 1,
   "metadata": {},
   "outputs": [],
   "source": [
    "import numpy as np\n",
    "import pandas as pd\n",
    "from itertools import combinations_with_replacement\n",
    "from sklearn.model_selection import train_test_split\n",
    "from sklearn.metrics import mean_squared_error\n",
    "from tqdm import tqdm"
   ]
  },
  {
   "cell_type": "markdown",
   "metadata": {},
   "source": [
    "# Help functions for regression models"
   ]
  },
  {
   "cell_type": "code",
   "execution_count": 2,
   "metadata": {},
   "outputs": [],
   "source": [
    "def add_poly_features(X, degree):\n",
    "    \"\"\" This function adds additional polynomial features to data \"\"\"\n",
    "    \n",
    "    n_samples_in, n_features_in = np.shape(X)\n",
    "    \n",
    "    combs_of_deg = [combinations_with_replacement(range(n_features_in), i) for i in range(0, degree + 1)]\n",
    "    deg_combs = [deg for deglist in combs_of_deg for deg in deglist]\n",
    "    \n",
    "    n_features_out = len(deg_combs)\n",
    "    X_out = np.empty((n_samples_in, n_features_out))\n",
    "    \n",
    "    for i, deg_pair in enumerate(deg_combs):  \n",
    "        X_out[:, i] = np.prod(X[:, deg_pair], axis=1)\n",
    "\n",
    "    return X_out"
   ]
  },
  {
   "cell_type": "code",
   "execution_count": 3,
   "metadata": {},
   "outputs": [],
   "source": [
    "def scale_data(X):\n",
    "    \"\"\" This function scales input data by feature separately \"\"\"\n",
    "    \n",
    "    norms = np.linalg.norm(X, ord = 2, axis = -1)\n",
    "    return X / np.expand_dims(norms, -1)"
   ]
  },
  {
   "cell_type": "markdown",
   "metadata": {},
   "source": [
    "# Penalty terms for regression models"
   ]
  },
  {
   "cell_type": "code",
   "execution_count": 4,
   "metadata": {},
   "outputs": [],
   "source": [
    "class lasso_penalty_term():\n",
    "    \"\"\" Class of Lasso penalty term i.e 'absolute value of magnitude' \"\"\"\n",
    "    \n",
    "    def __init__(self, lamb):\n",
    "        self.lamb = lamb\n",
    "    \n",
    "    def __call__(self, w):\n",
    "        return self.lamb * np.linalg.norm(w)\n",
    "\n",
    "    def grad(self, w):\n",
    "        return self.lamb * np.sign(w)"
   ]
  },
  {
   "cell_type": "code",
   "execution_count": 5,
   "metadata": {},
   "outputs": [],
   "source": [
    "class poly_ridge_regression_penalty_term():\n",
    "    \"\"\" Class of Polynomial Ridge Regression penalty term i.e 'squared magnitude' \"\"\"\n",
    "    \n",
    "    def __init__(self, lamb):\n",
    "        self.lamb = lamb\n",
    "    \n",
    "    def __call__(self, w):\n",
    "        return (self.lamb / 2) * w.T @ w\n",
    "\n",
    "    def grad(self, w):\n",
    "        return self.lamb * w"
   ]
  },
  {
   "cell_type": "code",
   "execution_count": 6,
   "metadata": {},
   "outputs": [],
   "source": [
    "class elastic_net_penalty_term():\n",
    "    \"\"\" Class of Elastic Net penalty term \"\"\"\n",
    "    \n",
    "    def __init__(self, lamb, l1_factor = 0.5):\n",
    "        self.lamb = lamb\n",
    "        self.l1_factor = l1_factor\n",
    "\n",
    "    def __call__(self, w):\n",
    "        l1_term = self.l1_factor * np.linalg.norm(w)\n",
    "        l2_term = (1 - self.l1_factor)/2 * w.T @ w \n",
    "        return self.lamb * (l1_term + l2_term)\n",
    "\n",
    "    def grad(self, w):\n",
    "        l1_term = self.l1_factor * np.sign(w)\n",
    "        l2_term = (1 - self.l1_factor) * w\n",
    "        return self.lamb * (l1_term + l2_term)"
   ]
  },
  {
   "cell_type": "markdown",
   "metadata": {},
   "source": [
    "# Main Regression Class"
   ]
  },
  {
   "cell_type": "code",
   "execution_count": 7,
   "metadata": {},
   "outputs": [],
   "source": [
    "class Regression(object):\n",
    "    \"\"\" Implementation of Regression Class that is super for LassoRegression, \n",
    "    PolynomialRegression and ElasticNetRegression. It uses one of the penalty term in fit function \"\"\"\n",
    "    \n",
    "    def __init__(self, learning_rate, n_iterations):\n",
    "        self.learning_rate = learning_rate\n",
    "        self.n_iterations = n_iterations\n",
    "\n",
    "    def init_weights(self, n_features):\n",
    "        self.w = np.random.randn(n_features)\n",
    "\n",
    "    def fit(self, X, y):\n",
    "        # Add bias parameters and initialize weights\n",
    "        X = np.insert(X, 0, 1, axis = 1)\n",
    "        \n",
    "        self.init_weights(n_features = X.shape[1])\n",
    "        \n",
    "        self.loss = []\n",
    "        \n",
    "        # Gradient descend for n_iterations\n",
    "        for i in tqdm(range(self.n_iterations)):\n",
    "            y_pred = X @ self.w\n",
    "\n",
    "            mse = np.mean(0.5 * (y - y_pred)**2 + self.regularization(self.w))\n",
    "            self.loss.append(mse)\n",
    "            \n",
    "            grad_w = - (y - y_pred) @ X + self.regularization.grad(self.w)\n",
    "            \n",
    "            # Update the weights\n",
    "            self.w -= self.learning_rate * grad_w\n",
    "            \n",
    "    def predict(self, X):\n",
    "        # Add bias parameters\n",
    "        X = np.insert(X, 0, 1, axis=1)\n",
    "        y_pred = X @ self.w\n",
    "        return y_pred"
   ]
  },
  {
   "cell_type": "markdown",
   "metadata": {},
   "source": [
    "# Lasso Regression Class"
   ]
  },
  {
   "cell_type": "code",
   "execution_count": 8,
   "metadata": {},
   "outputs": [],
   "source": [
    "class LassoRegression(Regression):\n",
    "    \"\"\" Implementation of Lasso Regression Class that uses lasso penalty term \n",
    "                    i.e l1 penalty as regularization in fit function \"\"\"\n",
    "    \n",
    "    def __init__(self, learning_rate = 1e-5, n_iterations = 100000, degree = 1, reg_factor = 1e-5):\n",
    "        self.degree = degree\n",
    "        self.regularization = lasso_penalty_term(lamb = reg_factor)\n",
    "        super(LassoRegression, self).__init__(learning_rate, n_iterations)\n",
    "\n",
    "    def fit(self, X, y):\n",
    "        X = scale_data(add_poly_features(X, degree = self.degree))\n",
    "        super(LassoRegression, self).fit(X, y)\n",
    "\n",
    "    def predict(self, X):\n",
    "        X = scale_data(add_poly_features(X, degree = self.degree))\n",
    "        return super(LassoRegression, self).predict(X)"
   ]
  },
  {
   "cell_type": "markdown",
   "metadata": {},
   "source": [
    "# Polynomial Ridge Regression Class"
   ]
  },
  {
   "cell_type": "code",
   "execution_count": 9,
   "metadata": {},
   "outputs": [],
   "source": [
    "class PolynomialRidgeRegression(Regression):\n",
    "    \"\"\" Implementation of Polynomial Ridge Regression that uses ridge regression penalty term\n",
    "                    i.e l1 penalty as regularization in fit function \"\"\"\n",
    "\n",
    "    def __init__(self, learning_rate = 1e-5, n_iterations = 100000, degree = 1, reg_factor = 1e-5):\n",
    "        self.degree = degree\n",
    "        self.regularization = poly_ridge_regression_penalty_term(lamb = reg_factor)\n",
    "        super(PolynomialRidgeRegression, self).__init__(learning_rate, n_iterations)\n",
    "\n",
    "    def fit(self, X, y):\n",
    "        X = scale_data(add_poly_features(X, degree = self.degree))\n",
    "        super(PolynomialRidgeRegression, self).fit(X, y)\n",
    "\n",
    "    def predict(self, X):\n",
    "        X = scale_data(add_poly_features(X, degree = self.degree))\n",
    "        return super(PolynomialRidgeRegression, self).predict(X)"
   ]
  },
  {
   "cell_type": "markdown",
   "metadata": {},
   "source": [
    "# Elastic Net Regression Class"
   ]
  },
  {
   "cell_type": "code",
   "execution_count": 10,
   "metadata": {},
   "outputs": [],
   "source": [
    "class ElasticNet(Regression):\n",
    "    \"\"\" Implementation of Elastic Net Regression that uses elastic net penalty term in fit function \"\"\"\n",
    "    \n",
    "    def __init__(self, learning_rate = 1e-5, n_iterations = 100000, degree = 1, reg_factor = 1e-5, l1_factor = 0.5):\n",
    "        self.degree = degree\n",
    "        self.regularization = elastic_net_penalty_term(lamb = reg_factor, l1_factor = l1_factor)\n",
    "        super(ElasticNet, self).__init__(learning_rate, n_iterations)\n",
    "\n",
    "    def fit(self, X, y):\n",
    "        X = scale_data(add_poly_features(X, degree = self.degree))\n",
    "        super(ElasticNet, self).fit(X, y)\n",
    "\n",
    "    def predict(self, X):\n",
    "        X = scale_data(add_poly_features(X, degree = self.degree))\n",
    "        return super(ElasticNet, self).predict(X)"
   ]
  },
  {
   "cell_type": "markdown",
   "metadata": {},
   "source": [
    "# Reading Prepared Data from first notebook"
   ]
  },
  {
   "cell_type": "code",
   "execution_count": 11,
   "metadata": {},
   "outputs": [],
   "source": [
    "data = pd.read_csv('data_prepared.csv')\n",
    "data = data.drop('Unnamed: 0', axis = 1)"
   ]
  },
  {
   "cell_type": "code",
   "execution_count": 12,
   "metadata": {},
   "outputs": [],
   "source": [
    "X = data.drop('Price', axis = 1).values\n",
    "y = data.Price.values"
   ]
  },
  {
   "cell_type": "code",
   "execution_count": 13,
   "metadata": {},
   "outputs": [],
   "source": [
    "X_train, X_test, y_train, y_test = train_test_split(X, y ,test_size=0.1)"
   ]
  },
  {
   "cell_type": "code",
   "execution_count": 14,
   "metadata": {},
   "outputs": [],
   "source": [
    "def RMSE(y1, y2):\n",
    "    return np.sqrt(mean_squared_error(y1, y2))"
   ]
  },
  {
   "cell_type": "markdown",
   "metadata": {},
   "source": [
    "# Initializing and Evaluating Regression Models"
   ]
  },
  {
   "cell_type": "code",
   "execution_count": 15,
   "metadata": {},
   "outputs": [],
   "source": [
    "lasso = LassoRegression(n_iterations=1000000)\n",
    "PolyRR = PolynomialRidgeRegression(n_iterations=1000000)\n",
    "Elnet = ElasticNet(n_iterations=1000000)"
   ]
  },
  {
   "cell_type": "markdown",
   "metadata": {},
   "source": [
    "## Lasso"
   ]
  },
  {
   "cell_type": "code",
   "execution_count": 16,
   "metadata": {},
   "outputs": [
    {
     "name": "stderr",
     "output_type": "stream",
     "text": [
      "100%|█████████████████████████████████████████████████████████████████████| 1000000/1000000 [01:11<00:00, 14026.37it/s]\n"
     ]
    }
   ],
   "source": [
    "lasso.fit(X_train, y_train)"
   ]
  },
  {
   "cell_type": "code",
   "execution_count": 17,
   "metadata": {},
   "outputs": [
    {
     "name": "stdout",
     "output_type": "stream",
     "text": [
      "Lasso RMSE score on Train data:  0.43127566895232505\n",
      "Lasso RMSE score on Test data:  0.4208689070969225\n"
     ]
    }
   ],
   "source": [
    "y_pred = lasso.predict(X_train)\n",
    "print(\"Lasso RMSE score on Train data: \", RMSE(y_pred, y_train))\n",
    "y_pred = lasso.predict(X_test)\n",
    "print(\"Lasso RMSE score on Test data: \", RMSE(y_pred, y_test))"
   ]
  },
  {
   "cell_type": "markdown",
   "metadata": {},
   "source": [
    "## Elastic Net"
   ]
  },
  {
   "cell_type": "code",
   "execution_count": 18,
   "metadata": {},
   "outputs": [
    {
     "name": "stderr",
     "output_type": "stream",
     "text": [
      "100%|█████████████████████████████████████████████████████████████████████| 1000000/1000000 [01:19<00:00, 12524.20it/s]\n"
     ]
    }
   ],
   "source": [
    "Elnet.fit(X_train, y_train)"
   ]
  },
  {
   "cell_type": "code",
   "execution_count": 19,
   "metadata": {},
   "outputs": [
    {
     "name": "stdout",
     "output_type": "stream",
     "text": [
      "Elastic Net RMSE score on Train data:  0.4316505865248443\n",
      "Elastic Net RMSE score on Test data:  0.42112741049947955\n"
     ]
    }
   ],
   "source": [
    "y_pred = Elnet.predict(X_train)\n",
    "print(\"Elastic Net RMSE score on Train data: \", RMSE(y_pred, y_train))\n",
    "y_pred = Elnet.predict(X_test)\n",
    "print(\"Elastic Net RMSE score on Test data: \", RMSE(y_pred, y_test))"
   ]
  },
  {
   "cell_type": "markdown",
   "metadata": {},
   "source": [
    "## Polynomial Ridge Regression"
   ]
  },
  {
   "cell_type": "code",
   "execution_count": 20,
   "metadata": {},
   "outputs": [
    {
     "name": "stderr",
     "output_type": "stream",
     "text": [
      "100%|█████████████████████████████████████████████████████████████████████| 1000000/1000000 [01:12<00:00, 13880.73it/s]\n"
     ]
    }
   ],
   "source": [
    "PolyRR.fit(X_train, y_train)"
   ]
  },
  {
   "cell_type": "code",
   "execution_count": 21,
   "metadata": {},
   "outputs": [
    {
     "name": "stdout",
     "output_type": "stream",
     "text": [
      "Polynomial Ridge Regression RMSE score on Train data:  0.43140859174186263\n",
      "Polynomial Ridge Regression RMSE score on Test data:  0.4207223498683264\n"
     ]
    }
   ],
   "source": [
    "y_pred = PolyRR.predict(X_train)\n",
    "print(\"Polynomial Ridge Regression RMSE score on Train data: \", RMSE(y_pred, y_train))\n",
    "y_pred = PolyRR.predict(X_test)\n",
    "print(\"Polynomial Ridge Regression RMSE score on Test data: \", RMSE(y_pred, y_test))"
   ]
  },
  {
   "cell_type": "markdown",
   "metadata": {},
   "source": [
    "# Average Regression Models"
   ]
  },
  {
   "cell_type": "code",
   "execution_count": 22,
   "metadata": {},
   "outputs": [],
   "source": [
    "class AverageModels(object):\n",
    "    def __init__(self, models):\n",
    "        self.models = models\n",
    "        \n",
    "    def fit(self, X, y):\n",
    "        \n",
    "        for model in self.models:\n",
    "            model.fit(X, y)\n",
    "\n",
    "        return self\n",
    "    \n",
    "    def predict(self, X):\n",
    "        predictions = np.column_stack([model.predict(X) for model in self.models])\n",
    "        return np.mean(predictions, axis=1)"
   ]
  },
  {
   "cell_type": "code",
   "execution_count": 23,
   "metadata": {},
   "outputs": [],
   "source": [
    "average_models = AverageModels([lasso, Elnet, PolyRR])"
   ]
  },
  {
   "cell_type": "code",
   "execution_count": 24,
   "metadata": {},
   "outputs": [
    {
     "name": "stderr",
     "output_type": "stream",
     "text": [
      "100%|█████████████████████████████████████████████████████████████████████| 1000000/1000000 [01:13<00:00, 13667.50it/s]\n",
      "100%|█████████████████████████████████████████████████████████████████████| 1000000/1000000 [01:21<00:00, 12341.53it/s]\n",
      "100%|█████████████████████████████████████████████████████████████████████| 1000000/1000000 [01:06<00:00, 15059.48it/s]\n"
     ]
    },
    {
     "data": {
      "text/plain": [
       "<__main__.AverageModels at 0x1eb0e3e42b0>"
      ]
     },
     "execution_count": 24,
     "metadata": {},
     "output_type": "execute_result"
    }
   ],
   "source": [
    "average_models.fit(X_train, y_train)"
   ]
  },
  {
   "cell_type": "code",
   "execution_count": 25,
   "metadata": {},
   "outputs": [
    {
     "name": "stdout",
     "output_type": "stream",
     "text": [
      "Averaged base models RMSE score on Train data:  0.4314411204065008\n",
      "Averaged base models RMSE score on Test data:  0.4215146365340259\n"
     ]
    }
   ],
   "source": [
    "y_pred = average_models.predict(X_train)\n",
    "print(\"Averaged base models RMSE score on Train data: \", RMSE(y_pred, y_train))\n",
    "y_pred = average_models.predict(X_test)\n",
    "print(\"Averaged base models RMSE score on Test data: \", RMSE(y_pred, y_test))"
   ]
  },
  {
   "cell_type": "markdown",
   "metadata": {},
   "source": [
    "### As we can see implemented models show nearly the same results, well not a surprise due to the fact that they have the same super class:)"
   ]
  }
 ],
 "metadata": {
  "kernelspec": {
   "display_name": "Python 3",
   "language": "python",
   "name": "python3"
  },
  "language_info": {
   "codemirror_mode": {
    "name": "ipython",
    "version": 3
   },
   "file_extension": ".py",
   "mimetype": "text/x-python",
   "name": "python",
   "nbconvert_exporter": "python",
   "pygments_lexer": "ipython3",
   "version": "3.6.8"
  }
 },
 "nbformat": 4,
 "nbformat_minor": 2
}
