{
 "cells": [
  {
   "cell_type": "code",
   "execution_count": 1,
   "metadata": {},
   "outputs": [],
   "source": [
    "import os\n",
    "import sys"
   ]
  },
  {
   "cell_type": "code",
   "execution_count": 2,
   "metadata": {},
   "outputs": [
    {
     "name": "stderr",
     "output_type": "stream",
     "text": [
      "Using TensorFlow backend.\n"
     ]
    }
   ],
   "source": [
    "import keras"
   ]
  },
  {
   "cell_type": "code",
   "execution_count": 3,
   "metadata": {},
   "outputs": [],
   "source": [
    "import numpy as np\n",
    "import string"
   ]
  },
  {
   "cell_type": "code",
   "execution_count": 94,
   "metadata": {},
   "outputs": [],
   "source": [
    "chars = string.punctuation"
   ]
  },
  {
   "cell_type": "code",
   "execution_count": 11,
   "metadata": {},
   "outputs": [],
   "source": [
    "chars = chars.replace(\"'\", \"\")"
   ]
  },
  {
   "cell_type": "code",
   "execution_count": 95,
   "metadata": {},
   "outputs": [
    {
     "data": {
      "text/plain": [
       "'!\"#$%&\\'()*+,-./:;<=>?@[\\\\]^_`{|}~'"
      ]
     },
     "execution_count": 95,
     "metadata": {},
     "output_type": "execute_result"
    }
   ],
   "source": [
    "chars"
   ]
  },
  {
   "cell_type": "code",
   "execution_count": 96,
   "metadata": {},
   "outputs": [],
   "source": [
    "chars = chars.replace(\"`\", \"\")"
   ]
  },
  {
   "cell_type": "code",
   "execution_count": 97,
   "metadata": {},
   "outputs": [],
   "source": [
    "f = open(\"alice_in_wonderland.txt\", \"r\")\n",
    "alice = f.read()\n",
    "f.close()"
   ]
  },
  {
   "cell_type": "code",
   "execution_count": 98,
   "metadata": {},
   "outputs": [
    {
     "data": {
      "text/plain": [
       "148574"
      ]
     },
     "execution_count": 98,
     "metadata": {},
     "output_type": "execute_result"
    }
   ],
   "source": [
    "len(alice)"
   ]
  },
  {
   "cell_type": "code",
   "execution_count": 99,
   "metadata": {},
   "outputs": [],
   "source": [
    "alice = alice.replace(\" '\", '\"')\n",
    "alice = alice.replace(\"' \", '\"')\n",
    "alice = alice.replace(\" `\", '\"')\n",
    "alice = alice.replace(\"` \", '\"')"
   ]
  },
  {
   "cell_type": "code",
   "execution_count": 100,
   "metadata": {},
   "outputs": [
    {
     "name": "stdout",
     "output_type": "stream",
     "text": [
      "Alice's Adventures in Wonderland\n",
      "\n",
      "                ALICE'S ADVENTURES IN WONDERLAND\n",
      "\n",
      "                          Lewis Carroll\n",
      "\n",
      "               THE MILLENNIUM FULCRUM EDITION 3.0\n",
      "\n",
      "\n",
      "\n",
      "\n",
      "                            CHAPTER I\n",
      "\n",
      "                      Down the Rabbit-Hole\n",
      "\n",
      "\n",
      "  Alice was beginning to get very tired of sitting by her sister\n",
      "on the bank, and of having nothing to do:  once or twice she had\n",
      "peeped into the book her sister was reading, but it had no\n",
      "pictures or conversations in it,\"and what is the use of a book,'\n",
      "thought Alice\"without pictures or conversation?'\n",
      "\n",
      "  So she was considering in her own mind (as well as she could,\n",
      "for the hot day made her feel very sleepy and stupid), whether\n",
      "the pleasure of making a daisy-chain would be worth the trouble\n",
      "of getting up and picking the daisies, when suddenly a White\n",
      "Rabbit with pink eyes ran close by her.\n",
      "\n",
      "  There was nothing so VERY remarkable in that; nor did Alice\n",
      "think it so VERY much out of the way to hear the Rabbit say to\n",
      "itself,\"Oh dear!  Oh dear!  I shall be late!\" (when she thought\n",
      "it over afterwards, it occurred to her that she ought to have\n",
      "wondered at this, but at the time it all seemed quite natural);\n",
      "but when the Rabbit actually TOOK A WATCH OUT OF ITS WAISTCOAT-\n",
      "POCKET, and looked at it, and then hurried on, Alice started to\n",
      "her feet, for it flashed across her mind that she had never\n",
      "before seen a rabbit with either a waistcoat-pocket, or a watch to\n",
      "take out of it, and burning with curiosity, she ran across the\n",
      "field a\n"
     ]
    }
   ],
   "source": [
    "print(alice[:1500])"
   ]
  },
  {
   "cell_type": "code",
   "execution_count": 101,
   "metadata": {},
   "outputs": [],
   "source": [
    "import re"
   ]
  },
  {
   "cell_type": "code",
   "execution_count": 18,
   "metadata": {},
   "outputs": [],
   "source": [
    "s=\"\\n\""
   ]
  },
  {
   "cell_type": "code",
   "execution_count": 19,
   "metadata": {},
   "outputs": [],
   "source": [
    "s = re.sub(\"\\n\\n+\", \"a\", s)"
   ]
  },
  {
   "cell_type": "code",
   "execution_count": 20,
   "metadata": {},
   "outputs": [
    {
     "data": {
      "text/plain": [
       "'\\n'"
      ]
     },
     "execution_count": 20,
     "metadata": {},
     "output_type": "execute_result"
    }
   ],
   "source": [
    "s"
   ]
  },
  {
   "cell_type": "code",
   "execution_count": 102,
   "metadata": {},
   "outputs": [],
   "source": [
    "alice = re.sub(\"\\n\\n+\", \"qwerty\", alice)"
   ]
  },
  {
   "cell_type": "code",
   "execution_count": 103,
   "metadata": {},
   "outputs": [],
   "source": [
    "alice = alice.replace(\"\\n\", \" \")"
   ]
  },
  {
   "cell_type": "code",
   "execution_count": 104,
   "metadata": {},
   "outputs": [],
   "source": [
    "alice = alice.replace(\"qwerty\", \" \\n \")"
   ]
  },
  {
   "cell_type": "code",
   "execution_count": 105,
   "metadata": {},
   "outputs": [],
   "source": [
    "alice = alice.replace(\" '\", '\"')\n",
    "alice = alice.replace(\"' \", '\"')\n",
    "alice = alice.replace(\" `\", '\"')\n",
    "alice = alice.replace(\"` \", '\"')"
   ]
  },
  {
   "cell_type": "code",
   "execution_count": 106,
   "metadata": {},
   "outputs": [],
   "source": [
    "for c in chars:\n",
    "    alice = alice.replace(c, \" \"+c+\" \")"
   ]
  },
  {
   "cell_type": "code",
   "execution_count": 107,
   "metadata": {},
   "outputs": [],
   "source": [
    "alice = alice.replace(\"\\t\", \" \")"
   ]
  },
  {
   "cell_type": "code",
   "execution_count": 108,
   "metadata": {},
   "outputs": [],
   "source": [
    "alice = alice.replace(\"*\", \" \")"
   ]
  },
  {
   "cell_type": "code",
   "execution_count": 109,
   "metadata": {},
   "outputs": [],
   "source": [
    "f = open(\"alice_formatted.txt\", \"w\")\n",
    "f.write(alice)\n",
    "f.close()"
   ]
  },
  {
   "cell_type": "code",
   "execution_count": 110,
   "metadata": {},
   "outputs": [],
   "source": [
    "f = open(\"alice_formatted.txt\", \"r\")\n",
    "alice = f.read()\n",
    "f.close()"
   ]
  },
  {
   "cell_type": "code",
   "execution_count": 111,
   "metadata": {},
   "outputs": [],
   "source": [
    "alice = alice.lower()"
   ]
  },
  {
   "cell_type": "code",
   "execution_count": 112,
   "metadata": {},
   "outputs": [],
   "source": [
    "alice_words = alice.split()"
   ]
  },
  {
   "cell_type": "code",
   "execution_count": 113,
   "metadata": {},
   "outputs": [
    {
     "data": {
      "text/plain": [
       "['alice',\n",
       " \"'\",\n",
       " 's',\n",
       " 'adventures',\n",
       " 'in',\n",
       " 'wonderland',\n",
       " 'alice',\n",
       " \"'\",\n",
       " 's',\n",
       " 'adventures',\n",
       " 'in',\n",
       " 'wonderland',\n",
       " 'lewis',\n",
       " 'carroll',\n",
       " 'the',\n",
       " 'millennium',\n",
       " 'fulcrum',\n",
       " 'edition',\n",
       " '3',\n",
       " '.',\n",
       " '0',\n",
       " 'chapter',\n",
       " 'i',\n",
       " 'down',\n",
       " 'the',\n",
       " 'rabbit',\n",
       " '-',\n",
       " 'hole',\n",
       " 'alice',\n",
       " 'was',\n",
       " 'beginning',\n",
       " 'to',\n",
       " 'get',\n",
       " 'very',\n",
       " 'tired',\n",
       " 'of',\n",
       " 'sitting',\n",
       " 'by',\n",
       " 'her',\n",
       " 'sister',\n",
       " 'on',\n",
       " 'the',\n",
       " 'bank',\n",
       " ',',\n",
       " 'and',\n",
       " 'of',\n",
       " 'having',\n",
       " 'nothing',\n",
       " 'to',\n",
       " 'do',\n",
       " ':',\n",
       " 'once',\n",
       " 'or',\n",
       " 'twice',\n",
       " 'she',\n",
       " 'had',\n",
       " 'peeped',\n",
       " 'into',\n",
       " 'the',\n",
       " 'book',\n",
       " 'her',\n",
       " 'sister',\n",
       " 'was',\n",
       " 'reading',\n",
       " ',',\n",
       " 'but',\n",
       " 'it',\n",
       " 'had',\n",
       " 'no',\n",
       " 'pictures',\n",
       " 'or',\n",
       " 'conversations',\n",
       " 'in',\n",
       " 'it',\n",
       " ',',\n",
       " '\"',\n",
       " 'and',\n",
       " 'what',\n",
       " 'is',\n",
       " 'the',\n",
       " 'use',\n",
       " 'of',\n",
       " 'a',\n",
       " 'book',\n",
       " ',',\n",
       " '\"',\n",
       " 'thought',\n",
       " 'alice',\n",
       " '\"',\n",
       " 'without',\n",
       " 'pictures',\n",
       " 'or',\n",
       " 'conversation',\n",
       " '?',\n",
       " '\"',\n",
       " 'so',\n",
       " 'she',\n",
       " 'was',\n",
       " 'considering',\n",
       " 'in',\n",
       " 'her',\n",
       " 'own',\n",
       " 'mind',\n",
       " '(',\n",
       " 'as',\n",
       " 'well',\n",
       " 'as',\n",
       " 'she',\n",
       " 'could',\n",
       " ',',\n",
       " 'for',\n",
       " 'the',\n",
       " 'hot',\n",
       " 'day',\n",
       " 'made',\n",
       " 'her',\n",
       " 'feel',\n",
       " 'very',\n",
       " 'sleepy',\n",
       " 'and',\n",
       " 'stupid',\n",
       " ')',\n",
       " ',',\n",
       " 'whether',\n",
       " 'the',\n",
       " 'pleasure',\n",
       " 'of',\n",
       " 'making',\n",
       " 'a',\n",
       " 'daisy',\n",
       " '-',\n",
       " 'chain',\n",
       " 'would',\n",
       " 'be',\n",
       " 'worth',\n",
       " 'the',\n",
       " 'trouble',\n",
       " 'of',\n",
       " 'getting',\n",
       " 'up',\n",
       " 'and',\n",
       " 'picking',\n",
       " 'the',\n",
       " 'daisies',\n",
       " ',',\n",
       " 'when',\n",
       " 'suddenly',\n",
       " 'a',\n",
       " 'white',\n",
       " 'rabbit',\n",
       " 'with',\n",
       " 'pink',\n",
       " 'eyes',\n",
       " 'ran',\n",
       " 'close',\n",
       " 'by',\n",
       " 'her',\n",
       " '.',\n",
       " 'there',\n",
       " 'was',\n",
       " 'nothing',\n",
       " 'so',\n",
       " 'very',\n",
       " 'remarkable',\n",
       " 'in',\n",
       " 'that',\n",
       " ';',\n",
       " 'nor',\n",
       " 'did',\n",
       " 'alice',\n",
       " 'think',\n",
       " 'it',\n",
       " 'so',\n",
       " 'very',\n",
       " 'much',\n",
       " 'out',\n",
       " 'of',\n",
       " 'the',\n",
       " 'way',\n",
       " 'to',\n",
       " 'hear',\n",
       " 'the',\n",
       " 'rabbit',\n",
       " 'say',\n",
       " 'to',\n",
       " 'itself',\n",
       " ',',\n",
       " '\"',\n",
       " 'oh',\n",
       " 'dear',\n",
       " '!',\n",
       " 'oh',\n",
       " 'dear',\n",
       " '!',\n",
       " 'i',\n",
       " 'shall',\n",
       " 'be',\n",
       " 'late',\n",
       " '!',\n",
       " '\"',\n",
       " '(',\n",
       " 'when',\n",
       " 'she',\n",
       " 'thought',\n",
       " 'it',\n",
       " 'over',\n",
       " 'afterwards',\n",
       " ',',\n",
       " 'it',\n",
       " 'occurred',\n",
       " 'to',\n",
       " 'her',\n",
       " 'that',\n",
       " 'she',\n",
       " 'ought',\n",
       " 'to',\n",
       " 'have',\n",
       " 'wondered',\n",
       " 'at',\n",
       " 'this',\n",
       " ',',\n",
       " 'but',\n",
       " 'at',\n",
       " 'the',\n",
       " 'time',\n",
       " 'it',\n",
       " 'all',\n",
       " 'seemed',\n",
       " 'quite',\n",
       " 'natural',\n",
       " ')',\n",
       " ';',\n",
       " 'but',\n",
       " 'when',\n",
       " 'the',\n",
       " 'rabbit',\n",
       " 'actually',\n",
       " 'took',\n",
       " 'a',\n",
       " 'watch',\n",
       " 'out',\n",
       " 'of',\n",
       " 'its',\n",
       " 'waistcoat',\n",
       " '-',\n",
       " 'pocket',\n",
       " ',',\n",
       " 'and',\n",
       " 'looked',\n",
       " 'at',\n",
       " 'it',\n",
       " ',',\n",
       " 'and',\n",
       " 'then',\n",
       " 'hurried',\n",
       " 'on',\n",
       " ',',\n",
       " 'alice',\n",
       " 'started',\n",
       " 'to',\n",
       " 'her',\n",
       " 'feet',\n",
       " ',',\n",
       " 'for',\n",
       " 'it',\n",
       " 'flashed',\n",
       " 'across',\n",
       " 'her',\n",
       " 'mind',\n",
       " 'that',\n",
       " 'she',\n",
       " 'had',\n",
       " 'never',\n",
       " 'before',\n",
       " 'seen',\n",
       " 'a',\n",
       " 'rabbit',\n",
       " 'with',\n",
       " 'either',\n",
       " 'a',\n",
       " 'waistcoat',\n",
       " '-',\n",
       " 'pocket',\n",
       " ',',\n",
       " 'or',\n",
       " 'a',\n",
       " 'watch',\n",
       " 'to',\n",
       " 'take',\n",
       " 'out',\n",
       " 'of',\n",
       " 'it',\n",
       " ',',\n",
       " 'and',\n",
       " 'burning',\n",
       " 'with',\n",
       " 'curiosity',\n",
       " ',',\n",
       " 'she',\n",
       " 'ran',\n",
       " 'across',\n",
       " 'the',\n",
       " 'field',\n",
       " 'after',\n",
       " 'it',\n",
       " ',',\n",
       " 'and',\n",
       " 'fortunately',\n",
       " 'was',\n",
       " 'just',\n",
       " 'in',\n",
       " 'time',\n",
       " 'to',\n",
       " 'see',\n",
       " 'it',\n",
       " 'pop',\n",
       " 'down',\n",
       " 'a',\n",
       " 'large',\n",
       " 'rabbit',\n",
       " '-',\n",
       " 'hole',\n",
       " 'under',\n",
       " 'the',\n",
       " 'hedge',\n",
       " '.',\n",
       " 'in',\n",
       " 'another',\n",
       " 'moment',\n",
       " 'down',\n",
       " 'went',\n",
       " 'alice',\n",
       " 'after',\n",
       " 'it',\n",
       " ',',\n",
       " 'never',\n",
       " 'once',\n",
       " 'considering',\n",
       " 'how',\n",
       " 'in',\n",
       " 'the',\n",
       " 'world',\n",
       " 'she',\n",
       " 'was',\n",
       " 'to',\n",
       " 'get',\n",
       " 'out',\n",
       " 'again',\n",
       " '.',\n",
       " 'the',\n",
       " 'rabbit',\n",
       " '-',\n",
       " 'hole',\n",
       " 'went',\n",
       " 'straight',\n",
       " 'on',\n",
       " 'like',\n",
       " 'a',\n",
       " 'tunnel',\n",
       " 'for',\n",
       " 'some',\n",
       " 'way',\n",
       " ',',\n",
       " 'and',\n",
       " 'then',\n",
       " 'dipped',\n",
       " 'suddenly',\n",
       " 'down',\n",
       " ',',\n",
       " 'so',\n",
       " 'suddenly',\n",
       " 'that',\n",
       " 'alice',\n",
       " 'had',\n",
       " 'not',\n",
       " 'a',\n",
       " 'moment',\n",
       " 'to',\n",
       " 'think',\n",
       " 'about',\n",
       " 'stopping',\n",
       " 'herself',\n",
       " 'before',\n",
       " 'she',\n",
       " 'found',\n",
       " 'herself',\n",
       " 'falling',\n",
       " 'down',\n",
       " 'a',\n",
       " 'very',\n",
       " 'deep',\n",
       " 'well',\n",
       " '.',\n",
       " 'either',\n",
       " 'the',\n",
       " 'well',\n",
       " 'was',\n",
       " 'very',\n",
       " 'deep',\n",
       " ',',\n",
       " 'or',\n",
       " 'she',\n",
       " 'fell',\n",
       " 'very',\n",
       " 'slowly',\n",
       " ',',\n",
       " 'for',\n",
       " 'she',\n",
       " 'had',\n",
       " 'plenty',\n",
       " 'of',\n",
       " 'time',\n",
       " 'as',\n",
       " 'she',\n",
       " 'went',\n",
       " 'down',\n",
       " 'to',\n",
       " 'look',\n",
       " 'about',\n",
       " 'her',\n",
       " 'and',\n",
       " 'to',\n",
       " 'wonder',\n",
       " 'what',\n",
       " 'was',\n",
       " 'going',\n",
       " 'to',\n",
       " 'happen',\n",
       " 'next',\n",
       " '.',\n",
       " 'first',\n",
       " ',',\n",
       " 'she',\n",
       " 'tried',\n",
       " 'to',\n",
       " 'look',\n",
       " 'down',\n",
       " 'and',\n",
       " 'make',\n",
       " 'out',\n",
       " 'what',\n",
       " 'she',\n",
       " 'was',\n",
       " 'coming',\n",
       " 'to',\n",
       " ',',\n",
       " 'but',\n",
       " 'it',\n",
       " 'was',\n",
       " 'too',\n",
       " 'dark',\n",
       " 'to',\n",
       " 'see',\n",
       " 'anything',\n",
       " ';',\n",
       " 'then',\n",
       " 'she',\n",
       " 'looked',\n",
       " 'at',\n",
       " 'the',\n",
       " 'sides',\n",
       " 'of',\n",
       " 'the',\n",
       " 'well',\n",
       " ',',\n",
       " 'and',\n",
       " 'noticed',\n",
       " 'that',\n",
       " 'they',\n",
       " 'were',\n",
       " 'filled',\n",
       " 'with',\n",
       " 'cupboards',\n",
       " 'and',\n",
       " 'book',\n",
       " '-',\n",
       " 'shelves',\n",
       " ';',\n",
       " 'here',\n",
       " 'and',\n",
       " 'there',\n",
       " 'she',\n",
       " 'saw',\n",
       " 'maps',\n",
       " 'and',\n",
       " 'pictures',\n",
       " 'hung',\n",
       " 'upon',\n",
       " 'pegs',\n",
       " '.',\n",
       " 'she',\n",
       " 'took',\n",
       " 'down',\n",
       " 'a',\n",
       " 'jar',\n",
       " 'from',\n",
       " 'one',\n",
       " 'of',\n",
       " 'the',\n",
       " 'shelves',\n",
       " 'as',\n",
       " 'she',\n",
       " 'passed',\n",
       " ';',\n",
       " 'it',\n",
       " 'was',\n",
       " 'labelled',\n",
       " '\"',\n",
       " 'orange',\n",
       " 'marmalade',\n",
       " \"'\",\n",
       " ',',\n",
       " 'but',\n",
       " 'to',\n",
       " 'her',\n",
       " 'great',\n",
       " 'disappointment',\n",
       " 'it',\n",
       " 'was',\n",
       " 'empty',\n",
       " ':',\n",
       " 'she',\n",
       " 'did',\n",
       " 'not',\n",
       " 'like',\n",
       " 'to',\n",
       " 'drop',\n",
       " 'the',\n",
       " 'jar',\n",
       " 'for',\n",
       " 'fear',\n",
       " 'of',\n",
       " 'killing',\n",
       " 'somebody',\n",
       " ',',\n",
       " 'so',\n",
       " 'managed',\n",
       " 'to',\n",
       " 'put',\n",
       " 'it',\n",
       " 'into',\n",
       " 'one',\n",
       " 'of',\n",
       " 'the',\n",
       " 'cupboards',\n",
       " 'as',\n",
       " 'she',\n",
       " 'fell',\n",
       " 'past',\n",
       " 'it',\n",
       " '.',\n",
       " '\"',\n",
       " 'well',\n",
       " '!',\n",
       " '\"',\n",
       " 'thought',\n",
       " 'alice',\n",
       " 'to',\n",
       " 'herself',\n",
       " ',',\n",
       " '\"',\n",
       " 'after',\n",
       " 'such',\n",
       " 'a',\n",
       " 'fall',\n",
       " 'as',\n",
       " 'this',\n",
       " ',',\n",
       " 'i',\n",
       " 'shall',\n",
       " 'think',\n",
       " 'nothing',\n",
       " 'of',\n",
       " 'tumbling',\n",
       " 'down',\n",
       " 'stairs',\n",
       " '!',\n",
       " 'how',\n",
       " 'brave',\n",
       " 'they',\n",
       " \"'\",\n",
       " 'll',\n",
       " 'all',\n",
       " 'think',\n",
       " 'me',\n",
       " 'at',\n",
       " 'home',\n",
       " '!',\n",
       " 'why',\n",
       " ',',\n",
       " 'i',\n",
       " 'wouldn',\n",
       " \"'\",\n",
       " 't',\n",
       " 'say',\n",
       " 'anything',\n",
       " 'about',\n",
       " 'it',\n",
       " ',',\n",
       " 'even',\n",
       " 'if',\n",
       " 'i',\n",
       " 'fell',\n",
       " 'off',\n",
       " 'the',\n",
       " 'top',\n",
       " 'of',\n",
       " 'the',\n",
       " 'house',\n",
       " '!',\n",
       " '\"',\n",
       " '(',\n",
       " 'which',\n",
       " 'was',\n",
       " 'very',\n",
       " 'likely',\n",
       " 'true',\n",
       " '.',\n",
       " ')',\n",
       " 'down',\n",
       " ',',\n",
       " 'down',\n",
       " ',',\n",
       " 'down',\n",
       " '.',\n",
       " 'would',\n",
       " 'the',\n",
       " 'fall',\n",
       " 'never',\n",
       " 'come',\n",
       " 'to',\n",
       " 'an',\n",
       " 'end',\n",
       " '!',\n",
       " '\"',\n",
       " 'i',\n",
       " 'wonder',\n",
       " 'how',\n",
       " 'many',\n",
       " 'miles',\n",
       " 'i',\n",
       " \"'\",\n",
       " 've',\n",
       " 'fallen',\n",
       " 'by',\n",
       " 'this',\n",
       " 'time',\n",
       " '?',\n",
       " '\"',\n",
       " 'she',\n",
       " 'said',\n",
       " 'aloud',\n",
       " '.',\n",
       " '\"',\n",
       " 'i',\n",
       " 'must',\n",
       " 'be',\n",
       " 'getting',\n",
       " 'somewhere',\n",
       " 'near',\n",
       " 'the',\n",
       " 'centre',\n",
       " 'of',\n",
       " 'the',\n",
       " 'earth',\n",
       " '.',\n",
       " 'let',\n",
       " 'me',\n",
       " 'see',\n",
       " ':',\n",
       " 'that',\n",
       " 'would',\n",
       " 'be',\n",
       " 'four',\n",
       " 'thousand',\n",
       " 'miles',\n",
       " 'down',\n",
       " ',',\n",
       " 'i',\n",
       " 'think',\n",
       " '-',\n",
       " '-',\n",
       " '\"',\n",
       " '(',\n",
       " 'for',\n",
       " ',',\n",
       " 'you',\n",
       " 'see',\n",
       " ',',\n",
       " 'alice',\n",
       " 'had',\n",
       " 'learnt',\n",
       " 'several',\n",
       " 'things',\n",
       " 'of',\n",
       " 'this',\n",
       " 'sort',\n",
       " 'in',\n",
       " 'her',\n",
       " 'lessons',\n",
       " 'in',\n",
       " 'the',\n",
       " 'schoolroom',\n",
       " ',',\n",
       " 'and',\n",
       " 'though',\n",
       " 'this',\n",
       " 'was',\n",
       " 'not',\n",
       " 'a',\n",
       " 'very',\n",
       " 'good',\n",
       " 'opportunity',\n",
       " 'for',\n",
       " 'showing',\n",
       " 'off',\n",
       " 'her',\n",
       " 'knowledge',\n",
       " ',',\n",
       " 'as',\n",
       " 'there',\n",
       " 'was',\n",
       " 'no',\n",
       " 'one',\n",
       " 'to',\n",
       " 'listen',\n",
       " 'to',\n",
       " 'her',\n",
       " ',',\n",
       " 'still',\n",
       " 'it',\n",
       " 'was',\n",
       " 'good',\n",
       " 'practice',\n",
       " 'to',\n",
       " 'say',\n",
       " 'it',\n",
       " 'over',\n",
       " ')',\n",
       " '\"',\n",
       " '-',\n",
       " '-',\n",
       " 'yes',\n",
       " ',',\n",
       " 'that',\n",
       " \"'\",\n",
       " 's',\n",
       " 'about',\n",
       " 'the',\n",
       " 'right',\n",
       " 'distance',\n",
       " '-',\n",
       " '-',\n",
       " 'but',\n",
       " 'then',\n",
       " 'i',\n",
       " 'wonder',\n",
       " 'what',\n",
       " 'latitude',\n",
       " 'or',\n",
       " 'longitude',\n",
       " 'i',\n",
       " \"'\",\n",
       " 've',\n",
       " 'got',\n",
       " 'to',\n",
       " '?',\n",
       " '\"',\n",
       " '(',\n",
       " 'alice',\n",
       " 'had',\n",
       " 'no',\n",
       " 'idea',\n",
       " 'what',\n",
       " 'latitude',\n",
       " 'was',\n",
       " ',',\n",
       " 'or',\n",
       " 'longitude',\n",
       " 'either',\n",
       " ',',\n",
       " 'but',\n",
       " 'thought',\n",
       " 'they',\n",
       " 'were',\n",
       " 'nice',\n",
       " 'grand',\n",
       " 'words',\n",
       " 'to',\n",
       " 'say',\n",
       " '.',\n",
       " ')',\n",
       " 'presently',\n",
       " 'she',\n",
       " 'began',\n",
       " 'again',\n",
       " '.',\n",
       " '\"',\n",
       " 'i',\n",
       " 'wonder',\n",
       " 'if',\n",
       " 'i',\n",
       " 'shall',\n",
       " 'fall',\n",
       " 'right',\n",
       " 'through',\n",
       " 'the',\n",
       " 'earth',\n",
       " '!',\n",
       " 'how',\n",
       " 'funny',\n",
       " 'it',\n",
       " \"'\",\n",
       " 'll',\n",
       " 'seem',\n",
       " 'to',\n",
       " 'come',\n",
       " 'out',\n",
       " 'among',\n",
       " 'the',\n",
       " 'people',\n",
       " 'that',\n",
       " 'walk',\n",
       " 'with',\n",
       " 'their',\n",
       " 'heads',\n",
       " 'downward',\n",
       " '!',\n",
       " 'the',\n",
       " 'antipathies',\n",
       " ',',\n",
       " 'i',\n",
       " 'think',\n",
       " '-',\n",
       " '-',\n",
       " '\"',\n",
       " '(',\n",
       " 'she',\n",
       " 'was',\n",
       " 'rather',\n",
       " 'glad',\n",
       " 'there',\n",
       " 'was',\n",
       " 'no',\n",
       " 'one',\n",
       " 'listening',\n",
       " ',',\n",
       " 'this',\n",
       " 'time',\n",
       " ',',\n",
       " 'as',\n",
       " 'it',\n",
       " 'didn',\n",
       " \"'\",\n",
       " 't',\n",
       " 'sound',\n",
       " 'at',\n",
       " 'all',\n",
       " 'the',\n",
       " 'right',\n",
       " 'word',\n",
       " ')',\n",
       " '\"',\n",
       " '-',\n",
       " '-',\n",
       " 'but',\n",
       " 'i',\n",
       " 'shall',\n",
       " 'have',\n",
       " 'to',\n",
       " 'ask',\n",
       " 'them',\n",
       " 'what',\n",
       " 'the',\n",
       " 'name',\n",
       " 'of',\n",
       " 'the',\n",
       " 'country',\n",
       " 'is',\n",
       " ',',\n",
       " 'you',\n",
       " 'know',\n",
       " '.',\n",
       " 'please',\n",
       " ',',\n",
       " 'ma',\n",
       " \"'\",\n",
       " 'am',\n",
       " ',',\n",
       " 'is',\n",
       " 'this',\n",
       " 'new',\n",
       " 'zealand',\n",
       " 'or',\n",
       " 'australia',\n",
       " '?',\n",
       " '\"',\n",
       " '(',\n",
       " 'and',\n",
       " 'she',\n",
       " 'tried',\n",
       " 'to',\n",
       " 'curtsey',\n",
       " 'as',\n",
       " 'she',\n",
       " 'spoke',\n",
       " '-',\n",
       " '-',\n",
       " 'fancy',\n",
       " 'curtseying',\n",
       " 'as',\n",
       " 'you',\n",
       " \"'\",\n",
       " 're',\n",
       " 'falling',\n",
       " 'through',\n",
       " 'the',\n",
       " 'air',\n",
       " '!',\n",
       " 'do',\n",
       " 'you',\n",
       " 'think',\n",
       " 'you',\n",
       " 'could',\n",
       " 'manage',\n",
       " 'it',\n",
       " '?',\n",
       " ')',\n",
       " '\"',\n",
       " 'and',\n",
       " 'what',\n",
       " 'an',\n",
       " 'ignorant',\n",
       " 'little',\n",
       " 'girl',\n",
       " 'she',\n",
       " \"'\",\n",
       " 'll',\n",
       " 'think',\n",
       " 'me',\n",
       " 'for',\n",
       " 'asking',\n",
       " '!',\n",
       " 'no',\n",
       " ',',\n",
       " 'it',\n",
       " \"'\",\n",
       " 'll',\n",
       " 'never',\n",
       " 'do',\n",
       " 'to',\n",
       " 'ask',\n",
       " ':',\n",
       " 'perhaps',\n",
       " 'i',\n",
       " 'shall',\n",
       " 'see',\n",
       " 'it',\n",
       " 'written',\n",
       " 'up',\n",
       " 'somewhere',\n",
       " '.',\n",
       " '\"',\n",
       " 'down',\n",
       " ',',\n",
       " 'down',\n",
       " ',',\n",
       " 'down',\n",
       " '.',\n",
       " 'there',\n",
       " 'was',\n",
       " 'nothing',\n",
       " 'else',\n",
       " 'to',\n",
       " 'do',\n",
       " ',',\n",
       " 'so',\n",
       " 'alice',\n",
       " 'soon',\n",
       " 'began',\n",
       " 'talking',\n",
       " 'again',\n",
       " '.',\n",
       " '\"',\n",
       " 'dinah',\n",
       " \"'\",\n",
       " 'll',\n",
       " 'miss',\n",
       " 'me',\n",
       " 'very',\n",
       " 'much',\n",
       " 'to',\n",
       " '-',\n",
       " 'night',\n",
       " ',',\n",
       " 'i',\n",
       " 'should',\n",
       " 'think',\n",
       " '!',\n",
       " '\"',\n",
       " ...]"
      ]
     },
     "execution_count": 113,
     "metadata": {},
     "output_type": "execute_result"
    }
   ],
   "source": [
    "alice_words"
   ]
  },
  {
   "cell_type": "code",
   "execution_count": 114,
   "metadata": {},
   "outputs": [
    {
     "data": {
      "text/plain": [
       "'my'"
      ]
     },
     "execution_count": 114,
     "metadata": {},
     "output_type": "execute_result"
    }
   ],
   "source": [
    "alice_words[1024]"
   ]
  },
  {
   "cell_type": "code",
   "execution_count": 115,
   "metadata": {},
   "outputs": [
    {
     "data": {
      "text/plain": [
       "35585"
      ]
     },
     "execution_count": 115,
     "metadata": {},
     "output_type": "execute_result"
    }
   ],
   "source": [
    "len(alice_words)"
   ]
  },
  {
   "cell_type": "code",
   "execution_count": 116,
   "metadata": {},
   "outputs": [],
   "source": [
    "vocab = set(alice_words)"
   ]
  },
  {
   "cell_type": "code",
   "execution_count": 117,
   "metadata": {},
   "outputs": [
    {
     "data": {
      "text/plain": [
       "2597"
      ]
     },
     "execution_count": 117,
     "metadata": {},
     "output_type": "execute_result"
    }
   ],
   "source": [
    "len(vocab)"
   ]
  },
  {
   "cell_type": "code",
   "execution_count": 118,
   "metadata": {},
   "outputs": [],
   "source": [
    "ind_to_word = {i: word for i,word in enumerate(vocab)}"
   ]
  },
  {
   "cell_type": "code",
   "execution_count": 119,
   "metadata": {},
   "outputs": [],
   "source": [
    "word_to_ind = {word: i for i,word in ind_to_word.items()}"
   ]
  },
  {
   "cell_type": "code",
   "execution_count": 120,
   "metadata": {},
   "outputs": [],
   "source": [
    "def normalize(s):\n",
    "    chars = string.punctuation\n",
    "    for c in chars:\n",
    "        s = s.replace(c, \" \"+c+\" \")\n",
    "    s = s.lower()\n",
    "    return s"
   ]
  },
  {
   "cell_type": "code",
   "execution_count": 121,
   "metadata": {},
   "outputs": [],
   "source": [
    "def accept(words):\n",
    "    for word in words:\n",
    "        if(not word in vocab):\n",
    "            return False\n",
    "    return True"
   ]
  },
  {
   "cell_type": "code",
   "execution_count": 122,
   "metadata": {},
   "outputs": [
    {
     "data": {
      "text/plain": [
       "True"
      ]
     },
     "execution_count": 122,
     "metadata": {},
     "output_type": "execute_result"
    }
   ],
   "source": [
    "accept([\"alice\"])"
   ]
  },
  {
   "cell_type": "code",
   "execution_count": 123,
   "metadata": {},
   "outputs": [],
   "source": [
    "def text_to_ind(s):\n",
    "    s = normalize(s)\n",
    "    s_words = s.split()\n",
    "    if(not accept(s_words)):\n",
    "        print(\"Error\")\n",
    "        return \"\"\n",
    "    return np.array([word_to_ind[word] for word in s_words])"
   ]
  },
  {
   "cell_type": "code",
   "execution_count": 124,
   "metadata": {},
   "outputs": [],
   "source": [
    "def word_list_to_ind(s_words):\n",
    "    if(not accept(s_words)):\n",
    "        print(\"Error\")\n",
    "        return \"\"\n",
    "    return np.array([word_to_ind[word] for word in s_words])"
   ]
  },
  {
   "cell_type": "code",
   "execution_count": 125,
   "metadata": {},
   "outputs": [
    {
     "data": {
      "text/plain": [
       "array([203, 282, 282])"
      ]
     },
     "execution_count": 125,
     "metadata": {},
     "output_type": "execute_result"
    }
   ],
   "source": [
    "text_to_ind(\"Alice in in\")"
   ]
  },
  {
   "cell_type": "code",
   "execution_count": 126,
   "metadata": {},
   "outputs": [],
   "source": [
    "def ind_to_text(inds):\n",
    "    s = \"\"\n",
    "    for i in range(inds.shape[0]):\n",
    "        s += ind_to_word[inds[i]] + \" \"\n",
    "    return s"
   ]
  },
  {
   "cell_type": "code",
   "execution_count": 127,
   "metadata": {},
   "outputs": [
    {
     "data": {
      "text/plain": [
       "'alice , ? land '"
      ]
     },
     "execution_count": 127,
     "metadata": {},
     "output_type": "execute_result"
    }
   ],
   "source": [
    "ind_to_text(text_to_ind(\"Alice, ? land\"))"
   ]
  },
  {
   "cell_type": "code",
   "execution_count": 128,
   "metadata": {},
   "outputs": [
    {
     "ename": "NameError",
     "evalue": "name 'alice_inds' is not defined",
     "output_type": "error",
     "traceback": [
      "\u001b[1;31m---------------------------------------------------------------------------\u001b[0m",
      "\u001b[1;31mNameError\u001b[0m                                 Traceback (most recent call last)",
      "\u001b[1;32m<ipython-input-128-1231a1fef6ac>\u001b[0m in \u001b[0;36m<module>\u001b[1;34m\u001b[0m\n\u001b[1;32m----> 1\u001b[1;33m \u001b[1;32mdel\u001b[0m\u001b[1;33m(\u001b[0m\u001b[0malice_inds\u001b[0m\u001b[1;33m)\u001b[0m\u001b[1;33m\u001b[0m\u001b[0m\n\u001b[0m",
      "\u001b[1;31mNameError\u001b[0m: name 'alice_inds' is not defined"
     ]
    }
   ],
   "source": [
    "del(alice_inds)"
   ]
  },
  {
   "cell_type": "code",
   "execution_count": 129,
   "metadata": {},
   "outputs": [],
   "source": [
    "alice_ind = word_list_to_ind(alice_words)"
   ]
  },
  {
   "cell_type": "code",
   "execution_count": 130,
   "metadata": {},
   "outputs": [
    {
     "name": "stdout",
     "output_type": "stream",
     "text": [
      "(35585,)\n"
     ]
    }
   ],
   "source": [
    "print(alice_ind.shape)"
   ]
  },
  {
   "cell_type": "code",
   "execution_count": 131,
   "metadata": {},
   "outputs": [],
   "source": [
    "sequence_len = 20\n",
    "train_x = []\n",
    "train_y = []\n",
    "\n",
    "for i in range(alice_ind.shape[0] - sequence_len - 1):\n",
    "    train_x.append(alice_ind[i:i+sequence_len])\n",
    "    train_y.append(alice_ind[i+sequence_len])\n",
    "\n",
    "train_x = np.array(train_x)\n",
    "train_y = np.array(train_y)"
   ]
  },
  {
   "cell_type": "code",
   "execution_count": 132,
   "metadata": {},
   "outputs": [
    {
     "data": {
      "text/plain": [
       "(35564, 20)"
      ]
     },
     "execution_count": 132,
     "metadata": {},
     "output_type": "execute_result"
    }
   ],
   "source": [
    "train_x.shape"
   ]
  },
  {
   "cell_type": "code",
   "execution_count": 133,
   "metadata": {},
   "outputs": [
    {
     "data": {
      "text/plain": [
       "(35564,)"
      ]
     },
     "execution_count": 133,
     "metadata": {},
     "output_type": "execute_result"
    }
   ],
   "source": [
    "train_y.shape"
   ]
  },
  {
   "cell_type": "code",
   "execution_count": 134,
   "metadata": {},
   "outputs": [
    {
     "data": {
      "text/plain": [
       "'having nothing to do : once or twice she had peeped into the book her sister was reading , but '"
      ]
     },
     "execution_count": 134,
     "metadata": {},
     "output_type": "execute_result"
    }
   ],
   "source": [
    "ind_to_text(train_x[46])"
   ]
  },
  {
   "cell_type": "code",
   "execution_count": 135,
   "metadata": {},
   "outputs": [
    {
     "data": {
      "text/plain": [
       "'but '"
      ]
     },
     "execution_count": 135,
     "metadata": {},
     "output_type": "execute_result"
    }
   ],
   "source": [
    "ind_to_text(np.array([train_y[45]]))"
   ]
  },
  {
   "cell_type": "code",
   "execution_count": 136,
   "metadata": {},
   "outputs": [],
   "source": [
    "from keras.layers import LSTM, Dense, Embedding"
   ]
  },
  {
   "cell_type": "code",
   "execution_count": 137,
   "metadata": {},
   "outputs": [],
   "source": [
    "model = keras.Sequential()\n",
    "model.add(Embedding(len(vocab), 30))\n",
    "model.add(LSTM(32, return_sequences=True))\n",
    "model.add(LSTM(64, return_sequences=True))"
   ]
  },
  {
   "cell_type": "code",
   "execution_count": 138,
   "metadata": {},
   "outputs": [
    {
     "name": "stdout",
     "output_type": "stream",
     "text": [
      "_________________________________________________________________\n",
      "Layer (type)                 Output Shape              Param #   \n",
      "=================================================================\n",
      "embedding_4 (Embedding)      (None, None, 30)          77910     \n",
      "_________________________________________________________________\n",
      "lstm_5 (LSTM)                (None, None, 32)          8064      \n",
      "_________________________________________________________________\n",
      "lstm_6 (LSTM)                (None, None, 64)          24832     \n",
      "=================================================================\n",
      "Total params: 110,806\n",
      "Trainable params: 110,806\n",
      "Non-trainable params: 0\n",
      "_________________________________________________________________\n"
     ]
    }
   ],
   "source": [
    "model.summary()"
   ]
  }
 ],
 "metadata": {
  "kernelspec": {
   "display_name": "Python 3",
   "language": "python",
   "name": "python3"
  },
  "language_info": {
   "codemirror_mode": {
    "name": "ipython",
    "version": 3
   },
   "file_extension": ".py",
   "mimetype": "text/x-python",
   "name": "python",
   "nbconvert_exporter": "python",
   "pygments_lexer": "ipython3",
   "version": "3.6.6"
  }
 },
 "nbformat": 4,
 "nbformat_minor": 2
}
