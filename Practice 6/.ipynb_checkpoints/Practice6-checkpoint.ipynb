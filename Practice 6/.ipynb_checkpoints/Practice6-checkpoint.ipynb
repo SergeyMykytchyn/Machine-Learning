{
 "cells": [
  {
   "cell_type": "code",
   "execution_count": 1,
   "metadata": {},
   "outputs": [],
   "source": [
    "import cv2\n",
    "import numpy as np"
   ]
  },
  {
   "cell_type": "markdown",
   "metadata": {},
   "source": [
    "Reading the local image"
   ]
  },
  {
   "cell_type": "code",
   "execution_count": null,
   "metadata": {},
   "outputs": [],
   "source": [
    "img = cv2.imread(\"flower.jpeg\")"
   ]
  },
  {
   "cell_type": "markdown",
   "metadata": {},
   "source": [
    "Displaying image with opencv"
   ]
  },
  {
   "cell_type": "code",
   "execution_count": null,
   "metadata": {},
   "outputs": [],
   "source": [
    "cv2.imshow(\"flower\", img)\n",
    "cv2.waitKey(0)\n",
    "cv2.destroyAllWindows()"
   ]
  },
  {
   "cell_type": "markdown",
   "metadata": {},
   "source": [
    "Displaing video from webcam.\n",
    "Use q key to quit the window"
   ]
  },
  {
   "cell_type": "code",
   "execution_count": null,
   "metadata": {},
   "outputs": [],
   "source": [
    "dev = cv2.VideoCapture(0)\n",
    "\n",
    "while(True):\n",
    "    ret, frame = dev.read()\n",
    "    if (not ret):\n",
    "        continue\n",
    "    xSize, ySize, _ = frame.shape\n",
    "    cv2.imshow(\"webcam\", frame)\n",
    "    if (cv2.waitKey(1) == ord('q')):\n",
    "        break\n",
    "\n",
    "dev.release()\n",
    "cv2.destroyAllWindows() \n",
    "print(xSize, ySize)"
   ]
  },
  {
   "cell_type": "markdown",
   "metadata": {},
   "source": [
    "Reading video from webcam and storing it to the file \"res.avi\", with \"XVID\" codec and 20 fps"
   ]
  },
  {
   "cell_type": "code",
   "execution_count": null,
   "metadata": {},
   "outputs": [],
   "source": [
    "#reading from webcam\n",
    "dev = cv2.VideoCapture(0)\n",
    "#codec\n",
    "fourcc = cv2.VideoWriter_fourcc(*\"XVID\")\n",
    "#writing to file\n",
    "writer = cv2.VideoWriter(\"res.avi\", fourcc,\n",
    "                        20, (ySize, xSize))\n",
    "\n",
    "while(True):\n",
    "    ret, frame = dev.read()\n",
    "    if (not ret):\n",
    "        continue\n",
    "    writer.write(frame)\n",
    "    cv2.imshow(\"webcam\", frame)\n",
    "    if (cv2.waitKey(1) == ord('q')):\n",
    "        break\n",
    "\n",
    "dev.release()\n",
    "writer.release()\n",
    "cv2.destroyAllWindows()"
   ]
  },
  {
   "cell_type": "markdown",
   "metadata": {},
   "source": [
    "Use of the star operator for passing arguments to the function"
   ]
  },
  {
   "cell_type": "code",
   "execution_count": null,
   "metadata": {},
   "outputs": [],
   "source": [
    "def f(a,b):\n",
    "    print(a)\n",
    "    print(b)"
   ]
  },
  {
   "cell_type": "code",
   "execution_count": null,
   "metadata": {},
   "outputs": [],
   "source": [
    "f(*(1,2))"
   ]
  },
  {
   "cell_type": "code",
   "execution_count": null,
   "metadata": {
    "scrolled": true
   },
   "outputs": [],
   "source": [
    "d = {\"a\": 1, \"b\": 2}\n",
    "f(**d)"
   ]
  },
  {
   "cell_type": "markdown",
   "metadata": {},
   "source": [
    "Use of pretrained cascade Haar detector for detecting faces (need to specify the full pass to the xml file with model)"
   ]
  },
  {
   "cell_type": "code",
   "execution_count": null,
   "metadata": {},
   "outputs": [],
   "source": [
    "face_detector = cv2.CascadeClassifier('/home/slavko/anaconda3/envs/Pract/share/OpenCV/haarcascades/haarcascade_frontalface_default.xml')"
   ]
  },
  {
   "cell_type": "markdown",
   "metadata": {},
   "source": [
    "Reading video frames, detecting faces, drawing rectangles around faces"
   ]
  },
  {
   "cell_type": "code",
   "execution_count": null,
   "metadata": {},
   "outputs": [],
   "source": [
    "dev = cv2.VideoCapture(0)\n",
    "\n",
    "while(True):\n",
    "    ret, frame = dev.read()\n",
    "    if (not ret):\n",
    "        continue\n",
    "    xSize, ySize, _ = frame.shape\n",
    "    cv2.imshow(\"webcam\", frame)\n",
    "    frame_gray = cv2.cvtColor(frame, cv2.COLOR_BGR2GRAY)\n",
    "    faces = face_detector.detectMultiScale(frame_gray)\n",
    "    for (x,y,w,h) in faces:\n",
    "        cv2.rectangle(frame, (x,y), (x+w, y+h), [0,0,255], 10)\n",
    "    cv2.imshow(\"faces\", frame)\n",
    "    if (cv2.waitKey(1) == ord('q')):\n",
    "        break\n",
    "\n",
    "dev.release()\n",
    "cv2.destroyAllWindows() \n"
   ]
  },
  {
   "cell_type": "markdown",
   "metadata": {},
   "source": [
    "Converting BGR color of the blob to HSV"
   ]
  },
  {
   "cell_type": "code",
   "execution_count": null,
   "metadata": {
    "scrolled": true
   },
   "outputs": [],
   "source": [
    "blue = np.array([130, 70, 30], \n",
    "                dtype = np.uint8).reshape((1,1,3))\n",
    "print(blue)\n",
    "x = cv2.cvtColor(blue, cv2.COLOR_BGR2HSV)\n",
    "print(x)\n",
    "h_blue = int(x.reshape(-1)[0])\n",
    "print(h_blue)\n",
    "#h_blue is the H component of the required blob color, that is needed"
   ]
  },
  {
   "cell_type": "markdown",
   "metadata": {},
   "source": [
    "Detecting 4 blue blobs on the paper and applying perspective transform to recover initial version of it"
   ]
  },
  {
   "cell_type": "code",
   "execution_count": null,
   "metadata": {
    "scrolled": true
   },
   "outputs": [],
   "source": [
    "dev = cv2.VideoCapture(0)\n",
    "\n",
    "while(True):\n",
    "    ret, frame = dev.read()\n",
    "    if (not ret):\n",
    "        continue\n",
    "    xSize, ySize, _ = frame.shape\n",
    "    cv2.imshow(\"webcam\", frame)\n",
    "    frame_hsv = cv2.cvtColor(frame, cv2.COLOR_BGR2HSV)\n",
    "    lowerBlue = np.uint8([h_blue-10, 50, 50])\n",
    "    upperBlue = np.uint8([h_blue+10, 255, 255])\n",
    "    mask = cv2.inRange(frame_hsv, lowerBlue, upperBlue)\n",
    "    mask = cv2.medianBlur(mask, 21)\n",
    "    out = cv2.connectedComponentsWithStats(mask)\n",
    "    if (out[0] == 5):\n",
    "        centroids = out[3]\n",
    "        blob_centers = centroids[1:, :].astype(np.float32)\n",
    "        dest = np.array([[0,0], [xSize, 0], \n",
    "                         [0, ySize], [xSize, ySize]],\n",
    "                       dtype = np.float32)\n",
    "\n",
    "        M = cv2.getPerspectiveTransform(blob_centers, dest)\n",
    "        frame_tr = cv2.warpPerspective(frame, M, (xSize, ySize))\n",
    "        cv2.imshow(\"frame_tr\", frame_tr)\n",
    "        \n",
    "    frame = cv2.bitwise_and(frame, frame, mask = mask)\n",
    "    cv2.imshow(\"points\",frame)\n",
    "    \n",
    "    if (cv2.waitKey(1) == ord('q')):\n",
    "        break\n",
    "\n",
    "dev.release()\n",
    "cv2.destroyAllWindows() "
   ]
  }
 ],
 "metadata": {
  "kernelspec": {
   "display_name": "Python 3",
   "language": "python",
   "name": "python3"
  },
  "language_info": {
   "codemirror_mode": {
    "name": "ipython",
    "version": 3
   },
   "file_extension": ".py",
   "mimetype": "text/x-python",
   "name": "python",
   "nbconvert_exporter": "python",
   "pygments_lexer": "ipython3",
   "version": "3.6.5"
  }
 },
 "nbformat": 4,
 "nbformat_minor": 2
}
