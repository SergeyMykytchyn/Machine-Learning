{
 "cells": [
  {
   "cell_type": "code",
   "execution_count": 1,
   "metadata": {},
   "outputs": [
    {
     "data": {
      "text/plain": [
       "'C:\\\\Users\\\\hunte\\\\Anaconda3\\\\python.exe'"
      ]
     },
     "execution_count": 1,
     "metadata": {},
     "output_type": "execute_result"
    }
   ],
   "source": [
    "import sys\n",
    "sys.executable"
   ]
  },
  {
   "cell_type": "code",
   "execution_count": 2,
   "metadata": {},
   "outputs": [],
   "source": [
    "import numpy as np"
   ]
  },
  {
   "cell_type": "code",
   "execution_count": 3,
   "metadata": {},
   "outputs": [],
   "source": [
    "import matplotlib.pyplot as plt"
   ]
  },
  {
   "cell_type": "code",
   "execution_count": 5,
   "metadata": {},
   "outputs": [
    {
     "ename": "IndentationError",
     "evalue": "unexpected indent (<ipython-input-5-a9325ade6714>, line 2)",
     "output_type": "error",
     "traceback": [
      "\u001b[1;36m  File \u001b[1;32m\"<ipython-input-5-a9325ade6714>\"\u001b[1;36m, line \u001b[1;32m2\u001b[0m\n\u001b[1;33m    return 1/(1+np.exp(-x))\u001b[0m\n\u001b[1;37m    ^\u001b[0m\n\u001b[1;31mIndentationError\u001b[0m\u001b[1;31m:\u001b[0m unexpected indent\n"
     ]
    }
   ],
   "source": [
    "def sigma(x):\n",
    "    return 1/(1+np.exp(-x))"
   ]
  },
  {
   "cell_type": "code",
   "execution_count": 4,
   "metadata": {},
   "outputs": [
    {
     "ename": "NameError",
     "evalue": "name 'sigma' is not defined",
     "output_type": "error",
     "traceback": [
      "\u001b[1;31m---------------------------------------------------------------------------\u001b[0m",
      "\u001b[1;31mNameError\u001b[0m                                 Traceback (most recent call last)",
      "\u001b[1;32m<ipython-input-4-e79370cf5cdc>\u001b[0m in \u001b[0;36m<module>\u001b[1;34m()\u001b[0m\n\u001b[1;32m----> 1\u001b[1;33m \u001b[0mprint\u001b[0m\u001b[1;33m(\u001b[0m\u001b[0msigma\u001b[0m\u001b[1;33m(\u001b[0m\u001b[1;33m-\u001b[0m\u001b[1;36m1000\u001b[0m\u001b[1;33m)\u001b[0m\u001b[1;33m)\u001b[0m\u001b[1;33m\u001b[0m\u001b[0m\n\u001b[0m",
      "\u001b[1;31mNameError\u001b[0m: name 'sigma' is not defined"
     ]
    }
   ],
   "source": [
    "print(sigma(-1000))"
   ]
  },
  {
   "cell_type": "code",
   "execution_count": 9,
   "metadata": {},
   "outputs": [],
   "source": [
    "def sigma_(x):\n",
    "    if (x>0):\n",
    "        return 1/(1+np.exp(-x))\n",
    "    return np.exp(x)/(1+np.exp(x))"
   ]
  },
  {
   "cell_type": "code",
   "execution_count": 14,
   "metadata": {},
   "outputs": [],
   "source": [
    "x = np.array([1, 2])\n",
    "#y = sigma_(x)\n",
    "#y"
   ]
  },
  {
   "cell_type": "code",
   "execution_count": 15,
   "metadata": {},
   "outputs": [
    {
     "data": {
      "text/plain": [
       "array([0.73105858, 0.88079708])"
      ]
     },
     "execution_count": 15,
     "metadata": {},
     "output_type": "execute_result"
    }
   ],
   "source": [
    "sigma_vect = np.vectorize(sigma_)\n",
    "sigma_vect(x)"
   ]
  },
  {
   "cell_type": "code",
   "execution_count": 17,
   "metadata": {},
   "outputs": [],
   "source": [
    "def softmax(x):\n",
    "    max_elem = np.max(x, axis = 0)\n",
    "    y = x - max_elem\n",
    "    y = np.exp(y)\n",
    "    sums = np.sum(y, axis = 0)\n",
    "    return y / sums"
   ]
  },
  {
   "cell_type": "code",
   "execution_count": 18,
   "metadata": {},
   "outputs": [
    {
     "name": "stdout",
     "output_type": "stream",
     "text": [
      "[[ 0.13681832  0.60019753 -0.12139996 -0.41012642]\n",
      " [ 1.13703332 -1.58919434  0.02044707 -0.82438048]\n",
      " [ 1.57592548 -2.40070334 -0.77317223  1.83431534]]\n",
      "[[0.12601131 0.86078738 0.37403848 0.09012273]\n",
      " [0.34260791 0.09639513 0.43104207 0.05955608]\n",
      " [0.53138077 0.04281749 0.19491945 0.8503212 ]]\n"
     ]
    }
   ],
   "source": [
    "x = np.random.randn(3, 4)\n",
    "print(x)\n",
    "print(softmax(x))"
   ]
  },
  {
   "cell_type": "code",
   "execution_count": 31,
   "metadata": {},
   "outputs": [],
   "source": [
    "C = 4\n",
    "N_class = 20\n",
    "\n",
    "centers = np.array([[-1, 0], [0, -1], [1, 0], [0, 1]]).T\n",
    "X = np.random.randn(2, C, N_class)*0.2 + centers.reshape(2, C, 1)\n",
    "X = X.reshape(2, -1)\n",
    "y_label = np.zeros((C, N_class))\n",
    "y_label[:, :] = np.arange(C).reshape(-1, 1)\n",
    "y_label = y_label.reshape(-1)"
   ]
  },
  {
   "cell_type": "code",
   "execution_count": 32,
   "metadata": {},
   "outputs": [
    {
     "name": "stdout",
     "output_type": "stream",
     "text": [
      "(2, 80)\n"
     ]
    }
   ],
   "source": [
    "print(X.shape)"
   ]
  },
  {
   "cell_type": "code",
   "execution_count": 38,
   "metadata": {},
   "outputs": [
    {
     "name": "stdout",
     "output_type": "stream",
     "text": [
      "(80,)\n"
     ]
    }
   ],
   "source": [
    "print(y_label.shape)"
   ]
  },
  {
   "cell_type": "code",
   "execution_count": 36,
   "metadata": {},
   "outputs": [],
   "source": [
    "def plotPoints(X, y_label):\n",
    "    colors = {0: [1,0,0], 1: [0,1,0], 2: [0,0,1], 3: [1,1,0]}\n",
    "    points_colors = [colors[y_label[i]] for i in range(y_label.size)]\n",
    "    plt.scatter(X[0], X[1], c = points_colors)\n",
    "    plt.show()\n",
    "    print(points_colors)"
   ]
  },
  {
   "cell_type": "code",
   "execution_count": 37,
   "metadata": {},
   "outputs": [
    {
     "data": {
      "image/png": "[encoded data removed]",
      "text/plain": [
       "<Figure size 432x288 with 1 Axes>"
      ]
     },
     "metadata": {},
     "output_type": "display_data"
    },
    {
     "name": "stdout",
     "output_type": "stream",
     "text": [
      "[[1, 0, 0], [1, 0, 0], [1, 0, 0], [1, 0, 0], [1, 0, 0], [1, 0, 0], [1, 0, 0], [1, 0, 0], [1, 0, 0], [1, 0, 0], [1, 0, 0], [1, 0, 0], [1, 0, 0], [1, 0, 0], [1, 0, 0], [1, 0, 0], [1, 0, 0], [1, 0, 0], [1, 0, 0], [1, 0, 0], [0, 1, 0], [0, 1, 0], [0, 1, 0], [0, 1, 0], [0, 1, 0], [0, 1, 0], [0, 1, 0], [0, 1, 0], [0, 1, 0], [0, 1, 0], [0, 1, 0], [0, 1, 0], [0, 1, 0], [0, 1, 0], [0, 1, 0], [0, 1, 0], [0, 1, 0], [0, 1, 0], [0, 1, 0], [0, 1, 0], [0, 0, 1], [0, 0, 1], [0, 0, 1], [0, 0, 1], [0, 0, 1], [0, 0, 1], [0, 0, 1], [0, 0, 1], [0, 0, 1], [0, 0, 1], [0, 0, 1], [0, 0, 1], [0, 0, 1], [0, 0, 1], [0, 0, 1], [0, 0, 1], [0, 0, 1], [0, 0, 1], [0, 0, 1], [0, 0, 1], [1, 1, 0], [1, 1, 0], [1, 1, 0], [1, 1, 0], [1, 1, 0], [1, 1, 0], [1, 1, 0], [1, 1, 0], [1, 1, 0], [1, 1, 0], [1, 1, 0], [1, 1, 0], [1, 1, 0], [1, 1, 0], [1, 1, 0], [1, 1, 0], [1, 1, 0], [1, 1, 0], [1, 1, 0], [1, 1, 0]]\n"
     ]
    }
   ],
   "source": [
    "plotPoints(X, y_label)"
   ]
  },
  {
   "cell_type": "code",
   "execution_count": 61,
   "metadata": {},
   "outputs": [],
   "source": [
    "def getlinearfeatures(X):\n",
    "    return np.vstack((np.ones(X.shape[1]), X))"
   ]
  },
  {
   "cell_type": "code",
   "execution_count": 42,
   "metadata": {},
   "outputs": [],
   "source": [
    "X_train = getlinearfeatures(X)"
   ]
  },
  {
   "cell_type": "code",
   "execution_count": 51,
   "metadata": {},
   "outputs": [],
   "source": [
    "def one_hot_encoding(y_label):\n",
    "    C = int(y_label.max() + 1)\n",
    "    enc = np.zeros((C, y_label.size))\n",
    "    enc[y_label.astype(int), np.arange(y_label.size)] = 1\n",
    "    return enc"
   ]
  },
  {
   "cell_type": "code",
   "execution_count": 46,
   "metadata": {},
   "outputs": [
    {
     "name": "stdout",
     "output_type": "stream",
     "text": [
      "[[0. 0. 0. 1. 0. 0.]\n",
      " [1. 0. 0. 0. 0. 0.]\n",
      " [0. 1. 0. 0. 1. 0.]\n",
      " [0. 0. 1. 0. 0. 1.]]\n"
     ]
    }
   ],
   "source": [
    "y_l = np.array([1, 2, 3, 0, 2, 3])\n",
    "print(one_hot_encoding(y_l))"
   ]
  },
  {
   "cell_type": "code",
   "execution_count": 48,
   "metadata": {},
   "outputs": [],
   "source": [
    "def train(X_train, y_label, iters = 10, alpha = 0.1):\n",
    "    y = one_hot_encoding(y_label)\n",
    "    c = y.shape[0]\n",
    "    Nfeatures = X_train.shape[0]\n",
    "    Nsamples = X_train.shape[1]\n",
    "    W = np.random.randn(C, Nfeatures)\n",
    "    for i in range(iters):\n",
    "        z = softmax(W @ X_train)\n",
    "        delta = z - y\n",
    "        gradW = delta @ X_train.T\n",
    "        W = W - alpha * gradW\n",
    "    return W"
   ]
  },
  {
   "cell_type": "code",
   "execution_count": 52,
   "metadata": {},
   "outputs": [],
   "source": [
    "W_opt = train(X_train, y_label)\n"
   ]
  },
  {
   "cell_type": "code",
   "execution_count": 53,
   "metadata": {},
   "outputs": [
    {
     "name": "stdout",
     "output_type": "stream",
     "text": [
      "[[-0.96246326 -4.55238246 -0.20375566]\n",
      " [-1.00883048 -0.60213425 -4.04611898]\n",
      " [-1.1288493   3.41747475 -0.13863061]\n",
      " [-1.18870061 -0.75711788  3.84286053]]\n"
     ]
    }
   ],
   "source": [
    "print(W_opt)"
   ]
  },
  {
   "cell_type": "code",
   "execution_count": 62,
   "metadata": {},
   "outputs": [],
   "source": [
    "def predict(xx, yy, W_opt):\n",
    "    x_1 = xx.reshape(-1)\n",
    "    y_1 = yy.reshape(-1)\n",
    "    X = getlinearfeatures(np.vstack((x_1, y_1)))\n",
    "    y = np.argmax(W_opt @ X, axis = 0)\n",
    "    return y.reshape(xx.shape)\n",
    "\n",
    "\n",
    " #def getlinearfeatures(X):\n",
    "    #return np.vstack((np.ones(X.shape[1]), X))   "
   ]
  },
  {
   "cell_type": "code",
   "execution_count": 71,
   "metadata": {},
   "outputs": [
    {
     "data": {
      "image/png": "[encoded data removed]",
      "text/plain": [
       "<Figure size 432x288 with 1 Axes>"
      ]
     },
     "metadata": {},
     "output_type": "display_data"
    },
    {
     "name": "stdout",
     "output_type": "stream",
     "text": [
      "[[1, 0, 0], [1, 0, 0], [1, 0, 0], [1, 0, 0], [1, 0, 0], [1, 0, 0], [1, 0, 0], [1, 0, 0], [1, 0, 0], [1, 0, 0], [1, 0, 0], [1, 0, 0], [1, 0, 0], [1, 0, 0], [1, 0, 0], [1, 0, 0], [1, 0, 0], [1, 0, 0], [1, 0, 0], [1, 0, 0], [0, 1, 0], [0, 1, 0], [0, 1, 0], [0, 1, 0], [0, 1, 0], [0, 1, 0], [0, 1, 0], [0, 1, 0], [0, 1, 0], [0, 1, 0], [0, 1, 0], [0, 1, 0], [0, 1, 0], [0, 1, 0], [0, 1, 0], [0, 1, 0], [0, 1, 0], [0, 1, 0], [0, 1, 0], [0, 1, 0], [0, 0, 1], [0, 0, 1], [0, 0, 1], [0, 0, 1], [0, 0, 1], [0, 0, 1], [0, 0, 1], [0, 0, 1], [0, 0, 1], [0, 0, 1], [0, 0, 1], [0, 0, 1], [0, 0, 1], [0, 0, 1], [0, 0, 1], [0, 0, 1], [0, 0, 1], [0, 0, 1], [0, 0, 1], [0, 0, 1], [1, 1, 0], [1, 1, 0], [1, 1, 0], [1, 1, 0], [1, 1, 0], [1, 1, 0], [1, 1, 0], [1, 1, 0], [1, 1, 0], [1, 1, 0], [1, 1, 0], [1, 1, 0], [1, 1, 0], [1, 1, 0], [1, 1, 0], [1, 1, 0], [1, 1, 0], [1, 1, 0], [1, 1, 0], [1, 1, 0]]\n"
     ]
    }
   ],
   "source": [
    "x = np.arange(-2, 2, 0.01)\n",
    "y = np.arange(-2, 2, 0.01)\n",
    "xx, yy = np.meshgrid(x, y)\n",
    "colors = {0: [0.5, 0, 0], 1: [0, 0.5, 0], 2: [0, 0, 0.5], 3: [0.5, 0.5, 0]}\n",
    "labels = predict(xx, yy, W_opt)\n",
    "#point_colors = [colors[label] for label in y_label]\n",
    "\n",
    "#labels = predict(xx, yy, W_opt)\n",
    "plt.contourf(x, y, labels, levels = [-0.5, 0.5, 1.5, 2.5, 3.5], colors = [[0.5, 0, 0], [0, 0.5, 0], [0, 0, 0.5], [0.5, 0.5, 0.5]])\n",
    "plotPoints(X, y_label)\n",
    "#colors = {0: [1,0,0], 1: [0,1,0], 2: [0,0,1], 3: [1,1,0]}\n",
    "#points_colors = \n",
    "#plt.scatter(X_train[1], X_train[2], c = points_colors)\n",
    "#plt.show()"
   ]
  },
  {
   "cell_type": "code",
   "execution_count": 73,
   "metadata": {},
   "outputs": [
    {
     "name": "stdout",
     "output_type": "stream",
     "text": [
      "[[-2.   -1.99 -1.98 ...  1.97  1.98  1.99]\n",
      " [-2.   -1.99 -1.98 ...  1.97  1.98  1.99]\n",
      " [-2.   -1.99 -1.98 ...  1.97  1.98  1.99]\n",
      " ...\n",
      " [-2.   -1.99 -1.98 ...  1.97  1.98  1.99]\n",
      " [-2.   -1.99 -1.98 ...  1.97  1.98  1.99]\n",
      " [-2.   -1.99 -1.98 ...  1.97  1.98  1.99]]\n",
      "(400, 400)\n"
     ]
    }
   ],
   "source": [
    "print(xx)\n",
    "print(xx.shape)"
   ]
  }
 ],
 "metadata": {
  "kernelspec": {
   "display_name": "Python 3",
   "language": "python",
   "name": "python3"
  },
  "language_info": {
   "codemirror_mode": {
    "name": "ipython",
    "version": 3
   },
   "file_extension": ".py",
   "mimetype": "text/x-python",
   "name": "python",
   "nbconvert_exporter": "python",
   "pygments_lexer": "ipython3",
   "version": "3.6.5"
  }
 },
 "nbformat": 4,
 "nbformat_minor": 2
}
