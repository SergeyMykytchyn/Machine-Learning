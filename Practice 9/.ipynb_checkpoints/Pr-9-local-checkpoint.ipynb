{
 "cells": [
  {
   "cell_type": "markdown",
   "metadata": {},
   "source": [
    "Notebook to be executed locally."
   ]
  },
  {
   "cell_type": "code",
   "execution_count": null,
   "metadata": {},
   "outputs": [
    {
     "name": "stderr",
     "output_type": "stream",
     "text": [
      "Using TensorFlow backend.\n"
     ]
    }
   ],
   "source": [
    "import keras\n",
    "import cv2"
   ]
  },
  {
   "cell_type": "code",
   "execution_count": null,
   "metadata": {},
   "outputs": [],
   "source": [
    "from keras.layers import Conv2D, Dropout\n",
    "model = keras.models.Sequential()\n",
    "model.add(Conv2D(16, (3,3), padding=\"same\", \n",
    "        activation=\"relu\", input_shape=(96,96,1)))\n",
    "model.add(Dropout(0.2))\n",
    "model.add(Conv2D(24, (3,3), padding=\"same\", \n",
    "        activation=\"relu\"))\n",
    "model.add(Dropout(0.2))\n",
    "model.add(Conv2D(32, (3,3), padding=\"same\", \n",
    "        activation=\"relu\"))\n",
    "model.add(Dropout(0.2))\n",
    "model.add(Conv2D(40, (3,3), padding=\"same\", \n",
    "        activation=\"relu\"))\n",
    "model.add(Dropout(0.2))\n",
    "model.add(Conv2D(15, (3,3), padding=\"same\",\n",
    "        activation=softMaxAxis1))"
   ]
  },
  {
   "cell_type": "markdown",
   "metadata": {},
   "source": [
    "Loading weights of the model trained on google colab."
   ]
  },
  {
   "cell_type": "code",
   "execution_count": null,
   "metadata": {},
   "outputs": [],
   "source": [
    "model.load_weights(\"face_weights\")"
   ]
  },
  {
   "cell_type": "code",
   "execution_count": null,
   "metadata": {},
   "outputs": [],
   "source": [
    "def predict(frame):\n",
    "    frame = frame.reshape(1, 96, 96, 1)\n",
    "    points = model.predict(frame)[0]\n",
    "    point_coords = np.unravel_index\\\n",
    "    (np.argmax(points.reshape(-1,15), axis = 0), (96, 96))\n",
    "    point_coords = np.array(point_coords).T\n",
    "    return point_coords"
   ]
  },
  {
   "cell_type": "markdown",
   "metadata": {},
   "source": [
    "Running trained model on faces detected with Haar cascades."
   ]
  },
  {
   "cell_type": "code",
   "execution_count": null,
   "metadata": {},
   "outputs": [],
   "source": [
    "face_detector = cv2.CascadeClassifier('/home/slavko/anaconda3/envs/3D/share/OpenCV/haarcascades/haarcascade_frontalface_default.xml')"
   ]
  },
  {
   "cell_type": "code",
   "execution_count": null,
   "metadata": {},
   "outputs": [],
   "source": [
    "dev = cv2.VideoCapture(0)\n",
    "try:\n",
    "    while(True):\n",
    "        ret, frame = dev.read()\n",
    "        if (not ret):\n",
    "            continue\n",
    "        xSize, ySize, _ = frame.shape\n",
    "        cv2.imshow(\"webcam\", frame)\n",
    "        frame_gray = cv2.cvtColor(frame, cv2.COLOR_BGR2GRAY)\n",
    "        faces = face_detector.detectMultiScale(frame_gray)\n",
    "        if (len(faces)>0):\n",
    "            (x,y,w,h) = faces[0]\n",
    "            cv2.rectangle(frame, (x,y), (x+w, y+h), [0,0,255], 10)\n",
    "            face = frame_gray[y:y+h, x:x+w]\n",
    "            face_resized = cv2.resize(face, (96, 96))\n",
    "            coords = predict(face_resized)\n",
    "            for i in range(15):\n",
    "                face_resized = cv2.circle(face_resized, \n",
    "                                          (coords[i][0],coords[i][1]) \n",
    "                                           , 3, (255,0,0))\n",
    "            cv2.imshow(\"new face\", face_resized)\n",
    "        \n",
    "            \n",
    "        cv2.imshow(\"faces\", frame)\n",
    "        if (cv2.waitKey(1) == ord('q')):\n",
    "            break\n",
    "except Exception as e:\n",
    "    print(e)\n",
    "\n",
    "dev.release()\n",
    "cv2.destroyAllWindows() "
   ]
  }
 ],
 "metadata": {
  "kernelspec": {
   "display_name": "Python 3",
   "language": "python",
   "name": "python3"
  },
  "language_info": {
   "codemirror_mode": {
    "name": "ipython",
    "version": 3
   },
   "file_extension": ".py",
   "mimetype": "text/x-python",
   "name": "python",
   "nbconvert_exporter": "python",
   "pygments_lexer": "ipython3",
   "version": "3.6.6"
  }
 },
 "nbformat": 4,
 "nbformat_minor": 2
}
