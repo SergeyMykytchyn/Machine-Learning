{
 "cells": [
  {
   "cell_type": "markdown",
   "metadata": {},
   "source": [
    "Usage of the library face_recognition for face detection and one-shot face recognition."
   ]
  },
  {
   "cell_type": "code",
   "execution_count": 1,
   "metadata": {},
   "outputs": [
    {
     "name": "stdout",
     "output_type": "stream",
     "text": [
      "/home/slavko/anaconda3/envs/Face/bin/python\n"
     ]
    }
   ],
   "source": [
    "import sys\n",
    "print(sys.executable)"
   ]
  },
  {
   "cell_type": "code",
   "execution_count": 2,
   "metadata": {},
   "outputs": [],
   "source": [
    "import face_recognition"
   ]
  },
  {
   "cell_type": "code",
   "execution_count": 3,
   "metadata": {},
   "outputs": [],
   "source": [
    "import cv2"
   ]
  },
  {
   "cell_type": "markdown",
   "metadata": {},
   "source": [
    "Load faces of persons to classify"
   ]
  },
  {
   "cell_type": "code",
   "execution_count": 4,
   "metadata": {},
   "outputs": [],
   "source": [
    "hinton_face = face_recognition.load_image_file(\"hinton.png\")\n",
    "ein_face = face_recognition.load_image_file(\"ein.png\")\n",
    "bor_face = face_recognition.load_image_file(\"bor.png\")"
   ]
  },
  {
   "cell_type": "code",
   "execution_count": 5,
   "metadata": {},
   "outputs": [],
   "source": [
    "hinton_face_enc = face_recognition.face_encodings(hinton_face)[0]\n",
    "ein_face_enc = face_recognition.face_encodings(ein_face)[0]\n",
    "bor_face_enc = face_recognition.face_encodings(bor_face)[0]"
   ]
  },
  {
   "cell_type": "code",
   "execution_count": 7,
   "metadata": {},
   "outputs": [],
   "source": [
    "known_face_encodings = [hinton_face_enc, ein_face_enc, bor_face_enc]"
   ]
  },
  {
   "cell_type": "code",
   "execution_count": 8,
   "metadata": {},
   "outputs": [],
   "source": [
    "known_face_names = [\"Hinton\", \"Ein\", \"Bor\"]"
   ]
  },
  {
   "cell_type": "markdown",
   "metadata": {},
   "source": [
    "Classify images live from the webcam."
   ]
  },
  {
   "cell_type": "code",
   "execution_count": 11,
   "metadata": {},
   "outputs": [],
   "source": [
    "cap = cv2.VideoCapture(0)\n",
    "\n",
    "try:\n",
    "    while(True):\n",
    "        ret, frame = cap.read()\n",
    "        if (not ret):\n",
    "            break\n",
    "        \n",
    "        face_locations = face_recognition.face_locations(frame, model=\"hog\")\n",
    "        face_encodings = face_recognition.face_encodings(frame, face_locations)\n",
    "        face_points = face_recognition.face_landmarks(frame, face_locations)\n",
    "        #print(face_points)\n",
    "        \n",
    "        for (top, right, bottom, left), face_encoding in zip(face_locations, face_encodings):\n",
    "            matches = face_recognition.compare_faces(known_face_encodings, face_encoding)\n",
    "            \n",
    "            name=\"Unknown\"\n",
    "            if True in matches:\n",
    "                first_match_index = matches.index(True)\n",
    "                name = known_face_names[first_match_index]\n",
    "            \n",
    "            frame = cv2.rectangle(frame, (left, top), (right, bottom), (255,0,0), 5)\n",
    "            frame = cv2.putText(frame, name, (left, top-10), cv2.FONT_HERSHEY_COMPLEX, 1, (255,0,0))\n",
    "        for face_lands in face_points:\n",
    "            for facial_feature in face_lands.keys():\n",
    "                for point in face_lands[facial_feature]:\n",
    "                    #print(point)\n",
    "                    cv2.circle(frame, point, \n",
    "                           2, (0,0,255), -1)\n",
    "        \n",
    "        cv2.imshow(\"frame\", frame)\n",
    "        if (cv2.waitKey(1)==ord('q')):\n",
    "            break\n",
    "except Exception as e:\n",
    "    print(e)\n",
    "cap.release()\n",
    "cv2.destroyAllWindows()"
   ]
  }
 ],
 "metadata": {
  "kernelspec": {
   "display_name": "Python 3",
   "language": "python",
   "name": "python3"
  },
  "language_info": {
   "codemirror_mode": {
    "name": "ipython",
    "version": 3
   },
   "file_extension": ".py",
   "mimetype": "text/x-python",
   "name": "python",
   "nbconvert_exporter": "python",
   "pygments_lexer": "ipython3",
   "version": "3.6.4"
  }
 },
 "nbformat": 4,
 "nbformat_minor": 2
}
