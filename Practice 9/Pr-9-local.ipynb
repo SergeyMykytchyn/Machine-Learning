{
 "cells": [
  {
   "cell_type": "markdown",
   "metadata": {},
   "source": [
    "Notebook to be executed locally."
   ]
  },
  {
   "cell_type": "code",
   "execution_count": 1,
   "metadata": {},
   "outputs": [
    {
     "name": "stderr",
     "output_type": "stream",
     "text": [
      "Using TensorFlow backend.\n"
     ]
    }
   ],
   "source": [
    "import keras\n",
    "import cv2"
   ]
  },
  {
   "cell_type": "code",
   "execution_count": 17,
   "metadata": {},
   "outputs": [],
   "source": [
    "def softMaxAxis1(x):\n",
    "    return keras.activations.softmax(x, axis=1)"
   ]
  },
  {
   "cell_type": "code",
   "execution_count": 8,
   "metadata": {},
   "outputs": [],
   "source": [
    "from keras.layers import Input, Dense, Conv2D, BatchNormalization, \\\n",
    "MaxPool2D, UpSampling2D, Concatenate, ReLU, Dropout"
   ]
  },
  {
   "cell_type": "code",
   "execution_count": 9,
   "metadata": {},
   "outputs": [],
   "source": [
    "inp = Input(shape=(96,96,1))\n",
    "enc1 = Conv2D(16, (3,3), padding=\"same\")(inp)\n",
    "enc1 = BatchNormalization()(enc1)\n",
    "enc1 = Dropout(0.2)(enc1)\n",
    "enc1 = ReLU()(enc1)\n",
    "p1 = MaxPool2D()(enc1)\n",
    "enc2 = Conv2D(32, (3,3), padding=\"same\")(p1)\n",
    "enc2 = BatchNormalization()(enc2)\n",
    "enc2 = Dropout(0.2)(enc2)\n",
    "enc2 = ReLU()(enc2)\n",
    "p2 = MaxPool2D()(enc2)\n",
    "enc3 = Conv2D(48, (3,3), padding=\"same\")(p2)\n",
    "enc3 = BatchNormalization()(enc3)\n",
    "enc3 = Dropout(0.2)(enc3)\n",
    "enc3 = ReLU()(enc3)\n",
    "p3 = MaxPool2D()(enc3)\n",
    "dec4 = Conv2D(48, (3,3), padding=\"same\")(p3)\n",
    "dec4 = BatchNormalization()(dec4)\n",
    "dec4 = Dropout(0.2)(dec4)\n",
    "dec4 = ReLU()(dec4)\n",
    "q3 = UpSampling2D()(dec4)\n",
    "q3 = Concatenate()([q3, p2, enc3])\n",
    "dec3 = Conv2D(32, (3,3), padding=\"same\")(q3)\n",
    "dec3 = BatchNormalization()(dec3)\n",
    "dec3 = Dropout(0.2)(dec3)\n",
    "dec3 = ReLU()(dec3)\n",
    "q2 = UpSampling2D()(dec3)\n",
    "q2 = Concatenate()([q2, p1, enc2])\n",
    "dec2 = Conv2D(16, (3,3), padding=\"same\", activation=\"relu\")(q2)\n",
    "dec2 = BatchNormalization()(dec2)\n",
    "dec2 = Dropout(0.2)(dec2)\n",
    "dec2 = ReLU()(dec2)\n",
    "q1 = UpSampling2D()(dec2)\n",
    "q1 = Concatenate()([q1, inp, enc1])\n",
    "dec1 = Conv2D(15, (3,3), padding=\"same\", \n",
    "              activation=lambda x: keras.activations.softmax(x,axis=-1))(q1)\n",
    "\n",
    "point_extractor = keras.Model(inp, dec1)\n",
    "point_extractor.compile(optimizer=keras.optimizers.Adam(), \n",
    "        loss = keras.losses.categorical_crossentropy)"
   ]
  },
  {
   "cell_type": "code",
   "execution_count": 18,
   "metadata": {},
   "outputs": [],
   "source": [
    "from keras.layers import Conv2D, Dropout\n",
    "model = keras.models.Sequential()\n",
    "model.add(Conv2D(16, (3,3), padding=\"same\", \n",
    "        activation=\"relu\", input_shape=(96,96,1)))\n",
    "model.add(Dropout(0.2))\n",
    "model.add(Conv2D(24, (3,3), padding=\"same\", \n",
    "        activation=\"relu\"))\n",
    "model.add(Dropout(0.2))\n",
    "model.add(Conv2D(32, (3,3), padding=\"same\", \n",
    "        activation=\"relu\"))\n",
    "model.add(Dropout(0.2))\n",
    "model.add(Conv2D(40, (3,3), padding=\"same\", \n",
    "        activation=\"relu\"))\n",
    "model.add(Dropout(0.2))\n",
    "model.add(Conv2D(15, (3,3), padding=\"same\",\n",
    "        activation=softMaxAxis1))"
   ]
  },
  {
   "cell_type": "markdown",
   "metadata": {},
   "source": [
    "Loading weights of the model trained on google colab."
   ]
  },
  {
   "cell_type": "code",
   "execution_count": 12,
   "metadata": {},
   "outputs": [],
   "source": [
    "point_extractor.load_weights(\"face_weights_9\")"
   ]
  },
  {
   "cell_type": "code",
   "execution_count": 17,
   "metadata": {},
   "outputs": [],
   "source": [
    "def predict(frame):\n",
    "    frame = frame.reshape(1, 96, 96, 1)\n",
    "    points = point_extractor.predict(frame)[0]\n",
    "    point_coords = np.unravel_index\\\n",
    "    (np.argmax(points.reshape(-1,15), axis = 0), (96, 96))\n",
    "    point_coords = np.array(point_coords).T\n",
    "    return point_coords"
   ]
  },
  {
   "cell_type": "markdown",
   "metadata": {},
   "source": [
    "Running trained model on faces detected with Haar cascades."
   ]
  },
  {
   "cell_type": "code",
   "execution_count": 14,
   "metadata": {},
   "outputs": [],
   "source": [
    "face_detector = cv2.CascadeClassifier('C:\\\\Users\\\\hunte\\\\Anaconda3\\\\envs\\\\env2\\\\Library\\\\etc\\\\haarcascades\\\\haarcascade_frontalface_default.xml')"
   ]
  },
  {
   "cell_type": "code",
   "execution_count": 15,
   "metadata": {},
   "outputs": [],
   "source": [
    "import numpy as np"
   ]
  },
  {
   "cell_type": "code",
   "execution_count": 19,
   "metadata": {},
   "outputs": [],
   "source": [
    "dev = cv2.VideoCapture(0)\n",
    "try:\n",
    "    while(True):\n",
    "        ret, frame = dev.read()\n",
    "        if (not ret):\n",
    "            continue\n",
    "        xSize, ySize, _ = frame.shape\n",
    "        cv2.imshow(\"webcam\", frame)\n",
    "        frame_gray = cv2.cvtColor(frame, cv2.COLOR_BGR2GRAY)\n",
    "        faces = face_detector.detectMultiScale(frame_gray)\n",
    "        if (len(faces)>0):\n",
    "            (x,y,w,h) = faces[0]\n",
    "            cv2.rectangle(frame, (x,y), (x+w, y+h), [0,0,255], 10)\n",
    "            face = frame_gray[y:y+h, x:x+w]/255\n",
    "            face_resized = cv2.resize(face, (96, 96))\n",
    "            coords = predict(face_resized)\n",
    "            for i in range(15):\n",
    "                face_resized = cv2.circle(face_resized, \n",
    "                                          (coords[i][1],coords[i][0]) \n",
    "                                           , 3, (255,0,0))\n",
    "            cv2.imshow(\"new face\", face_resized)\n",
    "        \n",
    "            \n",
    "        cv2.imshow(\"faces\", frame)\n",
    "        if (cv2.waitKey(1) == ord('q')):\n",
    "            break\n",
    "except Exception as e:\n",
    "    print(e)\n",
    "\n",
    "dev.release()\n",
    "cv2.destroyAllWindows() "
   ]
  }
 ],
 "metadata": {
  "kernelspec": {
   "display_name": "Python 3",
   "language": "python",
   "name": "python3"
  },
  "language_info": {
   "codemirror_mode": {
    "name": "ipython",
    "version": 3
   },
   "file_extension": ".py",
   "mimetype": "text/x-python",
   "name": "python",
   "nbconvert_exporter": "python",
   "pygments_lexer": "ipython3",
   "version": "3.6.6"
  }
 },
 "nbformat": 4,
 "nbformat_minor": 2
}
