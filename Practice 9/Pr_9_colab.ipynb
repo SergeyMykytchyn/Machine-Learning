{
 "cells": [
  {
   "cell_type": "code",
   "execution_count": null,
   "metadata": {},
   "outputs": [],
   "source": [
    "from google.colab import drive\n",
    "drive.mount(\"/content/drive\")"
   ]
  },
  {
   "cell_type": "code",
   "execution_count": null,
   "metadata": {
    "colab": {},
    "colab_type": "code",
    "id": "spmn1uXygzYg"
   },
   "outputs": [],
   "source": [
    "import os\n",
    "os.chdir(\"drive/My Drive/face\")"
   ]
  },
  {
   "cell_type": "code",
   "execution_count": null,
   "metadata": {},
   "outputs": [],
   "source": [
    "import pandas as pd\n",
    "import numpy as np"
   ]
  },
  {
   "cell_type": "markdown",
   "metadata": {},
   "source": [
    "Reading csv file with training data."
   ]
  },
  {
   "cell_type": "code",
   "execution_count": null,
   "metadata": {
    "colab": {},
    "colab_type": "code",
    "id": "iVZ6DbsxgsiT"
   },
   "outputs": [],
   "source": [
    "df = pd.read_csv(\"training.csv\")"
   ]
  },
  {
   "cell_type": "code",
   "execution_count": null,
   "metadata": {
    "colab": {
     "base_uri": "https://localhost:8080/",
     "height": 35
    },
    "colab_type": "code",
    "executionInfo": {
     "elapsed": 916,
     "status": "ok",
     "timestamp": 1542203906288,
     "user": {
      "displayName": "Slava Slava",
      "photoUrl": "",
      "userId": "02712437078834846038"
     },
     "user_tz": -120
    },
    "id": "0OFaZnJHgsia",
    "outputId": "d56aff37-5c5a-4ba8-b0cf-23cd44f084f7"
   },
   "outputs": [],
   "source": [
    "df.values.shape"
   ]
  },
  {
   "cell_type": "code",
   "execution_count": null,
   "metadata": {
    "colab": {},
    "colab_type": "code",
    "id": "NFCu85BFgsiv"
   },
   "outputs": [],
   "source": [
    "images = df.Image.values"
   ]
  },
  {
   "cell_type": "markdown",
   "metadata": {},
   "source": [
    "Converting images to numpy."
   ]
  },
  {
   "cell_type": "code",
   "execution_count": null,
   "metadata": {
    "colab": {},
    "colab_type": "code",
    "id": "HnkHfdhVgsi8"
   },
   "outputs": [],
   "source": [
    "images = np.zeros((df.values.shape[0], 96, 96))\n",
    "for i in range(df.values.shape[0]):\n",
    "    images[i] = np.fromstring(df.Image.values[i], \n",
    "                              sep = \" \").reshape(96,96)"
   ]
  },
  {
   "cell_type": "code",
   "execution_count": null,
   "metadata": {
    "colab": {
     "base_uri": "https://localhost:8080/",
     "height": 35
    },
    "colab_type": "code",
    "executionInfo": {
     "elapsed": 984,
     "status": "ok",
     "timestamp": 1542203950016,
     "user": {
      "displayName": "Slava Slava",
      "photoUrl": "",
      "userId": "02712437078834846038"
     },
     "user_tz": -120
    },
    "id": "3GBAn1HjgsjG",
    "outputId": "ab2aabd8-35e9-42b3-e17b-083446d045b4"
   },
   "outputs": [],
   "source": [
    "images.shape"
   ]
  },
  {
   "cell_type": "code",
   "execution_count": null,
   "metadata": {
    "colab": {},
    "colab_type": "code",
    "id": "YiBIHGddgsjU"
   },
   "outputs": [],
   "source": [
    "coords = df.values[:, :30].astype(\"float\")"
   ]
  },
  {
   "cell_type": "code",
   "execution_count": null,
   "metadata": {
    "colab": {
     "base_uri": "https://localhost:8080/",
     "height": 35
    },
    "colab_type": "code",
    "executionInfo": {
     "elapsed": 1267,
     "status": "ok",
     "timestamp": 1542203955922,
     "user": {
      "displayName": "Slava Slava",
      "photoUrl": "",
      "userId": "02712437078834846038"
     },
     "user_tz": -120
    },
    "id": "Hu_N-gprgsje",
    "outputId": "9b2e30e3-eb4d-434e-c699-2191397df240"
   },
   "outputs": [],
   "source": [
    "coords.shape"
   ]
  },
  {
   "cell_type": "markdown",
   "metadata": {},
   "source": [
    "Deleting images and coord vectors with nan values."
   ]
  },
  {
   "cell_type": "code",
   "execution_count": null,
   "metadata": {
    "colab": {},
    "colab_type": "code",
    "id": "87Ok9tElgsjx"
   },
   "outputs": [],
   "source": [
    "isNanMatrix = np.isnan(coords)"
   ]
  },
  {
   "cell_type": "code",
   "execution_count": null,
   "metadata": {
    "colab": {},
    "colab_type": "code",
    "id": "V3hN2yacgsj7"
   },
   "outputs": [],
   "source": [
    "rowsWithNan = isNanMatrix.any(axis=1)"
   ]
  },
  {
   "cell_type": "code",
   "execution_count": null,
   "metadata": {
    "colab": {},
    "colab_type": "code",
    "id": "xkD8kAHXgskD"
   },
   "outputs": [],
   "source": [
    "coordsNew = coords[~rowsWithNan]\n",
    "imagesNew = images[~rowsWithNan]"
   ]
  },
  {
   "cell_type": "code",
   "execution_count": null,
   "metadata": {
    "colab": {
     "base_uri": "https://localhost:8080/",
     "height": 35
    },
    "colab_type": "code",
    "executionInfo": {
     "elapsed": 777,
     "status": "ok",
     "timestamp": 1542203966201,
     "user": {
      "displayName": "Slava Slava",
      "photoUrl": "",
      "userId": "02712437078834846038"
     },
     "user_tz": -120
    },
    "id": "9aJZhRfDgskO",
    "outputId": "99a22f40-88d0-431b-b53a-8b2d97fbb14b"
   },
   "outputs": [],
   "source": [
    "coordsNew.shape"
   ]
  },
  {
   "cell_type": "code",
   "execution_count": null,
   "metadata": {
    "colab": {
     "base_uri": "https://localhost:8080/",
     "height": 35
    },
    "colab_type": "code",
    "executionInfo": {
     "elapsed": 1024,
     "status": "ok",
     "timestamp": 1542203968750,
     "user": {
      "displayName": "Slava Slava",
      "photoUrl": "",
      "userId": "02712437078834846038"
     },
     "user_tz": -120
    },
    "id": "G4-qk77jgskX",
    "outputId": "5b744760-0370-4a0b-b9cf-0d257cf727ea"
   },
   "outputs": [],
   "source": [
    "imagesNew.shape"
   ]
  },
  {
   "cell_type": "markdown",
   "metadata": {},
   "source": [
    "Rounding coords to create pixel tensor containing 1-s at positions of special points and zeros elsewhere."
   ]
  },
  {
   "cell_type": "code",
   "execution_count": null,
   "metadata": {
    "colab": {},
    "colab_type": "code",
    "id": "9PHUB4d8gskg"
   },
   "outputs": [],
   "source": [
    "coordsNewRounded = np.round(coordsNew).astype(int) - 1"
   ]
  },
  {
   "cell_type": "code",
   "execution_count": null,
   "metadata": {
    "colab": {},
    "colab_type": "code",
    "id": "LUxBCZUSgskp"
   },
   "outputs": [],
   "source": [
    "coordsNewReshaped = coordsNewRounded.reshape\\\n",
    "(imagesNew.shape[0], 15, 2)"
   ]
  },
  {
   "cell_type": "code",
   "execution_count": null,
   "metadata": {
    "colab": {},
    "colab_type": "code",
    "id": "HWx9i-vogskz"
   },
   "outputs": [],
   "source": [
    "pixelTensor = np.zeros((imagesNew.shape[0], 96, 96, 15), \n",
    "                       dtype = float)\n",
    "for image in range(imagesNew.shape[0]):\n",
    "    for feature in range(15):\n",
    "        pixelTensor[image, \n",
    "                    coordsNewReshaped[image, feature, 1],\n",
    "                    coordsNewReshaped[image, feature, 0],\n",
    "                    feature] = 1.0"
   ]
  },
  {
   "cell_type": "markdown",
   "metadata": {},
   "source": [
    "Checking values of tensor."
   ]
  },
  {
   "cell_type": "code",
   "execution_count": null,
   "metadata": {
    "colab": {
     "base_uri": "https://localhost:8080/",
     "height": 35
    },
    "colab_type": "code",
    "executionInfo": {
     "elapsed": 998,
     "status": "ok",
     "timestamp": 1542203982298,
     "user": {
      "displayName": "Slava Slava",
      "photoUrl": "",
      "userId": "02712437078834846038"
     },
     "user_tz": -120
    },
    "id": "Djk-T5TPgsk-",
    "outputId": "1df1d682-8a62-4c00-fff9-ad1946f38d51"
   },
   "outputs": [],
   "source": [
    "np.unravel_index(pixelTensor[0,:,:,0].argmax(), \n",
    "                 (96,96))"
   ]
  },
  {
   "cell_type": "code",
   "execution_count": null,
   "metadata": {
    "colab": {},
    "colab_type": "code",
    "id": "B_UMDm__gslQ",
    "outputId": "0b094291-c1bc-4909-9fbf-9d510553d968"
   },
   "outputs": [],
   "source": [
    "pixelTensor[0, 38, 65, 0]"
   ]
  },
  {
   "cell_type": "code",
   "execution_count": null,
   "metadata": {
    "colab": {
     "base_uri": "https://localhost:8080/",
     "height": 35
    },
    "colab_type": "code",
    "executionInfo": {
     "elapsed": 1029,
     "status": "ok",
     "timestamp": 1542203989503,
     "user": {
      "displayName": "Slava Slava",
      "photoUrl": "",
      "userId": "02712437078834846038"
     },
     "user_tz": -120
    },
    "id": "efAcnrjlgslf",
    "outputId": "001b1cf1-383e-4818-a07d-b980222de7f9"
   },
   "outputs": [],
   "source": [
    "coordsNewReshaped[0][0]"
   ]
  },
  {
   "cell_type": "code",
   "execution_count": null,
   "metadata": {
    "colab": {
     "base_uri": "https://localhost:8080/",
     "height": 35
    },
    "colab_type": "code",
    "executionInfo": {
     "elapsed": 978,
     "status": "ok",
     "timestamp": 1542203992058,
     "user": {
      "displayName": "Slava Slava",
      "photoUrl": "",
      "userId": "02712437078834846038"
     },
     "user_tz": -120
    },
    "id": "o98m5pfBgslp",
    "outputId": "a459408f-4d75-40e5-989c-859f37d0f033"
   },
   "outputs": [],
   "source": [
    "imagesNew.shape"
   ]
  },
  {
   "cell_type": "code",
   "execution_count": null,
   "metadata": {
    "colab": {
     "base_uri": "https://localhost:8080/",
     "height": 35
    },
    "colab_type": "code",
    "executionInfo": {
     "elapsed": 716,
     "status": "ok",
     "timestamp": 1542203993834,
     "user": {
      "displayName": "Slava Slava",
      "photoUrl": "",
      "userId": "02712437078834846038"
     },
     "user_tz": -120
    },
    "id": "BVQvMYbtgsl6",
    "outputId": "754e7278-295f-4cb3-e8f1-4d2cf4cf3762"
   },
   "outputs": [],
   "source": [
    "pixelTensor.shape"
   ]
  },
  {
   "cell_type": "code",
   "execution_count": null,
   "metadata": {
    "colab": {},
    "colab_type": "code",
    "id": "UZEaoP5Pgsl_"
   },
   "outputs": [],
   "source": [
    "imagesNew = imagesNew.reshape\\\n",
    "(imagesNew.shape + (1,))/255"
   ]
  },
  {
   "cell_type": "code",
   "execution_count": null,
   "metadata": {
    "colab": {
     "base_uri": "https://localhost:8080/",
     "height": 35
    },
    "colab_type": "code",
    "executionInfo": {
     "elapsed": 779,
     "status": "ok",
     "timestamp": 1542203999632,
     "user": {
      "displayName": "Slava Slava",
      "photoUrl": "",
      "userId": "02712437078834846038"
     },
     "user_tz": -120
    },
    "id": "6sVXprsDgsmC",
    "outputId": "23ac65a6-0ae5-4f5f-a339-2900b5f08580"
   },
   "outputs": [],
   "source": [
    "imagesNew.shape"
   ]
  },
  {
   "cell_type": "markdown",
   "metadata": {},
   "source": [
    "Splitting into train and test set"
   ]
  },
  {
   "cell_type": "code",
   "execution_count": null,
   "metadata": {
    "colab": {},
    "colab_type": "code",
    "id": "2Oicb9iCgsmQ"
   },
   "outputs": [],
   "source": [
    "images_train = imagesNew[:1500, :, :, :]\n",
    "images_test = imagesNew[1500:, :, :, :]\n",
    "pixel_train = pixelTensor[:1500, :, :, :]\n",
    "pixel_test = pixelTensor[1500:, :, :, :]"
   ]
  },
  {
   "cell_type": "markdown",
   "metadata": {},
   "source": [
    "Building the model (this type of network is not working well). We use layerwise softmax at the last layer \n",
    "(last tensor has depth 15 that corresponds to 15 points of interest on the image)"
   ]
  },
  {
   "cell_type": "code",
   "execution_count": null,
   "metadata": {
    "colab": {
     "base_uri": "https://localhost:8080/",
     "height": 35
    },
    "colab_type": "code",
    "executionInfo": {
     "elapsed": 2553,
     "status": "ok",
     "timestamp": 1542204005576,
     "user": {
      "displayName": "Slava Slava",
      "photoUrl": "",
      "userId": "02712437078834846038"
     },
     "user_tz": -120
    },
    "id": "V-XZiQ4DgsmV",
    "outputId": "dd9fde8f-3a53-4719-f472-e9ba04239409"
   },
   "outputs": [],
   "source": [
    "import keras"
   ]
  },
  {
   "cell_type": "code",
   "execution_count": null,
   "metadata": {
    "colab": {},
    "colab_type": "code",
    "id": "3lV0JxAmgsmh"
   },
   "outputs": [],
   "source": [
    "def softMaxAxis1(x):\n",
    "    return keras.activations.softmax(x,axis=-1)"
   ]
  },
  {
   "cell_type": "code",
   "execution_count": null,
   "metadata": {
    "colab": {},
    "colab_type": "code",
    "id": "TwnOSdOEgsmd"
   },
   "outputs": [],
   "source": [
    "from keras.layers import Conv2D, Dropout"
   ]
  },
  {
   "cell_type": "code",
   "execution_count": null,
   "metadata": {
    "colab": {},
    "colab_type": "code",
    "id": "-IN6B-50gsmo"
   },
   "outputs": [],
   "source": [
    "model = keras.models.Sequential()\n",
    "model.add(Conv2D(16, (3,3), padding=\"same\", \n",
    "        activation=\"relu\", input_shape=(96,96,1)))\n",
    "model.add(Dropout(0.2))\n",
    "model.add(Conv2D(24, (3,3), padding=\"same\", \n",
    "        activation=\"relu\"))\n",
    "model.add(Dropout(0.2))\n",
    "model.add(Conv2D(32, (3,3), padding=\"same\", \n",
    "        activation=\"relu\"))\n",
    "model.add(Dropout(0.2))\n",
    "model.add(Conv2D(40, (3,3), padding=\"same\", \n",
    "        activation=\"relu\"))\n",
    "model.add(Dropout(0.2))\n",
    "model.add(Conv2D(15, (3,3), padding=\"same\",\n",
    "        activation=softMaxAxis1))\n",
    "#model.add(keras.activations.softmax(axis = -1))"
   ]
  },
  {
   "cell_type": "code",
   "execution_count": null,
   "metadata": {
    "colab": {},
    "colab_type": "code",
    "id": "1m_6fMTZgsmu"
   },
   "outputs": [],
   "source": [
    "model.compile(optimizer=keras.optimizers.Adam(), \n",
    "        loss = keras.losses.categorical_crossentropy)"
   ]
  },
  {
   "cell_type": "code",
   "execution_count": null,
   "metadata": {
    "colab": {
     "base_uri": "https://localhost:8080/",
     "height": 392
    },
    "colab_type": "code",
    "executionInfo": {
     "elapsed": 61075,
     "status": "ok",
     "timestamp": 1542204547061,
     "user": {
      "displayName": "Slava Slava",
      "photoUrl": "",
      "userId": "02712437078834846038"
     },
     "user_tz": -120
    },
    "id": "wdQiuK2Jgsm0",
    "outputId": "58e4615b-5db8-4b01-f534-1b6b0213d73a"
   },
   "outputs": [],
   "source": [
    "model.fit(images_train, pixel_train, \n",
    "          batch_size=32, epochs=10)"
   ]
  },
  {
   "cell_type": "code",
   "execution_count": null,
   "metadata": {
    "colab": {
     "base_uri": "https://localhost:8080/",
     "height": 35
    },
    "colab_type": "code",
    "executionInfo": {
     "elapsed": 1701,
     "status": "ok",
     "timestamp": 1542204551554,
     "user": {
      "displayName": "Slava Slava",
      "photoUrl": "",
      "userId": "02712437078834846038"
     },
     "user_tz": -120
    },
    "id": "7F8u0ma0hymP",
    "outputId": "b0ee7124-092b-493a-f32e-c77334506765"
   },
   "outputs": [],
   "source": [
    "score = model.evaluate(images_test, pixel_test)"
   ]
  },
  {
   "cell_type": "code",
   "execution_count": null,
   "metadata": {
    "colab": {
     "base_uri": "https://localhost:8080/",
     "height": 35
    },
    "colab_type": "code",
    "executionInfo": {
     "elapsed": 1039,
     "status": "ok",
     "timestamp": 1542204554244,
     "user": {
      "displayName": "Slava Slava",
      "photoUrl": "",
      "userId": "02712437078834846038"
     },
     "user_tz": -120
    },
    "id": "m64c2HzciY3m",
    "outputId": "1d8186a5-7e4f-4050-e002-24f7b13aa5f2"
   },
   "outputs": [],
   "source": [
    "print(score)"
   ]
  },
  {
   "cell_type": "markdown",
   "metadata": {},
   "source": [
    "Saving the trained model to google drive"
   ]
  },
  {
   "cell_type": "code",
   "execution_count": null,
   "metadata": {
    "colab": {},
    "colab_type": "code",
    "id": "xFDrMMCRjvww"
   },
   "outputs": [],
   "source": [
    "model.save(\"model_face\")"
   ]
  },
  {
   "cell_type": "code",
   "execution_count": null,
   "metadata": {
    "colab": {},
    "colab_type": "code",
    "id": "VrU5GWDHlWxr"
   },
   "outputs": [],
   "source": [
    "model.save_weights(\"face_weights\")"
   ]
  }
 ],
 "metadata": {
  "accelerator": "GPU",
  "colab": {
   "name": "face1.ipynb",
   "provenance": [],
   "version": "0.3.2"
  },
  "kernelspec": {
   "display_name": "Python 3",
   "language": "python",
   "name": "python3"
  },
  "language_info": {
   "codemirror_mode": {
    "name": "ipython",
    "version": 3
   },
   "file_extension": ".py",
   "mimetype": "text/x-python",
   "name": "python",
   "nbconvert_exporter": "python",
   "pygments_lexer": "ipython3",
   "version": "3.6.4"
  }
 },
 "nbformat": 4,
 "nbformat_minor": 1
}
