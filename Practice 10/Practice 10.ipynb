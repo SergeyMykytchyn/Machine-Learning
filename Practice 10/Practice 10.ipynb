{
 "cells": [
  {
   "cell_type": "code",
   "execution_count": 2,
   "metadata": {},
   "outputs": [],
   "source": [
    "import cv2"
   ]
  },
  {
   "cell_type": "code",
   "execution_count": 4,
   "metadata": {},
   "outputs": [],
   "source": [
    "import matplotlib.pyplot as plt"
   ]
  },
  {
   "cell_type": "code",
   "execution_count": 14,
   "metadata": {},
   "outputs": [
    {
     "name": "stderr",
     "output_type": "stream",
     "text": [
      "Using TensorFlow backend.\n"
     ]
    }
   ],
   "source": [
    "import keras"
   ]
  },
  {
   "cell_type": "code",
   "execution_count": 6,
   "metadata": {},
   "outputs": [
    {
     "data": {
      "text/plain": [
       "<Figure size 432x288 with 0 Axes>"
      ]
     },
     "metadata": {},
     "output_type": "display_data"
    }
   ],
   "source": [
    "plt.gray()"
   ]
  },
  {
   "cell_type": "code",
   "execution_count": 15,
   "metadata": {},
   "outputs": [],
   "source": [
    "face_detector = cv2.CascadeClassifier('C:\\\\Users\\\\hunte\\\\Anaconda3\\\\envs\\\\env2\\\\Library\\\\etc\\\\haarcascades\\\\haarcascade_frontalface_default.xml')"
   ]
  },
  {
   "cell_type": "code",
   "execution_count": 139,
   "metadata": {},
   "outputs": [],
   "source": [
    "dev = cv2.VideoCapture(0)\n",
    "numb = 7\n",
    "try:\n",
    "    while(True):\n",
    "        ret, frame = dev.read()\n",
    "        if (not ret):\n",
    "            continue\n",
    "        xSize, ySize, _ = frame.shape\n",
    "        cv2.imshow(\"webcam\", frame)\n",
    "        frame_gray = cv2.cvtColor(frame, cv2.COLOR_BGR2GRAY)\n",
    "        cv2.imshow(\"faces\", frame)\n",
    "        if(cv2.waitKey(1) == ord('a')):\n",
    "            name = str(numb)+\".jpg\"\n",
    "            numb+=1\n",
    "            plt.imsave(name, frame_gray)\n",
    "        if (cv2.waitKey(1) == ord('q')):\n",
    "            break\n",
    "except Exception as e:\n",
    "    print(e)\n",
    "\n",
    "dev.release()\n",
    "cv2.destroyAllWindows() "
   ]
  },
  {
   "cell_type": "code",
   "execution_count": 13,
   "metadata": {},
   "outputs": [],
   "source": [
    "import os"
   ]
  },
  {
   "cell_type": "code",
   "execution_count": 148,
   "metadata": {},
   "outputs": [],
   "source": [
    "path = \"faces/\"\n",
    "names = []\n",
    "images = []\n",
    "for f in os.listdir(path):\n",
    "    file = path + f\n",
    "    name = f.split('.')[0]\n",
    "    names.append(name)\n",
    "    im = cv2.imread(file)\n",
    "    im = cv2.cvtColor(im, cv2.COLOR_BGR2GRAY)\n",
    "    faces = face_detector.detectMultiScale(im)\n",
    "    (x,y,w,h) = faces[0]\n",
    "    face_detected = im[y:y+h, x:x+w]/255\n",
    "    face_result = cv2.resize(face_detected, (96, 96))\n",
    "    images.append(face_result)"
   ]
  },
  {
   "cell_type": "code",
   "execution_count": 141,
   "metadata": {},
   "outputs": [
    {
     "data": {
      "text/plain": [
       "['anna',\n",
       " 'pasha',\n",
       " 'serg',\n",
       " 'serg',\n",
       " 'serg',\n",
       " 'serg',\n",
       " 'serg',\n",
       " 'serg',\n",
       " 'serg',\n",
       " 'sergiy',\n",
       " 'veronika',\n",
       " 'volodya']"
      ]
     },
     "execution_count": 141,
     "metadata": {},
     "output_type": "execute_result"
    }
   ],
   "source": [
    "names"
   ]
  },
  {
   "cell_type": "code",
   "execution_count": 142,
   "metadata": {},
   "outputs": [],
   "source": [
    "import numpy as np"
   ]
  },
  {
   "cell_type": "code",
   "execution_count": 149,
   "metadata": {},
   "outputs": [],
   "source": [
    "train_images = np.stack(images)"
   ]
  },
  {
   "cell_type": "code",
   "execution_count": 144,
   "metadata": {},
   "outputs": [
    {
     "data": {
      "text/plain": [
       "(12, 96, 96)"
      ]
     },
     "execution_count": 144,
     "metadata": {},
     "output_type": "execute_result"
    }
   ],
   "source": [
    "train_images.shape"
   ]
  },
  {
   "cell_type": "code",
   "execution_count": 145,
   "metadata": {},
   "outputs": [
    {
     "data": {
      "text/plain": [
       "(96, 96)"
      ]
     },
     "execution_count": 145,
     "metadata": {},
     "output_type": "execute_result"
    }
   ],
   "source": [
    "train_images[2].shape"
   ]
  },
  {
   "cell_type": "code",
   "execution_count": 172,
   "metadata": {},
   "outputs": [
    {
     "data": {
      "text/plain": [
       "<matplotlib.image.AxesImage at 0x12c182c18d0>"
      ]
     },
     "execution_count": 172,
     "metadata": {},
     "output_type": "execute_result"
    },
    {
     "data": {
      "image/png": "[encoded data removed]",
      "text/plain": [
       "<Figure size 432x288 with 1 Axes>"
      ]
     },
     "metadata": {
      "needs_background": "light"
     },
     "output_type": "display_data"
    }
   ],
   "source": [
    "plt.imshow(train_images[2])"
   ]
  },
  {
   "cell_type": "code",
   "execution_count": 186,
   "metadata": {},
   "outputs": [],
   "source": [
    "Nfaces = train_images.shape[0]"
   ]
  },
  {
   "cell_type": "code",
   "execution_count": 187,
   "metadata": {},
   "outputs": [
    {
     "data": {
      "text/plain": [
       "11"
      ]
     },
     "execution_count": 187,
     "metadata": {},
     "output_type": "execute_result"
    }
   ],
   "source": [
    "Nfaces"
   ]
  },
  {
   "cell_type": "code",
   "execution_count": 153,
   "metadata": {},
   "outputs": [],
   "source": [
    "def createTrainingSet():\n",
    "    img_a = []\n",
    "    img_b = []\n",
    "    out = []\n",
    "    for a in range(Nfaces):\n",
    "        for b in range(Nfaces):\n",
    "            img_a.append(train_images[a])\n",
    "            img_b.append(train_images[b])\n",
    "            out.append(a==b)\n",
    "    images_a = np.stack(img_a)\n",
    "    images_b = np.stack(img_b)\n",
    "    images_a = images_a.reshape(images_a.shape+(1,))\n",
    "    images_b = images_b.reshape(images_b.shape+(1,))\n",
    "    return np.stack(images_a), np.stack(images_b), np.stack(out).astype(int)"
   ]
  },
  {
   "cell_type": "code",
   "execution_count": 154,
   "metadata": {},
   "outputs": [],
   "source": [
    "train = createTrainingSet()"
   ]
  },
  {
   "cell_type": "code",
   "execution_count": 180,
   "metadata": {},
   "outputs": [
    {
     "data": {
      "text/plain": [
       "(121, 96, 96, 1)"
      ]
     },
     "execution_count": 180,
     "metadata": {},
     "output_type": "execute_result"
    }
   ],
   "source": [
    "train[0].shape"
   ]
  },
  {
   "cell_type": "code",
   "execution_count": 188,
   "metadata": {},
   "outputs": [],
   "source": [
    "def generateBatch():\n",
    "    gen_a = keras.preprocessing.image.ImageDataGenerator(rotation_range = 30, width_shift_range = 0.2, height_shift_range = 0.2, fill_mode = \"constant\")\n",
    "    image_a_gen = gen_a.flow(train[0], batch_size = Nfaces*Nfaces, shuffle = False)\n",
    "    while(True):\n",
    "        yield [next(image_a_gen), train[1]], train[2]"
   ]
  },
  {
   "cell_type": "code",
   "execution_count": 55,
   "metadata": {},
   "outputs": [],
   "source": [
    "def f():\n",
    "    n = 5\n",
    "    while(True):\n",
    "        n+=1\n",
    "        yield n"
   ]
  },
  {
   "cell_type": "code",
   "execution_count": 54,
   "metadata": {},
   "outputs": [],
   "source": [
    "x = f()"
   ]
  },
  {
   "cell_type": "code",
   "execution_count": 58,
   "metadata": {},
   "outputs": [
    {
     "name": "stdout",
     "output_type": "stream",
     "text": [
      "8\n"
     ]
    }
   ],
   "source": [
    "y = next(x)\n",
    "print(y)"
   ]
  },
  {
   "cell_type": "code",
   "execution_count": 189,
   "metadata": {},
   "outputs": [],
   "source": [
    "x = generateBatch()\n",
    "y = next(x)"
   ]
  },
  {
   "cell_type": "code",
   "execution_count": 190,
   "metadata": {},
   "outputs": [
    {
     "data": {
      "text/plain": [
       "(121, 96, 96, 1)"
      ]
     },
     "execution_count": 190,
     "metadata": {},
     "output_type": "execute_result"
    }
   ],
   "source": [
    "np.stack(y[0][0]).shape"
   ]
  },
  {
   "cell_type": "code",
   "execution_count": 167,
   "metadata": {},
   "outputs": [
    {
     "data": {
      "text/plain": [
       "<matplotlib.image.AxesImage at 0x12c1739e860>"
      ]
     },
     "execution_count": 167,
     "metadata": {},
     "output_type": "execute_result"
    },
    {
     "data": {
      "image/png": "[encoded data removed]",
      "text/plain": [
       "<Figure size 432x288 with 1 Axes>"
      ]
     },
     "metadata": {
      "needs_background": "light"
     },
     "output_type": "display_data"
    }
   ],
   "source": [
    "plt.imshow(y[0][0][33].reshape((96,96)))"
   ]
  },
  {
   "cell_type": "code",
   "execution_count": 173,
   "metadata": {},
   "outputs": [],
   "source": [
    "from keras.layers import Input, Dense, Conv2D, BatchNormalization, \\\n",
    "MaxPool2D, UpSampling2D, Concatenate, ReLU, Dropout, Flatten, Subtract, Activation"
   ]
  },
  {
   "cell_type": "code",
   "execution_count": 174,
   "metadata": {},
   "outputs": [],
   "source": [
    "import keras.backend as K"
   ]
  },
  {
   "cell_type": "code",
   "execution_count": 175,
   "metadata": {},
   "outputs": [],
   "source": [
    "inp = Input((96, 96, 1))\n",
    "c1 = Conv2D(16, (3, 3), padding=\"same\", activation = 'relu')(inp)\n",
    "c1 = Dropout(0.2)(c1)\n",
    "p1 = MaxPool2D()(c1)\n",
    "c2 = Conv2D(32, (3, 3), padding = \"same\", activation='relu')(p1)\n",
    "c2 = Dropout(0.2)(c2)\n",
    "p2 = MaxPool2D()(c2)\n",
    "c3 = Conv2D(48, (3, 3), padding = \"same\", activation='relu')(p2)\n",
    "c3 = Dropout(0.2)(c3)\n",
    "p3 = MaxPool2D()(c3)\n",
    "c4 = Conv2D(60, (3, 3), padding = \"same\", activation='relu')(p3)\n",
    "c4 = Dropout(0.2)(c4)\n",
    "p4 = MaxPool2D((12, 12))(c4)\n",
    "res = Flatten()(p4)\n",
    "\n",
    "feature_model = keras.Model(inp, res)"
   ]
  },
  {
   "cell_type": "code",
   "execution_count": 176,
   "metadata": {},
   "outputs": [],
   "source": [
    "inp_a = Input((96, 96, 1))\n",
    "inp_b = Input((96, 96, 1))\n",
    "\n",
    "feature_a = feature_model(inp_a)\n",
    "feature_b = feature_model(inp_b)\n",
    "\n",
    "diff = Subtract()([feature_a, feature_b])\n",
    "abs_diff = Activation(K.abs)(diff)\n",
    "point = Dense(1, activation=\"sigmoid\")(abs_diff)\n",
    "\n",
    "siamese_net = keras.Model([inp_a, inp_b], point)"
   ]
  },
  {
   "cell_type": "code",
   "execution_count": 177,
   "metadata": {},
   "outputs": [],
   "source": [
    "siamese_net.compile(optimizer=keras.optimizers.Adam(), loss=keras.losses.binary_crossentropy)"
   ]
  },
  {
   "cell_type": "code",
   "execution_count": 191,
   "metadata": {},
   "outputs": [
    {
     "name": "stdout",
     "output_type": "stream",
     "text": [
      "Epoch 1/100\n",
      "1/1 [==============================] - 32s 32s/step - loss: 0.7142\n",
      "Epoch 2/100\n",
      "1/1 [==============================] - 11s 11s/step - loss: 0.6621\n",
      "Epoch 3/100\n",
      "1/1 [==============================] - 9s 9s/step - loss: 0.6217\n",
      "Epoch 4/100\n",
      "1/1 [==============================] - 10s 10s/step - loss: 0.5726\n",
      "Epoch 5/100\n",
      "1/1 [==============================] - 12s 12s/step - loss: 0.5178\n",
      "Epoch 6/100\n",
      "1/1 [==============================] - 11s 11s/step - loss: 0.4531\n",
      "Epoch 7/100\n",
      "1/1 [==============================] - 9s 9s/step - loss: 0.4049\n",
      "Epoch 8/100\n",
      "1/1 [==============================] - 9s 9s/step - loss: 0.3471\n",
      "Epoch 9/100\n",
      "1/1 [==============================] - 9s 9s/step - loss: 0.2939\n",
      "Epoch 10/100\n",
      "1/1 [==============================] - 9s 9s/step - loss: 0.2460\n",
      "Epoch 11/100\n",
      "1/1 [==============================] - 14s 14s/step - loss: 0.2125\n",
      "Epoch 12/100\n",
      "1/1 [==============================] - 13s 13s/step - loss: 0.2001\n",
      "Epoch 13/100\n",
      "1/1 [==============================] - 10s 10s/step - loss: 0.1883\n",
      "Epoch 14/100\n",
      "1/1 [==============================] - 12s 12s/step - loss: 0.2164\n",
      "Epoch 15/100\n",
      "1/1 [==============================] - 9s 9s/step - loss: 0.2006\n",
      "Epoch 16/100\n",
      "1/1 [==============================] - 9s 9s/step - loss: 0.1955\n",
      "Epoch 17/100\n",
      "1/1 [==============================] - 10s 10s/step - loss: 0.2134\n",
      "Epoch 18/100\n",
      "1/1 [==============================] - 9s 9s/step - loss: 0.2116\n",
      "Epoch 19/100\n",
      "1/1 [==============================] - 8s 8s/step - loss: 0.2246\n",
      "Epoch 20/100\n",
      "1/1 [==============================] - 10s 10s/step - loss: 0.2419\n",
      "Epoch 21/100\n",
      "1/1 [==============================] - 18s 18s/step - loss: 0.1827\n",
      "Epoch 22/100\n",
      "1/1 [==============================] - 14s 14s/step - loss: 0.2417\n",
      "Epoch 23/100\n",
      "1/1 [==============================] - 12s 12s/step - loss: 0.1958\n",
      "Epoch 24/100\n",
      "1/1 [==============================] - 14s 14s/step - loss: 0.2395\n",
      "Epoch 25/100\n",
      "1/1 [==============================] - 12s 12s/step - loss: 0.2014\n",
      "Epoch 26/100\n",
      "1/1 [==============================] - 10s 10s/step - loss: 0.1516\n",
      "Epoch 27/100\n",
      "1/1 [==============================] - 11s 11s/step - loss: 0.2164\n",
      "Epoch 28/100\n",
      "1/1 [==============================] - 13s 13s/step - loss: 0.1662\n",
      "Epoch 29/100\n",
      "1/1 [==============================] - 16s 16s/step - loss: 0.1719\n",
      "Epoch 30/100\n",
      "1/1 [==============================] - 15s 15s/step - loss: 0.1990\n",
      "Epoch 31/100\n",
      "1/1 [==============================] - 12s 12s/step - loss: 0.2055\n",
      "Epoch 32/100\n",
      "1/1 [==============================] - 13s 13s/step - loss: 0.1742\n",
      "Epoch 33/100\n",
      "1/1 [==============================] - 10s 10s/step - loss: 0.2019\n",
      "Epoch 34/100\n",
      "1/1 [==============================] - 9s 9s/step - loss: 0.1756\n",
      "Epoch 35/100\n",
      "1/1 [==============================] - 9s 9s/step - loss: 0.1765\n",
      "Epoch 36/100\n",
      "1/1 [==============================] - 9s 9s/step - loss: 0.1650\n",
      "Epoch 37/100\n",
      "1/1 [==============================] - 10s 10s/step - loss: 0.1624\n",
      "Epoch 38/100\n",
      "1/1 [==============================] - 12s 12s/step - loss: 0.1775\n",
      "Epoch 39/100\n",
      "1/1 [==============================] - 15s 15s/step - loss: 0.1709\n",
      "Epoch 40/100\n",
      "1/1 [==============================] - 11s 11s/step - loss: 0.1393\n",
      "Epoch 41/100\n",
      "1/1 [==============================] - 12s 12s/step - loss: 0.1733\n",
      "Epoch 42/100\n",
      "1/1 [==============================] - 15s 15s/step - loss: 0.1764\n",
      "Epoch 43/100\n",
      "1/1 [==============================] - 12s 12s/step - loss: 0.1849\n",
      "Epoch 44/100\n",
      "1/1 [==============================] - 13s 13s/step - loss: 0.1689\n",
      "Epoch 45/100\n",
      "1/1 [==============================] - 11s 11s/step - loss: 0.1654\n",
      "Epoch 46/100\n",
      "1/1 [==============================] - 14s 14s/step - loss: 0.2161\n",
      "Epoch 47/100\n",
      "1/1 [==============================] - 14s 14s/step - loss: 0.1756\n",
      "Epoch 48/100\n",
      "1/1 [==============================] - 11s 11s/step - loss: 0.1631\n",
      "Epoch 49/100\n",
      "1/1 [==============================] - 11s 11s/step - loss: 0.1662\n",
      "Epoch 50/100\n",
      "1/1 [==============================] - 11s 11s/step - loss: 0.1580\n",
      "Epoch 51/100\n",
      "1/1 [==============================] - 15s 15s/step - loss: 0.1575\n",
      "Epoch 52/100\n",
      "1/1 [==============================] - 11s 11s/step - loss: 0.1501\n",
      "Epoch 53/100\n",
      "1/1 [==============================] - 10s 10s/step - loss: 0.1724\n",
      "Epoch 54/100\n",
      "1/1 [==============================] - 14s 14s/step - loss: 0.1553\n",
      "Epoch 55/100\n",
      "1/1 [==============================] - 11s 11s/step - loss: 0.1435\n",
      "Epoch 56/100\n",
      "1/1 [==============================] - 12s 12s/step - loss: 0.1541\n",
      "Epoch 57/100\n",
      "1/1 [==============================] - 9s 9s/step - loss: 0.1367\n",
      "Epoch 58/100\n",
      "1/1 [==============================] - 9s 9s/step - loss: 0.1335\n",
      "Epoch 59/100\n",
      "1/1 [==============================] - 9s 9s/step - loss: 0.1471\n",
      "Epoch 60/100\n",
      "1/1 [==============================] - 10s 10s/step - loss: 0.1998\n",
      "Epoch 61/100\n",
      "1/1 [==============================] - 10s 10s/step - loss: 0.1975\n",
      "Epoch 62/100\n",
      "1/1 [==============================] - 10s 10s/step - loss: 0.1748\n",
      "Epoch 63/100\n",
      "1/1 [==============================] - 11s 11s/step - loss: 0.1575\n",
      "Epoch 64/100\n",
      "1/1 [==============================] - 9s 9s/step - loss: 0.1379\n",
      "Epoch 65/100\n",
      "1/1 [==============================] - 9s 9s/step - loss: 0.1414\n",
      "Epoch 66/100\n",
      "1/1 [==============================] - 9s 9s/step - loss: 0.1468\n",
      "Epoch 67/100\n",
      "1/1 [==============================] - 10s 10s/step - loss: 0.1328\n",
      "Epoch 68/100\n",
      "1/1 [==============================] - 9s 9s/step - loss: 0.1382\n",
      "Epoch 69/100\n",
      "1/1 [==============================] - 10s 10s/step - loss: 0.1374\n",
      "Epoch 70/100\n",
      "1/1 [==============================] - 10s 10s/step - loss: 0.1204\n",
      "Epoch 71/100\n",
      "1/1 [==============================] - 9s 9s/step - loss: 0.1451\n",
      "Epoch 72/100\n",
      "1/1 [==============================] - 9s 9s/step - loss: 0.1319\n",
      "Epoch 73/100\n",
      "1/1 [==============================] - 9s 9s/step - loss: 0.1635\n",
      "Epoch 74/100\n",
      "1/1 [==============================] - 9s 9s/step - loss: 0.1473\n",
      "Epoch 75/100\n",
      "1/1 [==============================] - 9s 9s/step - loss: 0.1275\n",
      "Epoch 76/100\n",
      "1/1 [==============================] - 10s 10s/step - loss: 0.0956\n",
      "Epoch 77/100\n",
      "1/1 [==============================] - 10s 10s/step - loss: 0.1395\n",
      "Epoch 78/100\n",
      "1/1 [==============================] - 9s 9s/step - loss: 0.1130\n",
      "Epoch 79/100\n",
      "1/1 [==============================] - 10s 10s/step - loss: 0.1291\n",
      "Epoch 80/100\n",
      "1/1 [==============================] - 9s 9s/step - loss: 0.1477\n",
      "Epoch 81/100\n",
      "1/1 [==============================] - 9s 9s/step - loss: 0.1839\n",
      "Epoch 82/100\n",
      "1/1 [==============================] - 9s 9s/step - loss: 0.1415\n",
      "Epoch 83/100\n",
      "1/1 [==============================] - 10s 10s/step - loss: 0.1125\n",
      "Epoch 84/100\n",
      "1/1 [==============================] - 10s 10s/step - loss: 0.1113\n",
      "Epoch 85/100\n",
      "1/1 [==============================] - 13s 13s/step - loss: 0.1376\n",
      "Epoch 86/100\n",
      "1/1 [==============================] - 10s 10s/step - loss: 0.1398\n",
      "Epoch 87/100\n",
      "1/1 [==============================] - 9s 9s/step - loss: 0.1212\n",
      "Epoch 88/100\n",
      "1/1 [==============================] - 10s 10s/step - loss: 0.1183\n",
      "Epoch 89/100\n",
      "1/1 [==============================] - 15s 15s/step - loss: 0.1279\n",
      "Epoch 90/100\n",
      "1/1 [==============================] - 11s 11s/step - loss: 0.1048\n",
      "Epoch 91/100\n",
      "1/1 [==============================] - 12s 12s/step - loss: 0.1044\n",
      "Epoch 92/100\n",
      "1/1 [==============================] - 9s 9s/step - loss: 0.1223\n",
      "Epoch 93/100\n",
      "1/1 [==============================] - 10s 10s/step - loss: 0.1344\n",
      "Epoch 94/100\n",
      "1/1 [==============================] - 9s 9s/step - loss: 0.1022\n",
      "Epoch 95/100\n",
      "1/1 [==============================] - 11s 11s/step - loss: 0.1215\n",
      "Epoch 96/100\n",
      "1/1 [==============================] - 11s 11s/step - loss: 0.1081\n",
      "Epoch 97/100\n",
      "1/1 [==============================] - 11s 11s/step - loss: 0.0992\n",
      "Epoch 98/100\n",
      "1/1 [==============================] - 12s 12s/step - loss: 0.0984\n",
      "Epoch 99/100\n",
      "1/1 [==============================] - 11s 11s/step - loss: 0.1126\n",
      "Epoch 100/100\n",
      "1/1 [==============================] - 11s 11s/step - loss: 0.0989\n"
     ]
    },
    {
     "data": {
      "text/plain": [
       "<keras.callbacks.History at 0x12c18b137b8>"
      ]
     },
     "execution_count": 191,
     "metadata": {},
     "output_type": "execute_result"
    }
   ],
   "source": [
    "siamese_net.fit_generator(generateBatch(), epochs=100, steps_per_epoch=1, shuffle=False)"
   ]
  },
  {
   "cell_type": "code",
   "execution_count": 192,
   "metadata": {},
   "outputs": [],
   "source": [
    "def predict(image):\n",
    "    image = image.reshape(1, 96, 96, 1)\n",
    "    image = np.repeat(image, Nfaces, axis=0)\n",
    "    train_images_new = train_images.reshape(train_images.shape+(1,))\n",
    "    prediction = siamese_net.predict([image, train_images_new])\n",
    "    name = \"unknown\"\n",
    "    #if(prediction.max()>0.9):\n",
    "    name = names[np.argmax(prediction)]\n",
    "    return name"
   ]
  },
  {
   "cell_type": "code",
   "execution_count": 196,
   "metadata": {},
   "outputs": [
    {
     "data": {
      "text/plain": [
       "'serg'"
      ]
     },
     "execution_count": 196,
     "metadata": {},
     "output_type": "execute_result"
    }
   ],
   "source": [
    "predict(train_images[6])"
   ]
  },
  {
   "cell_type": "code",
   "execution_count": 197,
   "metadata": {},
   "outputs": [
    {
     "data": {
      "text/plain": [
       "['anna',\n",
       " 'pasha',\n",
       " 'serg',\n",
       " 'serg',\n",
       " 'serg',\n",
       " 'serg',\n",
       " 'serg',\n",
       " 'serg',\n",
       " 'sergiy',\n",
       " 'veronika',\n",
       " 'volodya']"
      ]
     },
     "execution_count": 197,
     "metadata": {},
     "output_type": "execute_result"
    }
   ],
   "source": [
    "names"
   ]
  },
  {
   "cell_type": "code",
   "execution_count": 198,
   "metadata": {},
   "outputs": [],
   "source": [
    "dev = cv2.VideoCapture(0)\n",
    "try:\n",
    "    while(True):\n",
    "        ret, frame = dev.read()\n",
    "        if (not ret):\n",
    "            continue\n",
    "        xSize, ySize, _ = frame.shape\n",
    "        cv2.imshow(\"webcam\", frame)\n",
    "        frame_gray = cv2.cvtColor(frame, cv2.COLOR_BGR2GRAY)\n",
    "        faces = face_detector.detectMultiScale(frame_gray)\n",
    "        if (len(faces)):\n",
    "            (x,y,w,h) = faces[0]\n",
    "            cv2.rectangle(frame, (x,y), (x+w, y+h), [0,0,255], 10)\n",
    "            face = frame_gray[y:y+h, x:x+w]/255\n",
    "            face_resized = cv2.resize(face, (96, 96))\n",
    "            name = predict(face_resized)\n",
    "            cv2.putText(frame, name, (x, y), cv2.FONT_HERSHEY_COMPLEX, 2, (255, 0, 0))\n",
    "            \n",
    "        cv2.imshow(\"faces\", frame)\n",
    "        if (cv2.waitKey(1) == ord('q')):\n",
    "            break\n",
    "except Exception as e:\n",
    "    print(e)\n",
    "\n",
    "dev.release()\n",
    "cv2.destroyAllWindows() "
   ]
  }
 ],
 "metadata": {
  "kernelspec": {
   "display_name": "Python 3",
   "language": "python",
   "name": "python3"
  },
  "language_info": {
   "codemirror_mode": {
    "name": "ipython",
    "version": 3
   },
   "file_extension": ".py",
   "mimetype": "text/x-python",
   "name": "python",
   "nbconvert_exporter": "python",
   "pygments_lexer": "ipython3",
   "version": "3.6.6"
  }
 },
 "nbformat": 4,
 "nbformat_minor": 2
}
