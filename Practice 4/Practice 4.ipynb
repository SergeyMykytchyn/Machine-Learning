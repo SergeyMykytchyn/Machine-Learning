{
 "cells": [
  {
   "cell_type": "code",
   "execution_count": 1,
   "metadata": {},
   "outputs": [],
   "source": [
    "import numpy as np"
   ]
  },
  {
   "cell_type": "code",
   "execution_count": 45,
   "metadata": {},
   "outputs": [],
   "source": [
    "import matplotlib.pyplot as plt"
   ]
  },
  {
   "cell_type": "code",
   "execution_count": 5,
   "metadata": {},
   "outputs": [
    {
     "name": "stdout",
     "output_type": "stream",
     "text": [
      "(60000, 785)\n",
      "(10000, 785)\n",
      "(60000,)\n",
      "(784, 60000)\n",
      "(10000,)\n",
      "(784, 10000)\n"
     ]
    }
   ],
   "source": [
    "train_data = np.genfromtxt(\"mnist_train.csv\", delimiter=',')\n",
    "test_data = np.genfromtxt(\"mnist_test.csv\", delimiter=',')\n",
    "print(train_data.shape)\n",
    "print(test_data.shape)\n",
    "N_train = 60000\n",
    "N_test = 10000\n",
    "train_labels = train_data[:N_train, 0].astype(int)\n",
    "train_images = train_data[:N_train, 1:].T/255\n",
    "test_labels = test_data[:N_test, 0].astype(int)\n",
    "test_images = test_data[:N_test, 1:].T/255\n",
    "print(train_labels.shape)\n",
    "print(train_images.shape)\n",
    "print(test_labels.shape)\n",
    "print(test_images.shape)"
   ]
  },
  {
   "cell_type": "code",
   "execution_count": 6,
   "metadata": {},
   "outputs": [],
   "source": [
    "def softmax(x):\n",
    "    max_elem = np.max(x, axis = 0)\n",
    "    y = x - max_elem\n",
    "    y = np.exp(y)\n",
    "    sums = np.sum(y, axis = 0)\n",
    "    return y / sums"
   ]
  },
  {
   "cell_type": "code",
   "execution_count": 7,
   "metadata": {},
   "outputs": [],
   "source": [
    "def one_hot_encoding(y_label):\n",
    "    C = int(y_label.max() + 1)\n",
    "    enc = np.zeros((C, y_label.size))\n",
    "    enc[y_label.astype(int), np.arange(y_label.size)] = 1\n",
    "    return enc"
   ]
  },
  {
   "cell_type": "code",
   "execution_count": 8,
   "metadata": {},
   "outputs": [],
   "source": [
    "eps = 1e-10"
   ]
  },
  {
   "cell_type": "code",
   "execution_count": 37,
   "metadata": {},
   "outputs": [],
   "source": [
    "class NN:\n",
    "    def __init__(self, sizes):\n",
    "        self.W0 = np.random.randn(sizes[1], sizes[0])\n",
    "        self.W1 = np.random.randn(sizes[2], sizes[1])\n",
    "        self.mW0 = np.zeros_like(self.W0)\n",
    "        self.mW1 = np.zeros_like(self.W1)\n",
    "        \n",
    "    def train(self, X, y_label, epochs = 10, alpha = 0.1, beta = 0.8):\n",
    "        y_one_hot = one_hot_encoding(y_label)\n",
    "        for epoch in range(epochs):\n",
    "            a0 = self.W0 @ X\n",
    "            z0 = np.maximum(a0, 0)\n",
    "            a1 = self.W1 @ z0\n",
    "            y = softmax(a1)\n",
    "            \n",
    "            loss = - (np.log(y + eps) * y_one_hot).sum() / y_label.size\n",
    "            acc = (np.argmax(y, axis = 0) == y_label).sum() / y_label.size\n",
    "            \n",
    "            d_a_1 = y - y_one_hot\n",
    "            gradW1 = d_a_1 @ z0.T\n",
    "            d_z_0 = self.W1.T @ d_a_1\n",
    "            d_a_0 = d_z_0.copy()\n",
    "            d_a_0[a0<0] = 0\n",
    "            gradW0 = d_a_0 @ X.T\n",
    "            \n",
    "            self.mW0 = beta * self.mW0 - alpha * gradW0\n",
    "            self.mW1 = beta * self.mW1 - alpha * gradW1\n",
    "            \n",
    "            self.W0 += self.mW0\n",
    "            self.W1 += self.mW1\n",
    "            \n",
    "            print(\"loss: \", loss, \" acc: \", acc * 100, \"%\")\n",
    "            \n",
    "    def stoch_train(self, X, y_label, epochs = 10, alpha = 0.1, beta = 0.8, mbSize = 100):\n",
    "        y_one_hot = one_hot_encoding(y_label)\n",
    "        iters_per_epoch = int(y_label.size / mbSize)\n",
    "        indices = np.arange(y_label.size)\n",
    "        for epoch in range(epochs):\n",
    "            np.random.shuffle(indices)\n",
    "            X_sh = X[:, indices]\n",
    "            y_one_sh = y_one_hot[:, indices]\n",
    "            \n",
    "            for it in range(iters_per_epoch):\n",
    "                X_iter = X_sh[:, it*mbSize:(it+1)*mbSize]\n",
    "                y_one_iter = y_one_sh[:, it*mbSize:(it+1)*mbSize]\n",
    "                \n",
    "                \n",
    "            \n",
    "                a0 = self.W0 @ X_iter\n",
    "                z0 = np.maximum(a0, 0)\n",
    "                a1 = self.W1 @ z0\n",
    "                y = softmax(a1)\n",
    "\n",
    "\n",
    "                d_a_1 = y - y_one_iter\n",
    "                gradW1 = d_a_1 @ z0.T\n",
    "                d_z_0 = self.W1.T @ d_a_1\n",
    "                d_a_0 = d_z_0.copy()\n",
    "                d_a_0[a0<0] = 0\n",
    "                gradW0 = d_a_0 @ X_iter.T\n",
    "\n",
    "                self.mW0 = beta * self.mW0 - alpha * gradW0\n",
    "                self.mW1 = beta * self.mW1 - alpha * gradW1\n",
    "\n",
    "                self.W0 += self.mW0\n",
    "                self.W1 += self.mW1\n",
    "            loss, acc = self.evaluate(X, y_label)\n",
    "            print(\"loss: \", loss, \" acc: \", acc * 100, \"%\")\n",
    "    def evaluate(self, X, y_label):\n",
    "        y_one_hot = one_hot_encoding(y_label)\n",
    "        a0 = self.W0 @ X\n",
    "        z0 = np.maximum(a0, 0)\n",
    "        a1 = self.W1 @ z0\n",
    "        y = softmax(a1)\n",
    "        loss = - (np.log(y + eps) * y_one_hot).sum() / y_label.size\n",
    "        acc = (np.argmax(y, axis = 0) == y_label).sum() / y_label.size\n",
    "        return loss, acc\n",
    "    \n",
    "        "
   ]
  },
  {
   "cell_type": "code",
   "execution_count": 39,
   "metadata": {},
   "outputs": [
    {
     "name": "stdout",
     "output_type": "stream",
     "text": [
      "loss:  0.4657653353088157  acc:  87.46166666666667 %\n",
      "loss:  0.31698598067130085  acc:  91.09 %\n",
      "loss:  0.2647537519580748  acc:  92.7 %\n",
      "loss:  0.24236248727604887  acc:  93.095 %\n",
      "loss:  0.22592437371852545  acc:  93.605 %\n",
      "loss:  0.1957769603226755  acc:  94.33166666666666 %\n",
      "loss:  0.17627800976755473  acc:  94.86166666666666 %\n",
      "loss:  0.19334673112742287  acc:  94.43 %\n",
      "loss:  0.15586374548641027  acc:  95.395 %\n",
      "loss:  0.14338171362609145  acc:  95.735 %\n",
      "loss:  0.13733787891028912  acc:  95.89166666666667 %\n",
      "loss:  0.1238475179450728  acc:  96.45666666666666 %\n",
      "loss:  0.11226060376212808  acc:  96.655 %\n",
      "loss:  0.11051801653546481  acc:  96.68166666666667 %\n",
      "loss:  0.10726496014505131  acc:  96.76833333333333 %\n",
      "loss:  0.10781744095976004  acc:  96.79333333333334 %\n",
      "loss:  0.09978594266857592  acc:  96.98666666666666 %\n",
      "loss:  0.08882856592990553  acc:  97.25666666666667 %\n",
      "loss:  0.08440826031924936  acc:  97.40833333333333 %\n",
      "loss:  0.08315824529052832  acc:  97.51333333333334 %\n"
     ]
    }
   ],
   "source": [
    "mnist_net = NN([784, 100, 10])\n",
    "mnist_net.stoch_train(train_images, train_labels, alpha = 1e-3, epochs = 20, beta = 0.9, mbSize = 100)"
   ]
  },
  {
   "cell_type": "code",
   "execution_count": 40,
   "metadata": {},
   "outputs": [
    {
     "name": "stdout",
     "output_type": "stream",
     "text": [
      "loss:  0.24161445193959047  acc:  95.09 %\n"
     ]
    }
   ],
   "source": [
    "loss, acc = mnist_net.evaluate(test_images, test_labels)\n",
    "print(\"loss: \", loss, \" acc: \", acc * 100, \"%\")"
   ]
  },
  {
   "cell_type": "code",
   "execution_count": 47,
   "metadata": {},
   "outputs": [
    {
     "data": {
      "image/png": "[encoded data removed]",
      "text/plain": [
       "<Figure size 432x288 with 1 Axes>"
      ]
     },
     "metadata": {},
     "output_type": "display_data"
    }
   ],
   "source": [
    "plt.imshow(mnist_net.W0[0].reshape(28, 28))\n",
    "plt.show()"
   ]
  }
 ],
 "metadata": {
  "kernelspec": {
   "display_name": "Python 3",
   "language": "python",
   "name": "python3"
  },
  "language_info": {
   "codemirror_mode": {
    "name": "ipython",
    "version": 3
   },
   "file_extension": ".py",
   "mimetype": "text/x-python",
   "name": "python",
   "nbconvert_exporter": "python",
   "pygments_lexer": "ipython3",
   "version": "3.6.5"
  }
 },
 "nbformat": 4,
 "nbformat_minor": 2
}
