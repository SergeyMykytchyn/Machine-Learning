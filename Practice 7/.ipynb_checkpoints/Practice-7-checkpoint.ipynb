{
 "cells": [
  {
   "cell_type": "markdown",
   "metadata": {},
   "source": [
    "Notebook has to be run on Google Colaboratory.\n",
    "Check disk space available."
   ]
  },
  {
   "cell_type": "code",
   "execution_count": null,
   "metadata": {
    "colab": {
     "base_uri": "https://localhost:8080/",
     "height": 160
    },
    "colab_type": "code",
    "executionInfo": {
     "elapsed": 2402,
     "status": "ok",
     "timestamp": 1540988673072,
     "user": {
      "displayName": "Slava Slava",
      "photoUrl": "",
      "userId": "02712437078834846038"
     },
     "user_tz": -120
    },
    "id": "vguOWIkFE6Jl",
    "outputId": "01454ef1-05b1-4711-8e5d-8f93668da565",
    "scrolled": false
   },
   "outputs": [],
   "source": [
    "!df -h"
   ]
  },
  {
   "cell_type": "markdown",
   "metadata": {},
   "source": [
    "Memory available:"
   ]
  },
  {
   "cell_type": "code",
   "execution_count": null,
   "metadata": {
    "colab": {
     "base_uri": "https://localhost:8080/",
     "height": 821
    },
    "colab_type": "code",
    "executionInfo": {
     "elapsed": 2949,
     "status": "ok",
     "timestamp": 1540988779571,
     "user": {
      "displayName": "Slava Slava",
      "photoUrl": "",
      "userId": "02712437078834846038"
     },
     "user_tz": -120
    },
    "id": "6XkY0i5CFVSr",
    "outputId": "615059b0-fd78-440e-e257-1d6414984da4"
   },
   "outputs": [],
   "source": [
    "!cat /proc/meminfo"
   ]
  },
  {
   "cell_type": "markdown",
   "metadata": {},
   "source": [
    "Processor information:"
   ]
  },
  {
   "cell_type": "code",
   "execution_count": null,
   "metadata": {
    "colab": {
     "base_uri": "https://localhost:8080/",
     "height": 1002
    },
    "colab_type": "code",
    "executionInfo": {
     "elapsed": 2152,
     "status": "ok",
     "timestamp": 1540988817340,
     "user": {
      "displayName": "Slava Slava",
      "photoUrl": "",
      "userId": "02712437078834846038"
     },
     "user_tz": -120
    },
    "id": "vIFZYyhLFvGp",
    "outputId": "4596c0c5-5e42-4b2f-c99f-1144cc259302"
   },
   "outputs": [],
   "source": [
    "!cat /proc/cpuinfo"
   ]
  },
  {
   "cell_type": "markdown",
   "metadata": {},
   "source": [
    "List installed packages:"
   ]
  },
  {
   "cell_type": "code",
   "execution_count": null,
   "metadata": {
    "scrolled": true
   },
   "outputs": [],
   "source": [
    "!pip list"
   ]
  },
  {
   "cell_type": "code",
   "execution_count": null,
   "metadata": {
    "colab": {
     "base_uri": "https://localhost:8080/",
     "height": 35
    },
    "colab_type": "code",
    "executionInfo": {
     "elapsed": 1845,
     "status": "ok",
     "timestamp": 1540993160699,
     "user": {
      "displayName": "Slava Slava",
      "photoUrl": "",
      "userId": "02712437078834846038"
     },
     "user_tz": -120
    },
    "id": "2mOzvLyxF-fo",
    "outputId": "a0ef8710-da15-4f78-9aa4-51930dd20523"
   },
   "outputs": [],
   "source": [
    "import keras"
   ]
  },
  {
   "cell_type": "markdown",
   "metadata": {},
   "source": [
    "Load mnist"
   ]
  },
  {
   "cell_type": "code",
   "execution_count": null,
   "metadata": {
    "colab": {},
    "colab_type": "code",
    "id": "xrdUctSgGtFs"
   },
   "outputs": [],
   "source": [
    "(x_train, y_train), (x_test, y_test) = keras.datasets.mnist.load_data()"
   ]
  },
  {
   "cell_type": "code",
   "execution_count": null,
   "metadata": {
    "colab": {},
    "colab_type": "code",
    "id": "Q4Z9NqspHWoW"
   },
   "outputs": [],
   "source": [
    "import matplotlib.pyplot as plt"
   ]
  },
  {
   "cell_type": "code",
   "execution_count": null,
   "metadata": {
    "colab": {
     "base_uri": "https://localhost:8080/",
     "height": 35
    },
    "colab_type": "code",
    "executionInfo": {
     "elapsed": 533,
     "status": "ok",
     "timestamp": 1540989423760,
     "user": {
      "displayName": "Slava Slava",
      "photoUrl": "",
      "userId": "02712437078834846038"
     },
     "user_tz": -120
    },
    "id": "XQumiZnpIHfx",
    "outputId": "3a775a8b-4a39-4123-971c-3ead4b7facc2"
   },
   "outputs": [],
   "source": [
    "y_train[0]"
   ]
  },
  {
   "cell_type": "code",
   "execution_count": null,
   "metadata": {
    "colab": {
     "base_uri": "https://localhost:8080/",
     "height": 347
    },
    "colab_type": "code",
    "executionInfo": {
     "elapsed": 535,
     "status": "ok",
     "timestamp": 1540989391680,
     "user": {
      "displayName": "Slava Slava",
      "photoUrl": "",
      "userId": "02712437078834846038"
     },
     "user_tz": -120
    },
    "id": "ebmiycPKH7-4",
    "outputId": "6de4e9dd-b7a7-4da1-b59f-672c2e6239a1"
   },
   "outputs": [],
   "source": [
    "plt.imshow(x_train[0])\n",
    "plt.show()"
   ]
  },
  {
   "cell_type": "code",
   "execution_count": null,
   "metadata": {
    "colab": {},
    "colab_type": "code",
    "id": "NmcAiPSQIQp0"
   },
   "outputs": [],
   "source": [
    "import keras.backend as K"
   ]
  },
  {
   "cell_type": "markdown",
   "metadata": {},
   "source": [
    "Format of image storage."
   ]
  },
  {
   "cell_type": "code",
   "execution_count": null,
   "metadata": {
    "colab": {
     "base_uri": "https://localhost:8080/",
     "height": 35
    },
    "colab_type": "code",
    "executionInfo": {
     "elapsed": 662,
     "status": "ok",
     "timestamp": 1540989573767,
     "user": {
      "displayName": "Slava Slava",
      "photoUrl": "",
      "userId": "02712437078834846038"
     },
     "user_tz": -120
    },
    "id": "AKHJ7dptIkxL",
    "outputId": "1b69e999-b9cc-45eb-ec23-70801e6af8f0"
   },
   "outputs": [],
   "source": [
    "K.image_data_format()"
   ]
  },
  {
   "cell_type": "code",
   "execution_count": null,
   "metadata": {
    "colab": {},
    "colab_type": "code",
    "id": "mvhADQF-I8Oa"
   },
   "outputs": [],
   "source": [
    "Ntrain = x_train.shape[0]\n",
    "rows = 28\n",
    "cols = 28\n",
    "Ntest = x_test.shape[0]"
   ]
  },
  {
   "cell_type": "code",
   "execution_count": null,
   "metadata": {
    "colab": {},
    "colab_type": "code",
    "id": "cYVWMQS2IxlY"
   },
   "outputs": [],
   "source": [
    "x_train = x_train.reshape(Ntrain, rows, cols, 1) / 255\n",
    "x_test = x_test.reshape(Ntest, rows, cols, 1) / 255"
   ]
  },
  {
   "cell_type": "code",
   "execution_count": null,
   "metadata": {
    "colab": {},
    "colab_type": "code",
    "id": "uh66h-jdJflJ"
   },
   "outputs": [],
   "source": [
    "y_train_cat = keras.utils.to_categorical(y_train, 10)\n",
    "y_test_cat = keras.utils.to_categorical(y_test, 10)"
   ]
  },
  {
   "cell_type": "markdown",
   "metadata": {},
   "source": [
    "Logistic regression model"
   ]
  },
  {
   "cell_type": "code",
   "execution_count": null,
   "metadata": {
    "colab": {},
    "colab_type": "code",
    "id": "yp2nr3lOKD7u"
   },
   "outputs": [],
   "source": [
    "model = keras.models.Sequential()"
   ]
  },
  {
   "cell_type": "code",
   "execution_count": null,
   "metadata": {
    "colab": {},
    "colab_type": "code",
    "id": "Xu-z9b_IKT5L"
   },
   "outputs": [],
   "source": [
    "from keras.layers import Dense, Flatten"
   ]
  },
  {
   "cell_type": "code",
   "execution_count": null,
   "metadata": {
    "colab": {},
    "colab_type": "code",
    "id": "tPYsj2_lK-Uc"
   },
   "outputs": [],
   "source": [
    "input_shape=(28,28,1)"
   ]
  },
  {
   "cell_type": "code",
   "execution_count": null,
   "metadata": {
    "colab": {},
    "colab_type": "code",
    "id": "bjhJGrokKPsc"
   },
   "outputs": [],
   "source": [
    "model.add(Flatten(input_shape = input_shape))\n",
    "model.add(Dense(10, activation = 'softmax'))"
   ]
  },
  {
   "cell_type": "code",
   "execution_count": null,
   "metadata": {
    "colab": {},
    "colab_type": "code",
    "id": "nClX0FBFLJh8"
   },
   "outputs": [],
   "source": [
    "model.compile(optimizer = keras.optimizers.Adam(lr = 0.01), \n",
    "              loss = keras.losses.categorical_crossentropy,\n",
    "             metrics = ['accuracy'])"
   ]
  },
  {
   "cell_type": "code",
   "execution_count": null,
   "metadata": {
    "colab": {
     "base_uri": "https://localhost:8080/",
     "height": 392
    },
    "colab_type": "code",
    "executionInfo": {
     "elapsed": 13216,
     "status": "ok",
     "timestamp": 1540991014157,
     "user": {
      "displayName": "Slava Slava",
      "photoUrl": "",
      "userId": "02712437078834846038"
     },
     "user_tz": -120
    },
    "id": "66rTIroVLvXV",
    "outputId": "541f1405-1a04-4410-ff3d-6af015799258"
   },
   "outputs": [],
   "source": [
    "model.fit(x_train, y_train_cat, batch_size = 128, epochs = 10)"
   ]
  },
  {
   "cell_type": "code",
   "execution_count": null,
   "metadata": {
    "colab": {
     "base_uri": "https://localhost:8080/",
     "height": 35
    },
    "colab_type": "code",
    "executionInfo": {
     "elapsed": 811,
     "status": "ok",
     "timestamp": 1540991024521,
     "user": {
      "displayName": "Slava Slava",
      "photoUrl": "",
      "userId": "02712437078834846038"
     },
     "user_tz": -120
    },
    "id": "Vmm2P7tUMZAE",
    "outputId": "1c3553d9-81ce-4a64-85ba-f4581dcd3feb"
   },
   "outputs": [],
   "source": [
    "score = model.evaluate(x_test, y_test_cat)"
   ]
  },
  {
   "cell_type": "markdown",
   "metadata": {},
   "source": [
    "Score has 2 components: error function value and accuracy"
   ]
  },
  {
   "cell_type": "code",
   "execution_count": null,
   "metadata": {
    "colab": {
     "base_uri": "https://localhost:8080/",
     "height": 35
    },
    "colab_type": "code",
    "executionInfo": {
     "elapsed": 795,
     "status": "ok",
     "timestamp": 1540991028026,
     "user": {
      "displayName": "Slava Slava",
      "photoUrl": "",
      "userId": "02712437078834846038"
     },
     "user_tz": -120
    },
    "id": "0EAZkK7XMhWN",
    "outputId": "1bbcf9c0-8bbb-4c69-fa95-76bb79d774fc"
   },
   "outputs": [],
   "source": [
    "print(score)"
   ]
  },
  {
   "cell_type": "markdown",
   "metadata": {},
   "source": [
    "Fully connected neural network with 100 hidden units"
   ]
  },
  {
   "cell_type": "code",
   "execution_count": null,
   "metadata": {
    "colab": {},
    "colab_type": "code",
    "id": "CAjDsTGnPJor"
   },
   "outputs": [],
   "source": [
    "model2= keras.models.Sequential()\n",
    "model2.add(Flatten(input_shape = input_shape))\n",
    "model2.add(Dense(100, activation = 'relu'))\n",
    "model2.add(Dense(10, activation = 'softmax'))"
   ]
  },
  {
   "cell_type": "code",
   "execution_count": null,
   "metadata": {
    "colab": {},
    "colab_type": "code",
    "id": "439MDXs2PxoL"
   },
   "outputs": [],
   "source": [
    "model2.compile(optimizer = keras.optimizers.Adam(lr = 0.01), \n",
    "              loss = keras.losses.categorical_crossentropy,\n",
    "             metrics = ['accuracy'])"
   ]
  },
  {
   "cell_type": "code",
   "execution_count": null,
   "metadata": {
    "colab": {
     "base_uri": "https://localhost:8080/",
     "height": 392
    },
    "colab_type": "code",
    "executionInfo": {
     "elapsed": 27313,
     "status": "ok",
     "timestamp": 1540991491684,
     "user": {
      "displayName": "Slava Slava",
      "photoUrl": "",
      "userId": "02712437078834846038"
     },
     "user_tz": -120
    },
    "id": "ehy0ZDxPP14P",
    "outputId": "82c0f0a0-c43f-4d34-82cb-cd8eca090912"
   },
   "outputs": [],
   "source": [
    "model2.fit(x_train, y_train_cat, batch_size = 128, epochs = 10)"
   ]
  },
  {
   "cell_type": "code",
   "execution_count": null,
   "metadata": {
    "colab": {
     "base_uri": "https://localhost:8080/",
     "height": 35
    },
    "colab_type": "code",
    "executionInfo": {
     "elapsed": 836,
     "status": "ok",
     "timestamp": 1540991542480,
     "user": {
      "displayName": "Slava Slava",
      "photoUrl": "",
      "userId": "02712437078834846038"
     },
     "user_tz": -120
    },
    "id": "MJleCSeKQKYL",
    "outputId": "c7f80ef1-1ff3-437b-d77f-633ae11e3c12"
   },
   "outputs": [],
   "source": [
    "score = model2.evaluate(x_test, y_test_cat)"
   ]
  },
  {
   "cell_type": "code",
   "execution_count": null,
   "metadata": {
    "colab": {
     "base_uri": "https://localhost:8080/",
     "height": 35
    },
    "colab_type": "code",
    "executionInfo": {
     "elapsed": 500,
     "status": "ok",
     "timestamp": 1540991544446,
     "user": {
      "displayName": "Slava Slava",
      "photoUrl": "",
      "userId": "02712437078834846038"
     },
     "user_tz": -120
    },
    "id": "2U-ESc_yQL2Y",
    "outputId": "608082c7-41a4-4cf3-dab1-37e35cbca850"
   },
   "outputs": [],
   "source": [
    "print(score)"
   ]
  },
  {
   "cell_type": "markdown",
   "metadata": {},
   "source": [
    "Convolutional neural network"
   ]
  },
  {
   "cell_type": "code",
   "execution_count": null,
   "metadata": {
    "colab": {},
    "colab_type": "code",
    "id": "bYaokfGHTItg"
   },
   "outputs": [],
   "source": [
    "from keras.layers import Conv2D, MaxPool2D"
   ]
  },
  {
   "cell_type": "code",
   "execution_count": null,
   "metadata": {
    "colab": {},
    "colab_type": "code",
    "id": "c8w61W-IS5Sb"
   },
   "outputs": [],
   "source": [
    "model3 = keras.models.Sequential()\n",
    "model3.add(Conv2D(32, kernel_size = (3,3), padding = 'same',\n",
    "                 input_shape = input_shape, activation = 'relu'))\n",
    "model3.add(MaxPool2D())\n",
    "model3.add(Conv2D(64, kernel_size = (3,3), padding = 'same',\n",
    "                 activation = 'relu'))\n",
    "model3.add(MaxPool2D())\n",
    "model3.add(Conv2D(128, kernel_size = (3,3), padding = 'same',\n",
    "                 activation = 'relu'))\n",
    "model3.add(MaxPool2D((7,7)))\n",
    "model3.add(Flatten())\n",
    "model3.add(Dense(10, activation = 'softmax'))"
   ]
  },
  {
   "cell_type": "code",
   "execution_count": null,
   "metadata": {
    "colab": {},
    "colab_type": "code",
    "id": "LpIowOsKVQEf"
   },
   "outputs": [],
   "source": [
    "model3.compile(optimizer = keras.optimizers.Adam(lr = 0.01), \n",
    "              loss = keras.losses.categorical_crossentropy,\n",
    "             metrics = ['accuracy'])"
   ]
  },
  {
   "cell_type": "code",
   "execution_count": null,
   "metadata": {
    "colab": {
     "base_uri": "https://localhost:8080/",
     "height": 1107
    },
    "colab_type": "code",
    "executionInfo": {
     "elapsed": 219041,
     "status": "ok",
     "timestamp": 1540993633182,
     "user": {
      "displayName": "Slava Slava",
      "photoUrl": "",
      "userId": "02712437078834846038"
     },
     "user_tz": -120
    },
    "id": "fBFOUb9xVUNo",
    "outputId": "3bcc4731-7e62-41d0-83cb-c9c8bb918591"
   },
   "outputs": [],
   "source": [
    "model3.fit(x_train, y_train_cat, batch_size = 128, epochs = 30)"
   ]
  },
  {
   "cell_type": "code",
   "execution_count": null,
   "metadata": {
    "colab": {
     "base_uri": "https://localhost:8080/",
     "height": 35
    },
    "colab_type": "code",
    "executionInfo": {
     "elapsed": 1773,
     "status": "ok",
     "timestamp": 1540993676352,
     "user": {
      "displayName": "Slava Slava",
      "photoUrl": "",
      "userId": "02712437078834846038"
     },
     "user_tz": -120
    },
    "id": "o38cylxqXOGy",
    "outputId": "36256be0-92f5-413e-df3c-d20e816f53d4"
   },
   "outputs": [],
   "source": [
    "score = model3.evaluate(x_test, y_test_cat)"
   ]
  },
  {
   "cell_type": "code",
   "execution_count": null,
   "metadata": {
    "colab": {
     "base_uri": "https://localhost:8080/",
     "height": 35
    },
    "colab_type": "code",
    "executionInfo": {
     "elapsed": 1386,
     "status": "ok",
     "timestamp": 1540993679170,
     "user": {
      "displayName": "Slava Slava",
      "photoUrl": "",
      "userId": "02712437078834846038"
     },
     "user_tz": -120
    },
    "id": "exDiB2yNXQOB",
    "outputId": "702dc09b-c889-46ed-c399-3d6a132bd519"
   },
   "outputs": [],
   "source": [
    "print(score)"
   ]
  },
  {
   "cell_type": "markdown",
   "metadata": {},
   "source": [
    "Parameters of GPU:"
   ]
  },
  {
   "cell_type": "code",
   "execution_count": null,
   "metadata": {
    "colab": {
     "base_uri": "https://localhost:8080/",
     "height": 303
    },
    "colab_type": "code",
    "executionInfo": {
     "elapsed": 4705,
     "status": "ok",
     "timestamp": 1540993750749,
     "user": {
      "displayName": "Slava Slava",
      "photoUrl": "",
      "userId": "02712437078834846038"
     },
     "user_tz": -120
    },
    "id": "_Z2zpibMYmEk",
    "outputId": "93cec0c4-4c4d-40a3-f372-177e68970f2b",
    "scrolled": true
   },
   "outputs": [],
   "source": [
    "!nvidia-smi"
   ]
  },
  {
   "cell_type": "markdown",
   "metadata": {},
   "source": [
    "Summary of the model:"
   ]
  },
  {
   "cell_type": "code",
   "execution_count": null,
   "metadata": {
    "colab": {
     "base_uri": "https://localhost:8080/",
     "height": 428
    },
    "colab_type": "code",
    "executionInfo": {
     "elapsed": 1285,
     "status": "ok",
     "timestamp": 1540993869159,
     "user": {
      "displayName": "Slava Slava",
      "photoUrl": "",
      "userId": "02712437078834846038"
     },
     "user_tz": -120
    },
    "id": "TBDffz70YzEH",
    "outputId": "dd9b0afd-fa5e-4af6-b7c6-9c13e9e91275"
   },
   "outputs": [],
   "source": [
    "model3.summary()"
   ]
  },
  {
   "cell_type": "markdown",
   "metadata": {},
   "source": [
    "Mounting google drive remotely"
   ]
  },
  {
   "cell_type": "code",
   "execution_count": null,
   "metadata": {
    "colab": {},
    "colab_type": "code",
    "id": "L3Fw6W0bZ402"
   },
   "outputs": [],
   "source": [
    "from google.colab import drive"
   ]
  },
  {
   "cell_type": "code",
   "execution_count": null,
   "metadata": {
    "colab": {
     "base_uri": "https://localhost:8080/",
     "height": 35
    },
    "colab_type": "code",
    "executionInfo": {
     "elapsed": 4445,
     "status": "ok",
     "timestamp": 1540994176796,
     "user": {
      "displayName": "Slava Slava",
      "photoUrl": "",
      "userId": "02712437078834846038"
     },
     "user_tz": -120
    },
    "id": "gqt65ARhaOhA",
    "outputId": "09163df9-f84d-4d30-acdb-682a3e0b16eb"
   },
   "outputs": [],
   "source": [
    "!pwd"
   ]
  },
  {
   "cell_type": "code",
   "execution_count": null,
   "metadata": {
    "colab": {
     "base_uri": "https://localhost:8080/",
     "height": 126
    },
    "colab_type": "code",
    "executionInfo": {
     "elapsed": 35847,
     "status": "ok",
     "timestamp": 1540994225187,
     "user": {
      "displayName": "Slava Slava",
      "photoUrl": "",
      "userId": "02712437078834846038"
     },
     "user_tz": -120
    },
    "id": "ykoUhDHUaJwx",
    "outputId": "3e3d33cf-efff-43f3-fa11-0f8f6b3d1463"
   },
   "outputs": [],
   "source": [
    "drive.mount('/content/drive')"
   ]
  },
  {
   "cell_type": "code",
   "execution_count": null,
   "metadata": {
    "colab": {},
    "colab_type": "code",
    "id": "yRt2qOYiahiE"
   },
   "outputs": [],
   "source": [
    "!cd drive"
   ]
  },
  {
   "cell_type": "code",
   "execution_count": null,
   "metadata": {
    "colab": {
     "base_uri": "https://localhost:8080/",
     "height": 35
    },
    "colab_type": "code",
    "executionInfo": {
     "elapsed": 5516,
     "status": "ok",
     "timestamp": 1540994684948,
     "user": {
      "displayName": "Slava Slava",
      "photoUrl": "",
      "userId": "02712437078834846038"
     },
     "user_tz": -120
    },
    "id": "vpIgUIsban7M",
    "outputId": "3b263b28-c1df-4aad-be45-b38f81672f6c"
   },
   "outputs": [],
   "source": [
    "!ls"
   ]
  },
  {
   "cell_type": "code",
   "execution_count": null,
   "metadata": {
    "colab": {},
    "colab_type": "code",
    "id": "VJOzu9NEaruC"
   },
   "outputs": [],
   "source": [
    "import os"
   ]
  },
  {
   "cell_type": "code",
   "execution_count": null,
   "metadata": {
    "colab": {},
    "colab_type": "code",
    "id": "scR84wiyauML"
   },
   "outputs": [],
   "source": [
    "os.chdir(\"drive\")"
   ]
  },
  {
   "cell_type": "code",
   "execution_count": null,
   "metadata": {
    "colab": {},
    "colab_type": "code",
    "id": "eUIgtvUla0-u"
   },
   "outputs": [],
   "source": [
    "os.chdir(\"My Drive\")"
   ]
  },
  {
   "cell_type": "code",
   "execution_count": null,
   "metadata": {
    "colab": {},
    "colab_type": "code",
    "id": "COSJD32_bgtE"
   },
   "outputs": [],
   "source": [
    "os.chdir(\"pr-7\")"
   ]
  },
  {
   "cell_type": "markdown",
   "metadata": {},
   "source": [
    "Saving model architecture"
   ]
  },
  {
   "cell_type": "code",
   "execution_count": null,
   "metadata": {
    "colab": {},
    "colab_type": "code",
    "id": "FQ2MczdxbnoO"
   },
   "outputs": [],
   "source": [
    "model3_json = model3.to_json()"
   ]
  },
  {
   "cell_type": "code",
   "execution_count": null,
   "metadata": {
    "colab": {
     "base_uri": "https://localhost:8080/",
     "height": 55
    },
    "colab_type": "code",
    "executionInfo": {
     "elapsed": 1059,
     "status": "ok",
     "timestamp": 1540994591404,
     "user": {
      "displayName": "Slava Slava",
      "photoUrl": "",
      "userId": "02712437078834846038"
     },
     "user_tz": -120
    },
    "id": "5TczaLqpb1Ih",
    "outputId": "044af915-6248-449a-ba4a-39ce4bddc74e"
   },
   "outputs": [],
   "source": [
    "model3_json"
   ]
  },
  {
   "cell_type": "code",
   "execution_count": null,
   "metadata": {
    "colab": {},
    "colab_type": "code",
    "id": "iRyB3T7-b5Ge"
   },
   "outputs": [],
   "source": [
    "model3_json_file = open(\"model3.json\", \"w\")\n",
    "model3_json_file.write(model3_json)\n",
    "model3_json_file.close()"
   ]
  },
  {
   "cell_type": "markdown",
   "metadata": {},
   "source": [
    "Saving model weights:"
   ]
  },
  {
   "cell_type": "code",
   "execution_count": null,
   "metadata": {
    "colab": {},
    "colab_type": "code",
    "id": "9FKxvqamcSAW"
   },
   "outputs": [],
   "source": [
    "model3.save_weights(\"model3_weights.h5\")"
   ]
  },
  {
   "cell_type": "markdown",
   "metadata": {},
   "source": [
    "Reading model and weights:"
   ]
  },
  {
   "cell_type": "code",
   "execution_count": null,
   "metadata": {},
   "outputs": [],
   "source": [
    "model_json = open(\"model3.json\", \"r\")\n",
    "s = model_json.read()\n",
    "model_json.close()"
   ]
  },
  {
   "cell_type": "code",
   "execution_count": null,
   "metadata": {},
   "outputs": [],
   "source": [
    "model = keras.models.model_from_json(s)"
   ]
  },
  {
   "cell_type": "code",
   "execution_count": null,
   "metadata": {},
   "outputs": [],
   "source": [
    "model.load_weights(\"model3_weights.h5\")"
   ]
  }
 ],
 "metadata": {
  "accelerator": "GPU",
  "colab": {
   "name": "pr.ipynb",
   "provenance": [],
   "version": "0.3.2"
  },
  "kernelspec": {
   "display_name": "Python 3",
   "language": "python",
   "name": "python3"
  },
  "language_info": {
   "codemirror_mode": {
    "name": "ipython",
    "version": 3
   },
   "file_extension": ".py",
   "mimetype": "text/x-python",
   "name": "python",
   "nbconvert_exporter": "python",
   "pygments_lexer": "ipython3",
   "version": "3.7.0"
  }
 },
 "nbformat": 4,
 "nbformat_minor": 1
}
