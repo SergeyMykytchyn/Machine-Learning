{
 "cells": [
  {
   "cell_type": "markdown",
   "metadata": {},
   "source": [
    "Mount google drive"
   ]
  },
  {
   "cell_type": "code",
   "execution_count": null,
   "metadata": {
    "colab": {
     "base_uri": "https://localhost:8080/",
     "height": 55
    },
    "colab_type": "code",
    "executionInfo": {
     "elapsed": 641,
     "status": "ok",
     "timestamp": 1541610780096,
     "user": {
      "displayName": "Slava Slava",
      "photoUrl": "",
      "userId": "02712437078834846038"
     },
     "user_tz": -120
    },
    "id": "nlyGHPodMgUw",
    "outputId": "e9ec3484-4f3a-4fe3-8c91-773fd9be6b5c"
   },
   "outputs": [],
   "source": [
    "from google.colab import drive\n",
    "drive.mount(\"/content/drive\")"
   ]
  },
  {
   "cell_type": "code",
   "execution_count": null,
   "metadata": {
    "colab": {},
    "colab_type": "code",
    "id": "EH6LLZrsMtqB"
   },
   "outputs": [],
   "source": [
    "import os"
   ]
  },
  {
   "cell_type": "markdown",
   "metadata": {},
   "source": [
    "Change directory"
   ]
  },
  {
   "cell_type": "code",
   "execution_count": null,
   "metadata": {
    "colab": {},
    "colab_type": "code",
    "id": "pGO5eowQMxeu"
   },
   "outputs": [],
   "source": [
    "os.chdir(\"drive/My Drive/try\")"
   ]
  },
  {
   "cell_type": "code",
   "execution_count": null,
   "metadata": {
    "colab": {
     "base_uri": "https://localhost:8080/",
     "height": 35
    },
    "colab_type": "code",
    "executionInfo": {
     "elapsed": 1913,
     "status": "ok",
     "timestamp": 1541610791746,
     "user": {
      "displayName": "Slava Slava",
      "photoUrl": "",
      "userId": "02712437078834846038"
     },
     "user_tz": -120
    },
    "id": "c1QAZCs8M5Cy",
    "outputId": "b4e1b93f-3010-410b-cd2c-40a27454989f"
   },
   "outputs": [],
   "source": [
    "!pwd"
   ]
  },
  {
   "cell_type": "code",
   "execution_count": null,
   "metadata": {
    "colab": {
     "base_uri": "https://localhost:8080/",
     "height": 35
    },
    "colab_type": "code",
    "executionInfo": {
     "elapsed": 2130,
     "status": "ok",
     "timestamp": 1541610796773,
     "user": {
      "displayName": "Slava Slava",
      "photoUrl": "",
      "userId": "02712437078834846038"
     },
     "user_tz": -120
    },
    "id": "PYzwBDxqM6Y4",
    "outputId": "486e2fb4-e3cb-45aa-e8db-d03a2e6fc0ee"
   },
   "outputs": [],
   "source": [
    "!ls"
   ]
  },
  {
   "cell_type": "code",
   "execution_count": null,
   "metadata": {
    "colab": {
     "base_uri": "https://localhost:8080/",
     "height": 35
    },
    "colab_type": "code",
    "executionInfo": {
     "elapsed": 1847,
     "status": "ok",
     "timestamp": 1541597432961,
     "user": {
      "displayName": "Slava Slava",
      "photoUrl": "",
      "userId": "02712437078834846038"
     },
     "user_tz": -120
    },
    "id": "GyWafLPlXfy9",
    "outputId": "f17ba350-bfb4-4e87-8d56-adb62a4a0ba5"
   },
   "outputs": [],
   "source": [
    "import numpy as np\n",
    "import keras\n",
    "import cv2\n",
    "import os\n",
    "import sys\n",
    "import matplotlib.pyplot as plt"
   ]
  },
  {
   "cell_type": "code",
   "execution_count": null,
   "metadata": {
    "colab": {},
    "colab_type": "code",
    "id": "mbwWxCdKXi5e"
   },
   "outputs": [],
   "source": [
    "train_dir = \"dogs_cats_train\"\n",
    "test_dir = \"dogs_cats_test\""
   ]
  },
  {
   "cell_type": "code",
   "execution_count": null,
   "metadata": {
    "colab": {},
    "colab_type": "code",
    "id": "ZgdxymUgXmA-"
   },
   "outputs": [],
   "source": [
    "from keras.preprocessing.image import ImageDataGenerator"
   ]
  },
  {
   "cell_type": "code",
   "execution_count": null,
   "metadata": {
    "colab": {},
    "colab_type": "code",
    "id": "RtfFgRoAXor7"
   },
   "outputs": [],
   "source": [
    "ImSize = 64\n",
    "input_shape = (ImSize, ImSize, 3)\n",
    "batch_size = 32"
   ]
  },
  {
   "cell_type": "code",
   "execution_count": null,
   "metadata": {
    "colab": {},
    "colab_type": "code",
    "id": "CJ_EIpifXrP0"
   },
   "outputs": [],
   "source": [
    "train_datagen = ImageDataGenerator(rescale=1.0/255, #shear_range=0.1, \n",
    "                                    #rotation_range=10,\n",
    "                                    width_shift_range = 0.1,\n",
    "                                    height_shift_range = 0.1, \n",
    "                                    fill_mode = \"constant\")\n",
    "test_datagen = ImageDataGenerator(rescale=1.0/255)"
   ]
  },
  {
   "cell_type": "code",
   "execution_count": null,
   "metadata": {
    "colab": {
     "base_uri": "https://localhost:8080/",
     "height": 52
    },
    "colab_type": "code",
    "executionInfo": {
     "elapsed": 1696,
     "status": "ok",
     "timestamp": 1541610844129,
     "user": {
      "displayName": "Slava Slava",
      "photoUrl": "",
      "userId": "02712437078834846038"
     },
     "user_tz": -120
    },
    "id": "09mh4m1sXuSK",
    "outputId": "2766b121-a009-40de-93f4-2791a02e1ef7"
   },
   "outputs": [],
   "source": [
    "train_generator = train_datagen.flow_from_directory(train_dir, \n",
    "                target_size=(ImSize, ImSize), \n",
    "                batch_size = batch_size)\n",
    "test_generator = test_datagen.flow_from_directory(test_dir, \n",
    "                    target_size=(ImSize, ImSize), batch_size=1,\n",
    "                    shuffle = False)"
   ]
  },
  {
   "cell_type": "code",
   "execution_count": null,
   "metadata": {
    "colab": {},
    "colab_type": "code",
    "id": "w-wUO_yCXxz9"
   },
   "outputs": [],
   "source": [
    "from keras.layers import Conv2D, MaxPool2D, Flatten, \\\n",
    "Dense, Dropout, BatchNormalization"
   ]
  },
  {
   "cell_type": "code",
   "execution_count": null,
   "metadata": {
    "colab": {},
    "colab_type": "code",
    "id": "Fw8wWbO_X3Iv"
   },
   "outputs": [],
   "source": [
    "model = keras.models.Sequential()\n",
    "model.add(Conv2D(64, (3,3), padding=\"same\", activation='relu',\n",
    "                 input_shape = input_shape))\n",
    "model.add(MaxPool2D())\n",
    "model.add(Conv2D(128, (3,3), padding=\"same\", activation='relu'))\n",
    "model.add(MaxPool2D())\n",
    "model.add(Conv2D(256, (3,3), padding=\"same\", activation='relu'))\n",
    "model.add(MaxPool2D())\n",
    "model.add(Conv2D(512, (3,3), padding=\"same\", activation='relu'))\n",
    "model.add(MaxPool2D((8,8)))\n",
    "model.add(Flatten())\n",
    "model.add(Dense(2, activation='softmax'))"
   ]
  },
  {
   "cell_type": "code",
   "execution_count": null,
   "metadata": {
    "colab": {},
    "colab_type": "code",
    "id": "XiqJprbPX6Bv"
   },
   "outputs": [],
   "source": [
    "model.compile(keras.optimizers.Adam(lr=0.001), \n",
    "              loss = keras.losses.categorical_crossentropy, \n",
    "             metrics = ['accuracy'])"
   ]
  },
  {
   "cell_type": "code",
   "execution_count": null,
   "metadata": {
    "colab": {
     "base_uri": "https://localhost:8080/",
     "height": 1097
    },
    "colab_type": "code",
    "executionInfo": {
     "elapsed": 361516,
     "status": "ok",
     "timestamp": 1541611388016,
     "user": {
      "displayName": "Slava Slava",
      "photoUrl": "",
      "userId": "02712437078834846038"
     },
     "user_tz": -120
    },
    "id": "3BZGmn6-X8oX",
    "outputId": "9e48a224-19a2-4599-c193-4c4b47ca5c1f"
   },
   "outputs": [],
   "source": [
    "model.fit_generator(train_generator, \n",
    "                    steps_per_epoch=train_generator.n // batch_size,\n",
    "                    epochs = 30)"
   ]
  },
  {
   "cell_type": "code",
   "execution_count": null,
   "metadata": {
    "colab": {},
    "colab_type": "code",
    "id": "KYTNftxWYRHE"
   },
   "outputs": [],
   "source": [
    "score = model.evaluate_generator(test_generator, steps = test_generator.n)"
   ]
  },
  {
   "cell_type": "code",
   "execution_count": null,
   "metadata": {
    "colab": {
     "base_uri": "https://localhost:8080/",
     "height": 35
    },
    "colab_type": "code",
    "executionInfo": {
     "elapsed": 532,
     "status": "ok",
     "timestamp": 1541600683675,
     "user": {
      "displayName": "Slava Slava",
      "photoUrl": "",
      "userId": "02712437078834846038"
     },
     "user_tz": -120
    },
    "id": "uNPoIGnGZV3v",
    "outputId": "74f753a8-85fb-48bf-acf3-c500cb09e6a6"
   },
   "outputs": [],
   "source": [
    "print(score)"
   ]
  },
  {
   "cell_type": "markdown",
   "metadata": {},
   "source": [
    "Saving trained model (architecture and weights) to google drive"
   ]
  },
  {
   "cell_type": "code",
   "execution_count": null,
   "metadata": {
    "colab": {},
    "colab_type": "code",
    "id": "cJQ6IVFNj8qY"
   },
   "outputs": [],
   "source": [
    "model.save(\"model_cats_dogs\")"
   ]
  }
 ],
 "metadata": {
  "accelerator": "GPU",
  "colab": {
   "name": "Pr-8.ipynb",
   "provenance": [],
   "version": "0.3.2"
  },
  "kernelspec": {
   "display_name": "Python 3",
   "language": "python",
   "name": "python3"
  },
  "language_info": {
   "codemirror_mode": {
    "name": "ipython",
    "version": 3
   },
   "file_extension": ".py",
   "mimetype": "text/x-python",
   "name": "python",
   "nbconvert_exporter": "python",
   "pygments_lexer": "ipython3",
   "version": "3.6.6"
  }
 },
 "nbformat": 4,
 "nbformat_minor": 1
}
