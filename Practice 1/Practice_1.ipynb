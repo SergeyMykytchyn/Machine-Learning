{
 "cells": [
  {
   "cell_type": "markdown",
   "metadata": {},
   "source": [
    "# Check that interpreter is correct"
   ]
  },
  {
   "cell_type": "code",
   "execution_count": 1,
   "metadata": {},
   "outputs": [
    {
     "data": {
      "text/plain": [
       "'C:\\\\Users\\\\hunte\\\\Anaconda3\\\\python.exe'"
      ]
     },
     "execution_count": 1,
     "metadata": {},
     "output_type": "execute_result"
    }
   ],
   "source": [
    "import sys\n",
    "sys.executable"
   ]
  },
  {
   "cell_type": "markdown",
   "metadata": {},
   "source": [
    "# Argument passing to function \n",
    "## mutable / immutable types"
   ]
  },
  {
   "cell_type": "code",
   "execution_count": 2,
   "metadata": {},
   "outputs": [
    {
     "name": "stdout",
     "output_type": "stream",
     "text": [
      "10\n"
     ]
    }
   ],
   "source": [
    "x = 10\n",
    "def f(x):\n",
    "    x = 5\n",
    "f(x)\n",
    "print(x)"
   ]
  },
  {
   "cell_type": "code",
   "execution_count": 3,
   "metadata": {},
   "outputs": [
    {
     "name": "stdout",
     "output_type": "stream",
     "text": [
      "10\n"
     ]
    }
   ],
   "source": [
    "x = 10\n",
    "def f(x):\n",
    "    x += 5\n",
    "f(x)\n",
    "print(x)"
   ]
  },
  {
   "cell_type": "code",
   "execution_count": 4,
   "metadata": {},
   "outputs": [
    {
     "name": "stdout",
     "output_type": "stream",
     "text": [
      "[1, 2, 3]\n"
     ]
    }
   ],
   "source": [
    "l = [1,2,3]\n",
    "def f(l):\n",
    "    l = [4]\n",
    "f(l)\n",
    "print(l)"
   ]
  },
  {
   "cell_type": "code",
   "execution_count": 5,
   "metadata": {},
   "outputs": [
    {
     "name": "stdout",
     "output_type": "stream",
     "text": [
      "[1, 2, 3, 4]\n"
     ]
    }
   ],
   "source": [
    "l = [1,2,3]\n",
    "def f(l):\n",
    "    l += [4]\n",
    "f(l)\n",
    "print(l)"
   ]
  },
  {
   "cell_type": "markdown",
   "metadata": {},
   "source": [
    "## Numpy features"
   ]
  },
  {
   "cell_type": "code",
   "execution_count": 6,
   "metadata": {},
   "outputs": [],
   "source": [
    "import numpy as np"
   ]
  },
  {
   "cell_type": "markdown",
   "metadata": {},
   "source": [
    "## Assignment of objects"
   ]
  },
  {
   "cell_type": "code",
   "execution_count": 7,
   "metadata": {},
   "outputs": [
    {
     "name": "stdout",
     "output_type": "stream",
     "text": [
      "[[[100.   0.   0.   0.]\n",
      "  [  0.   0.   0.   0.]\n",
      "  [  0.   0.   0.   0.]]\n",
      "\n",
      " [[  0.   0.   0.   0.]\n",
      "  [  0.   0.   0.   0.]\n",
      "  [  0.   0.   0.   0.]]]\n",
      "[[[100.   0.   0.   0.]\n",
      "  [  0.   0.   0.   0.]\n",
      "  [  0.   0.   0.   0.]]\n",
      "\n",
      " [[  0.   0.   0.   0.]\n",
      "  [  0.   0.   0.   0.]\n",
      "  [  0.   0.   0.   0.]]]\n"
     ]
    }
   ],
   "source": [
    "x = np.zeros((2,3,4))\n",
    "y = x\n",
    "x[0][0][0]=100\n",
    "print(x)\n",
    "print(y)"
   ]
  },
  {
   "cell_type": "code",
   "execution_count": 8,
   "metadata": {},
   "outputs": [
    {
     "name": "stdout",
     "output_type": "stream",
     "text": [
      "[[[100.   0.   0.   0.]\n",
      "  [  0.   0.   0.   0.]\n",
      "  [  0.   0.   0.   0.]]\n",
      "\n",
      " [[  0.   0.   0.   0.]\n",
      "  [  0.   0.   0.   0.]\n",
      "  [  0.   0.   0.   0.]]]\n",
      "[[[0. 0. 0. 0.]\n",
      "  [0. 0. 0. 0.]\n",
      "  [0. 0. 0. 0.]]\n",
      "\n",
      " [[0. 0. 0. 0.]\n",
      "  [0. 0. 0. 0.]\n",
      "  [0. 0. 0. 0.]]]\n"
     ]
    }
   ],
   "source": [
    "x = np.zeros((2,3,4))\n",
    "y = x.copy()\n",
    "x[0][0][0]=100\n",
    "print(x)\n",
    "print(y)"
   ]
  },
  {
   "cell_type": "markdown",
   "metadata": {},
   "source": [
    "## Slicing"
   ]
  },
  {
   "cell_type": "code",
   "execution_count": 9,
   "metadata": {},
   "outputs": [
    {
     "name": "stdout",
     "output_type": "stream",
     "text": [
      "[[ 0  1  2  3  4]\n",
      " [ 5  6  7  8  9]\n",
      " [10 11 12 13 14]\n",
      " [15 16 17 18 19]\n",
      " [20 21 22 23 24]]\n",
      "[[ 0  1  2  3]\n",
      " [ 5  6  7  8]\n",
      " [10 11 12 13]]\n"
     ]
    }
   ],
   "source": [
    "x = np.arange(25).reshape(5,5)\n",
    "print(x)\n",
    "y = x[:3, :4]\n",
    "print(y)"
   ]
  },
  {
   "cell_type": "code",
   "execution_count": 10,
   "metadata": {},
   "outputs": [
    {
     "name": "stdout",
     "output_type": "stream",
     "text": [
      "[[12 13]\n",
      " [17 18]\n",
      " [22 23]]\n"
     ]
    }
   ],
   "source": [
    "y = x[2:5, 2:4]\n",
    "print(y)"
   ]
  },
  {
   "cell_type": "code",
   "execution_count": 11,
   "metadata": {},
   "outputs": [
    {
     "name": "stdout",
     "output_type": "stream",
     "text": [
      "[[ 0  2  4]\n",
      " [10 12 14]\n",
      " [20 22 24]]\n"
     ]
    }
   ],
   "source": [
    "y = x[0:5:2, 0:5:2]\n",
    "print(y)"
   ]
  },
  {
   "cell_type": "markdown",
   "metadata": {},
   "source": [
    "## Use of boolean arrays"
   ]
  },
  {
   "cell_type": "code",
   "execution_count": 12,
   "metadata": {},
   "outputs": [
    {
     "name": "stdout",
     "output_type": "stream",
     "text": [
      "[[0.94082593 0.9287777  0.70766278 0.45924989 0.71446365 0.36509256]\n",
      " [0.27895657 0.32700991 0.68111973 0.46134222 0.09235272 0.35299255]\n",
      " [0.49649625 0.89174094 0.50377289 0.51814084 0.99187396 0.59668797]\n",
      " [0.60102831 0.21141819 0.01022515 0.7934296  0.82153561 0.01618999]\n",
      " [0.21869401 0.43938994 0.81462102 0.84051271 0.92419082 0.00138969]]\n",
      "[[0.         0.         0.         0.45924989 0.         0.36509256]\n",
      " [0.27895657 0.32700991 0.         0.46134222 0.09235272 0.35299255]\n",
      " [0.49649625 0.         0.         0.         0.         0.        ]\n",
      " [0.         0.21141819 0.01022515 0.         0.         0.01618999]\n",
      " [0.21869401 0.43938994 0.         0.         0.         0.00138969]]\n"
     ]
    }
   ],
   "source": [
    "x = np.random.rand(30).reshape(5,6)\n",
    "print(x)\n",
    "x[x>0.5]=0\n",
    "print(x)"
   ]
  },
  {
   "cell_type": "markdown",
   "metadata": {},
   "source": [
    "## Vectorization"
   ]
  },
  {
   "cell_type": "code",
   "execution_count": 13,
   "metadata": {},
   "outputs": [],
   "source": [
    "N= 10**7\n",
    "x = np.random.rand(N)\n",
    "y = np.random.rand(N)"
   ]
  },
  {
   "cell_type": "code",
   "execution_count": 14,
   "metadata": {},
   "outputs": [
    {
     "name": "stdout",
     "output_type": "stream",
     "text": [
      "11.085146188735962\n",
      "2500095.01913149\n"
     ]
    }
   ],
   "source": [
    "import time\n",
    "timeStart = time.time()\n",
    "ip = 0\n",
    "for i in range(N):\n",
    "    ip += x[i]*y[i]\n",
    "duration = time.time() - timeStart\n",
    "print(duration)\n",
    "print(ip)"
   ]
  },
  {
   "cell_type": "code",
   "execution_count": 15,
   "metadata": {
    "scrolled": true
   },
   "outputs": [
    {
     "name": "stdout",
     "output_type": "stream",
     "text": [
      "1.982774019241333\n",
      "2500095.0191316884\n"
     ]
    }
   ],
   "source": [
    "timeStart = time.time()\n",
    "ip = np.dot(x,y)\n",
    "duration = time.time() - timeStart\n",
    "print(duration)\n",
    "print(ip)"
   ]
  },
  {
   "cell_type": "markdown",
   "metadata": {},
   "source": [
    "## Ways to multiply matrices"
   ]
  },
  {
   "cell_type": "code",
   "execution_count": 16,
   "metadata": {},
   "outputs": [],
   "source": [
    "x = np.arange(100).reshape(2, 50)\n",
    "y = np.arange(100).reshape(50, 2)"
   ]
  },
  {
   "cell_type": "code",
   "execution_count": 17,
   "metadata": {
    "scrolled": true
   },
   "outputs": [
    {
     "name": "stdout",
     "output_type": "stream",
     "text": [
      "[[ 80850  82075]\n",
      " [203350 207075]]\n",
      "[[ 80850  82075]\n",
      " [203350 207075]]\n",
      "[[ 80850  82075]\n",
      " [203350 207075]]\n"
     ]
    }
   ],
   "source": [
    "print(x.dot(y))\n",
    "print(x @ y)\n",
    "print(np.einsum(\"ik,kj->ij\", x, y))"
   ]
  },
  {
   "cell_type": "markdown",
   "metadata": {},
   "source": [
    "## Broadcasting"
   ]
  },
  {
   "cell_type": "code",
   "execution_count": 22,
   "metadata": {},
   "outputs": [
    {
     "name": "stdout",
     "output_type": "stream",
     "text": [
      "[ 0.   2.5  5.   7.5 10. ]\n",
      "[ 0.          6.66666667 13.33333333 20.        ]\n",
      "[[ 0.          6.66666667 13.33333333 20.        ]\n",
      " [ 2.5         9.16666667 15.83333333 22.5       ]\n",
      " [ 5.         11.66666667 18.33333333 25.        ]\n",
      " [ 7.5        14.16666667 20.83333333 27.5       ]\n",
      " [10.         16.66666667 23.33333333 30.        ]]\n"
     ]
    }
   ],
   "source": [
    "x = np.linspace(0, 10, num=5)\n",
    "print(x)\n",
    "y = np.linspace(0, 20, num=4)\n",
    "print(y)\n",
    "print(x.reshape(5, 1) + y.reshape(1, 4))"
   ]
  },
  {
   "cell_type": "markdown",
   "metadata": {},
   "source": [
    "## Nearest neighbor on subset of MNIST"
   ]
  },
  {
   "cell_type": "code",
   "execution_count": 23,
   "metadata": {},
   "outputs": [],
   "source": [
    "train_data = np.genfromtxt(\"mnist_train.csv\", delimiter=',')\n",
    "test_data = np.genfromtxt(\"mnist_test.csv\", delimiter=',')"
   ]
  },
  {
   "cell_type": "code",
   "execution_count": 24,
   "metadata": {},
   "outputs": [
    {
     "name": "stdout",
     "output_type": "stream",
     "text": [
      "(60000, 785)\n",
      "(10000, 785)\n"
     ]
    }
   ],
   "source": [
    "print(train_data.shape)\n",
    "print(test_data.shape)"
   ]
  },
  {
   "cell_type": "code",
   "execution_count": 25,
   "metadata": {},
   "outputs": [],
   "source": [
    "N_train = 1000\n",
    "N_test = 100\n",
    "train_labels = train_data[:N_train, 0].astype(int)\n",
    "train_images = train_data[:N_train, 1:]\n",
    "test_labels = test_data[:N_test, 0].astype(int)\n",
    "test_images = test_data[:N_test, 1:]"
   ]
  },
  {
   "cell_type": "code",
   "execution_count": 26,
   "metadata": {},
   "outputs": [
    {
     "name": "stdout",
     "output_type": "stream",
     "text": [
      "(1000,)\n",
      "(1000, 784)\n",
      "(100,)\n",
      "(100, 784)\n"
     ]
    }
   ],
   "source": [
    "print(train_labels.shape)\n",
    "print(train_images.shape)\n",
    "print(test_labels.shape)\n",
    "print(test_images.shape)"
   ]
  },
  {
   "cell_type": "code",
   "execution_count": 75,
   "metadata": {},
   "outputs": [
    {
     "name": "stdout",
     "output_type": "stream",
     "text": [
      "(784,)\n",
      "(1000, 784)\n"
     ]
    }
   ],
   "source": [
    "a = test_images[1,:]\n",
    "print(a.shape)\n",
    "print((a-train_images).shape)"
   ]
  },
  {
   "cell_type": "code",
   "execution_count": 82,
   "metadata": {},
   "outputs": [
    {
     "name": "stdout",
     "output_type": "stream",
     "text": [
      "[[ 0  1  2]\n",
      " [ 3  4  5]\n",
      " [ 6  7  8]\n",
      " [ 9 10 11]\n",
      " [12 13 14]\n",
      " [15 16 17]]\n",
      "[0 1 2]\n",
      "[[  0   0   0]\n",
      " [ -3  -3  -3]\n",
      " [ -6  -6  -6]\n",
      " [ -9  -9  -9]\n",
      " [-12 -12 -12]\n",
      " [-15 -15 -15]]\n",
      "[  0  -9 -18 -27 -36 -45]\n",
      "5\n"
     ]
    }
   ],
   "source": [
    "a = np.arange(18).reshape(6, 3)\n",
    "b = np.arange(12).reshape(4, 3)\n",
    "c = b[0, :]\n",
    "print(a)\n",
    "print(c)\n",
    "print(c - a)\n",
    "print((c-a).sum(axis = 1))\n",
    "A = (c-a).sum(axis = 1)\n",
    "print(A.argmin(axis = 0))\n",
    "#print(c)"
   ]
  },
  {
   "cell_type": "code",
   "execution_count": 30,
   "metadata": {},
   "outputs": [
    {
     "name": "stdout",
     "output_type": "stream",
     "text": [
      "(6, 4, 3)\n"
     ]
    }
   ],
   "source": [
    "print((a-b).shape)"
   ]
  },
  {
   "cell_type": "code",
   "execution_count": 31,
   "metadata": {},
   "outputs": [
    {
     "name": "stdout",
     "output_type": "stream",
     "text": [
      "[[[ 0  0  0]\n",
      "  [-3 -3 -3]\n",
      "  [-6 -6 -6]\n",
      "  [-9 -9 -9]]\n",
      "\n",
      " [[ 3  3  3]\n",
      "  [ 0  0  0]\n",
      "  [-3 -3 -3]\n",
      "  [-6 -6 -6]]\n",
      "\n",
      " [[ 6  6  6]\n",
      "  [ 3  3  3]\n",
      "  [ 0  0  0]\n",
      "  [-3 -3 -3]]\n",
      "\n",
      " [[ 9  9  9]\n",
      "  [ 6  6  6]\n",
      "  [ 3  3  3]\n",
      "  [ 0  0  0]]\n",
      "\n",
      " [[12 12 12]\n",
      "  [ 9  9  9]\n",
      "  [ 6  6  6]\n",
      "  [ 3  3  3]]\n",
      "\n",
      " [[15 15 15]\n",
      "  [12 12 12]\n",
      "  [ 9  9  9]\n",
      "  [ 6  6  6]]]\n"
     ]
    }
   ],
   "source": [
    "print(a-b)"
   ]
  },
  {
   "cell_type": "code",
   "execution_count": 43,
   "metadata": {},
   "outputs": [
    {
     "data": {
      "text/plain": [
       "array([[  0,  -9, -18, -27],\n",
       "       [  9,   0,  -9, -18],\n",
       "       [ 18,   9,   0,  -9],\n",
       "       [ 27,  18,   9,   0],\n",
       "       [ 36,  27,  18,   9],\n",
       "       [ 45,  36,  27,  18]])"
      ]
     },
     "execution_count": 43,
     "metadata": {},
     "output_type": "execute_result"
    }
   ],
   "source": [
    "M = (a-b).sum(axis = 2)\n",
    "M"
   ]
  },
  {
   "cell_type": "code",
   "execution_count": 48,
   "metadata": {},
   "outputs": [
    {
     "data": {
      "text/plain": [
       "array([0, 0, 0, 0], dtype=int64)"
      ]
     },
     "execution_count": 48,
     "metadata": {},
     "output_type": "execute_result"
    }
   ],
   "source": [
    "M.argmin(axis = 0)"
   ]
  },
  {
   "cell_type": "code",
   "execution_count": 61,
   "metadata": {},
   "outputs": [],
   "source": [
    "def ClassifyImages(train_images, train_labels, test_images):\n",
    "    Tr = train_images.reshape(N_train, 1, 784)\n",
    "    Te = test_images.reshape(1, N_test, 784)\n",
    "    #print((Tr - Te).shape)\n",
    "    DM = np.square(Tr - Te).sum(axis = 2)\n",
    "    #print(DM.shape[0])\n",
    "    index = DM.argmin(axis = 0)\n",
    "    '''print(index.shape)\n",
    "    print(index)\n",
    "    print(train_labels.shape)\n",
    "    print(train_labels)\n",
    "    print(train_labels[index])'''\n",
    "    return train_labels[index]"
   ]
  },
  {
   "cell_type": "code",
   "execution_count": 68,
   "metadata": {},
   "outputs": [
    {
     "name": "stdout",
     "output_type": "stream",
     "text": [
      "(1000, 100, 784)\n",
      "[7 2 1 0 4 1 9 9 4 9 0 6 9 0 1 3]\n",
      "[7 2 1 0 4 1 4 9 5 9 0 6 9 0 1 5]\n"
     ]
    }
   ],
   "source": [
    "test_predicted = ClassifyImages(train_images, train_labels, test_images)\n",
    "print(test_predicted[:16])\n",
    "print(test_labels[:16])"
   ]
  },
  {
   "cell_type": "code",
   "execution_count": 70,
   "metadata": {},
   "outputs": [
    {
     "name": "stdout",
     "output_type": "stream",
     "text": [
      "[ True  True  True  True  True  True False  True False  True  True  True\n",
      "  True  True  True False]\n"
     ]
    }
   ],
   "source": [
    "print((test_predicted[:16] == test_labels[:16]))"
   ]
  },
  {
   "cell_type": "code",
   "execution_count": 69,
   "metadata": {},
   "outputs": [
    {
     "name": "stdout",
     "output_type": "stream",
     "text": [
      "13\n"
     ]
    }
   ],
   "source": [
    "accuracy = (test_predicted[:16] == test_labels[:16]).sum()\n",
    "print(accuracy)"
   ]
  }
 ],
 "metadata": {
  "kernelspec": {
   "display_name": "Python 3",
   "language": "python",
   "name": "python3"
  },
  "language_info": {
   "codemirror_mode": {
    "name": "ipython",
    "version": 3
   },
   "file_extension": ".py",
   "mimetype": "text/x-python",
   "name": "python",
   "nbconvert_exporter": "python",
   "pygments_lexer": "ipython3",
   "version": "3.6.5"
  }
 },
 "nbformat": 4,
 "nbformat_minor": 2
}
